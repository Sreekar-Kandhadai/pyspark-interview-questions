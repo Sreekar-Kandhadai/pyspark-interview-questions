{
  "nbformat": 4,
  "nbformat_minor": 0,
  "metadata": {
    "colab": {
      "provenance": [],
      "authorship_tag": "ABX9TyNkpsYbK9ry0AD8I97aX/PI",
      "include_colab_link": true
    },
    "kernelspec": {
      "name": "python3",
      "display_name": "Python 3"
    },
    "language_info": {
      "name": "python"
    }
  },
  "cells": [
    {
      "cell_type": "markdown",
      "metadata": {
        "id": "view-in-github",
        "colab_type": "text"
      },
      "source": [
        "<a href=\"https://colab.research.google.com/github/Sreekar-Kandhadai/pyspark-interview-questions/blob/main/Imp1.ipynb\" target=\"_parent\"><img src=\"https://colab.research.google.com/assets/colab-badge.svg\" alt=\"Open In Colab\"/></a>"
      ]
    },
    {
      "cell_type": "code",
      "execution_count": null,
      "metadata": {
        "id": "ENOjwjlYWXrx"
      },
      "outputs": [],
      "source": [
        "𝐐𝐮𝐞𝐬𝐭𝐢𝐨𝐧:\n",
        "You are given a dataset of employees with the following columns: name, department,\n",
        "salary, and hire_date. You need to calculate the ROW_NUMBER() partitioned by department and\n",
        "ordered by salary in descending order. Additionally, the employees should be ranked within\n",
        "each department based on their hiring date if their salaries are the same. Add a new column\n",
        "called rank to the DataFrame that contains the calculated row numbers.\n",
        "\n",
        "𝐬𝐜𝐡𝐞𝐦𝐚 𝐚𝐧𝐝 𝐝𝐚𝐭𝐚𝐬𝐞𝐭\n",
        "data = [ (\"John\", \"HR\", 5000, \"2021-05-01\"),\n",
        "(\"Jane\", \"HR\", 6000, \"2022-03-15\"),\n",
        "(\"Sam\", \"Engineering\", 7000, \"2021-06-01\"),\n",
        "(\"Anna\", \"Engineering\", 8000, \"2020-07-01\"),\n",
        "(\"Paul\", \"HR\", 4500, \"2021-05-01\"),\n",
        "(\"Sara\", \"Engineering\", 7000, \"2020-08-01\"),\n",
        "(\"Tom\", \"Engineering\", 7500, \"2021-07-01\") ]\n",
        "\n",
        "Create DataFrame columns = [\"name\", \"department\", \"salary\", \"hire_date\"]\n"
      ]
    },
    {
      "cell_type": "code",
      "source": [
        "\n",
        "from pyspark.sql import SparkSession\n",
        "\n",
        "from pyspark.sql.window import Window\n",
        "\n",
        "from pyspark.sql.functions import *\n",
        "\n",
        "spark=SparkSession.builder.appName('learning').getOrCreate()\n",
        "\n",
        "data=[ (\"John\", \"HR\", 5000, \"2021-05-01\"),\n",
        "(\"Jane\", \"HR\", 6000, \"2022-03-15\"),\n",
        "(\"Sam\", \"Engineering\", 7000, \"2021-06-01\"),\n",
        "(\"Anna\", \"Engineering\", 8000, \"2020-07-01\"),\n",
        "(\"Paul\", \"HR\", 4500, \"2021-05-01\"),\n",
        "(\"Sara\", \"Engineering\", 7000, \"2020-08-01\"),\n",
        "(\"Tom\", \"Engineering\", 7500, \"2021-07-01\") ]\n",
        "\n",
        "schema=[\"name\", \"department\", \"salary\", \"hire_date\"]\n",
        "\n",
        "df=spark.createDataFrame(data,schema)\n",
        "\n",
        "df.show()\n",
        "\n",
        "window_spec=Window.partitionBy('department').orderBy(col('salary').desc(),col('hire_date').asc())\n",
        "\n",
        "\n",
        "\n",
        "df1=df.withColumn('rank',row_number().over(window_spec))\n",
        "\n",
        "df1.show()"
      ],
      "metadata": {
        "colab": {
          "base_uri": "https://localhost:8080/"
        },
        "id": "cqvhjczCXD3O",
        "outputId": "a737f80a-d03c-4e21-a580-e5fb9cea4970"
      },
      "execution_count": 5,
      "outputs": [
        {
          "output_type": "stream",
          "name": "stdout",
          "text": [
            "+----+-----------+------+----------+\n",
            "|name| department|salary| hire_date|\n",
            "+----+-----------+------+----------+\n",
            "|John|         HR|  5000|2021-05-01|\n",
            "|Jane|         HR|  6000|2022-03-15|\n",
            "| Sam|Engineering|  7000|2021-06-01|\n",
            "|Anna|Engineering|  8000|2020-07-01|\n",
            "|Paul|         HR|  4500|2021-05-01|\n",
            "|Sara|Engineering|  7000|2020-08-01|\n",
            "| Tom|Engineering|  7500|2021-07-01|\n",
            "+----+-----------+------+----------+\n",
            "\n",
            "+----+-----------+------+----------+----+\n",
            "|name| department|salary| hire_date|rank|\n",
            "+----+-----------+------+----------+----+\n",
            "|Anna|Engineering|  8000|2020-07-01|   1|\n",
            "| Tom|Engineering|  7500|2021-07-01|   2|\n",
            "|Sara|Engineering|  7000|2020-08-01|   3|\n",
            "| Sam|Engineering|  7000|2021-06-01|   4|\n",
            "|Jane|         HR|  6000|2022-03-15|   1|\n",
            "|John|         HR|  5000|2021-05-01|   2|\n",
            "|Paul|         HR|  4500|2021-05-01|   3|\n",
            "+----+-----------+------+----------+----+\n",
            "\n"
          ]
        }
      ]
    }
  ]
}