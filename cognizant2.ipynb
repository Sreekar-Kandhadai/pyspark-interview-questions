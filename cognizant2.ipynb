{
  "nbformat": 4,
  "nbformat_minor": 0,
  "metadata": {
    "colab": {
      "provenance": [],
      "authorship_tag": "ABX9TyOjnl6Y7OSzZ+bHup7ZNK48",
      "include_colab_link": true
    },
    "kernelspec": {
      "name": "python3",
      "display_name": "Python 3"
    },
    "language_info": {
      "name": "python"
    }
  },
  "cells": [
    {
      "cell_type": "markdown",
      "metadata": {
        "id": "view-in-github",
        "colab_type": "text"
      },
      "source": [
        "<a href=\"https://colab.research.google.com/github/Sreekar-Kandhadai/pyspark-interview-questions/blob/main/cognizant2.ipynb\" target=\"_parent\"><img src=\"https://colab.research.google.com/assets/colab-badge.svg\" alt=\"Open In Colab\"/></a>"
      ]
    },
    {
      "cell_type": "code",
      "execution_count": null,
      "metadata": {
        "id": "gIpWStaGStb7"
      },
      "outputs": [],
      "source": [
        "𝐐𝐮𝐞𝐬𝐭𝐢𝐨𝐧:\n",
        "Analyzing User Activity Logs\n",
        "You are given a dataset of user activity logs. Each log entry contains a user_id, timestamp, and\n",
        "activity_type. The dataset has duplicate entries, and some entries are missing values. You are required to:\n",
        "Deduplicate the dataset.\n",
        "Handle any missing values appropriately.\n",
        "Determine the top 3 most frequent activity_type for each user_id.\n",
        "Calculate the time spent by each user on each activity_type\n",
        "\n",
        "𝐬𝐜𝐡𝐞𝐦𝐚 𝐚𝐧𝐝 𝐝𝐚𝐭𝐚𝐬𝐞𝐭\n",
        "data = [ (\"U1\", \"2024-12-30 10:00:00\", \"LOGIN\"), (\"U1\", \"2024-12-30 10:05:00\", \"BROWSE\"), (\"U1\", \"2024-12-30 10:20:00\", \"LOGOUT\"),\n",
        "        (\"U2\", \"2024-12-30 11:00:00\", \"LOGIN\"), (\"U2\", \"2024-12-30 11:15:00\", \"BROWSE\"), (\"U2\", \"2024-12-30 11:30:00\", \"LOGOUT\"),\n",
        "         (\"U1\", \"2024-12-30 10:20:00\", \"LOGOUT\"), # Duplicate entry (None, \"2024-12-30 12:00:00\", \"LOGIN\"),\n",
        "\n",
        "# Missing user_id (\"U3\", None, \"LOGOUT\") # Missing timestamp ]\n",
        " # Define schema\n",
        "\n",
        "schema = StructType([ StructField(\"user_id\", StringType(), True), StructField(\"timestamp\", StringType(), True), StructField(\"activity_type\", StringType(), True) ])\n"
      ]
    },
    {
      "cell_type": "code",
      "source": [
        "\n",
        "from pyspark.sql import SparkSession\n",
        "\n",
        "from pyspark.sql.functions import *\n",
        "\n",
        "from pyspark.sql.window import Window\n",
        "\n",
        "from pyspark.sql.types import *\n",
        "\n",
        "spark=SparkSession.builder.appName(\"learning\").getOrCreate()\n",
        "\n",
        "data=[ (\"U1\", \"2024-12-30 10:00:00\", \"LOGIN\"), (\"U1\", \"2024-12-30 10:05:00\", \"BROWSE\"), (\"U1\", \"2024-12-30 10:20:00\", \"LOGOUT\"),\n",
        "        (\"U2\", \"2024-12-30 11:00:00\", \"LOGIN\"), (\"U2\", \"2024-12-30 11:15:00\", \"BROWSE\"), (\"U2\", \"2024-12-30 11:30:00\", \"LOGOUT\"),\n",
        "         (\"U1\", \"2024-12-30 10:20:00\", \"LOGOUT\"), (None, \"2024-12-30 12:00:00\", \"LOGIN\") ]\n",
        "\n",
        "schema=StructType([ StructField(\"user_id\", StringType(), True), StructField(\"timestamp\", StringType(), True), StructField(\"activity_type\", StringType(), True) ])\n",
        "\n",
        "df=spark.createDataFrame(data,schema).dropDuplicates()\n",
        "\n",
        "df=df.dropna(subset=['user_id','timestamp','activity_type']).withColumn('timestamp',col('timestamp').cast(TimestampType()))\n",
        "\n",
        "#df=df.dropna(subset=['user_id','timestamp','activity_type']).withColumn('timestamp',to_timestamp(col('timestamp')))\n",
        "\n",
        "df.printSchema()\n",
        "\n",
        "df.show()\n",
        "\n",
        "window_spec=Window.partitionBy('user_id').orderBy(col('count').desc())\n",
        "\n",
        "df1=df.groupBy('user_id','activity_type').count().withColumn('rank',row_number().over(window_spec)).filter(col('rank')<=3)\n",
        "\n",
        "\n",
        "df1.show()\n",
        "\n",
        "window_spec=Window.partitionBy('user_id').orderBy('timestamp')\n",
        "\n",
        "df2=df.withColumn('next_timestamp',lag('timestamp').over(window_spec))\n",
        "\n",
        "df3=df2.withColumn('time_spent',(col('next_timestamp').cast('long')-col('timestamp').cast('long')).cast('double')/60)\n",
        "\n",
        "df3.show()\n",
        "\n",
        "df4=df3.groupBy('user_id','activity_type').agg(sum('time_spent'))\n",
        "\n",
        "df4.show()"
      ],
      "metadata": {
        "colab": {
          "base_uri": "https://localhost:8080/"
        },
        "id": "09OuNa-rS5HP",
        "outputId": "5cc2553f-e889-4531-a3ae-315157f5091f"
      },
      "execution_count": 20,
      "outputs": [
        {
          "output_type": "stream",
          "name": "stdout",
          "text": [
            "root\n",
            " |-- user_id: string (nullable = true)\n",
            " |-- timestamp: timestamp (nullable = true)\n",
            " |-- activity_type: string (nullable = true)\n",
            "\n",
            "+-------+-------------------+-------------+\n",
            "|user_id|          timestamp|activity_type|\n",
            "+-------+-------------------+-------------+\n",
            "|     U1|2024-12-30 10:05:00|       BROWSE|\n",
            "|     U2|2024-12-30 11:00:00|        LOGIN|\n",
            "|     U1|2024-12-30 10:20:00|       LOGOUT|\n",
            "|     U1|2024-12-30 10:00:00|        LOGIN|\n",
            "|     U2|2024-12-30 11:15:00|       BROWSE|\n",
            "|     U2|2024-12-30 11:30:00|       LOGOUT|\n",
            "+-------+-------------------+-------------+\n",
            "\n",
            "+-------+-------------+-----+----+\n",
            "|user_id|activity_type|count|rank|\n",
            "+-------+-------------+-----+----+\n",
            "|     U1|       BROWSE|    1|   1|\n",
            "|     U1|       LOGOUT|    1|   2|\n",
            "|     U1|        LOGIN|    1|   3|\n",
            "|     U2|       BROWSE|    1|   1|\n",
            "|     U2|        LOGIN|    1|   2|\n",
            "|     U2|       LOGOUT|    1|   3|\n",
            "+-------+-------------+-----+----+\n",
            "\n",
            "+-------+-------------------+-------------+-------------------+----------+\n",
            "|user_id|          timestamp|activity_type|     next_timestamp|time_spent|\n",
            "+-------+-------------------+-------------+-------------------+----------+\n",
            "|     U1|2024-12-30 10:00:00|        LOGIN|               NULL|      NULL|\n",
            "|     U1|2024-12-30 10:05:00|       BROWSE|2024-12-30 10:00:00|      -5.0|\n",
            "|     U1|2024-12-30 10:20:00|       LOGOUT|2024-12-30 10:05:00|     -15.0|\n",
            "|     U2|2024-12-30 11:00:00|        LOGIN|               NULL|      NULL|\n",
            "|     U2|2024-12-30 11:15:00|       BROWSE|2024-12-30 11:00:00|     -15.0|\n",
            "|     U2|2024-12-30 11:30:00|       LOGOUT|2024-12-30 11:15:00|     -15.0|\n",
            "+-------+-------------------+-------------+-------------------+----------+\n",
            "\n",
            "+-------+-------------+---------------+\n",
            "|user_id|activity_type|sum(time_spent)|\n",
            "+-------+-------------+---------------+\n",
            "|     U1|        LOGIN|           NULL|\n",
            "|     U1|       BROWSE|           -5.0|\n",
            "|     U1|       LOGOUT|          -15.0|\n",
            "|     U2|        LOGIN|           NULL|\n",
            "|     U2|       BROWSE|          -15.0|\n",
            "|     U2|       LOGOUT|          -15.0|\n",
            "+-------+-------------+---------------+\n",
            "\n"
          ]
        }
      ]
    }
  ]
}