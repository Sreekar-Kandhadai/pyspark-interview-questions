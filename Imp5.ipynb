{
  "nbformat": 4,
  "nbformat_minor": 0,
  "metadata": {
    "colab": {
      "provenance": [],
      "authorship_tag": "ABX9TyMXR6LhSogBLlvB+nej5K7X",
      "include_colab_link": true
    },
    "kernelspec": {
      "name": "python3",
      "display_name": "Python 3"
    },
    "language_info": {
      "name": "python"
    }
  },
  "cells": [
    {
      "cell_type": "markdown",
      "metadata": {
        "id": "view-in-github",
        "colab_type": "text"
      },
      "source": [
        "<a href=\"https://colab.research.google.com/github/Sreekar-Kandhadai/pyspark-interview-questions/blob/main/Imp5.ipynb\" target=\"_parent\"><img src=\"https://colab.research.google.com/assets/colab-badge.svg\" alt=\"Open In Colab\"/></a>"
      ]
    },
    {
      "cell_type": "code",
      "execution_count": null,
      "metadata": {
        "id": "vxnxIKtJd5LG"
      },
      "outputs": [],
      "source": [
        "𝐐𝐮𝐞𝐬𝐭𝐢𝐨𝐧:\n",
        "You have a dataset of transactions with the following fields:\n",
        "transaction_id (integer): Unique ID for each transaction.\n",
        "user_id (integer): ID of the user performing the transaction.\n",
        "transaction_amount (float): Amount of the transaction.\n",
        "transaction_date (string): Date of the transaction in yyyy-MM-dd format.\n",
        "From this dataset, perform the following operations:\n",
        "Identify users who have made transactions on at least 3 different dates.\n",
        "For these users, calculate their average transaction amount.\n",
        "\n",
        "𝐬𝐜𝐡𝐞𝐦𝐚 𝐚𝐧𝐝 𝐝𝐚𝐭𝐚𝐬𝐞𝐭\n",
        "data = [\n",
        " (1, 101, 500.0, \"2024-01-01\"),\n",
        " (2, 102, 200.0, \"2024-01-02\"),\n",
        " (3, 101, 300.0, \"2024-01-03\"),\n",
        " (4, 103, 100.0, \"2024-01-04\"),\n",
        " (5, 102, 400.0, \"2024-01-05\"),\n",
        " (6, 103, 600.0, \"2024-01-06\"),\n",
        " (7, 101, 200.0, \"2024-01-07\"),\n",
        "]\n",
        "columns = [\"transaction_id\", \"user_id\", \"transaction_amount\", \"transaction_date\"]\n"
      ]
    },
    {
      "cell_type": "code",
      "source": [
        "from pyspark.sql import SparkSession\n",
        "\n",
        "from pyspark.sql.window import Window\n",
        "\n",
        "from pyspark.sql.functions import *\n",
        "\n",
        "spark=SparkSession.builder.appName('learning').getOrCreate()\n",
        "\n",
        "data= [\n",
        " (1, 101, 500.0, \"2024-01-01\"),\n",
        " (2, 102, 200.0, \"2024-01-02\"),\n",
        " (3, 101, 300.0, \"2024-01-03\"),\n",
        " (4, 103, 100.0, \"2024-01-04\"),\n",
        " (5, 102, 400.0, \"2024-01-05\"),\n",
        " (6, 103, 600.0, \"2024-01-06\"),\n",
        " (7, 101, 200.0, \"2024-01-07\"),\n",
        "]\n",
        "\n",
        "schema=[\"transaction_id\", \"user_id\", \"transaction_amount\", \"transaction_date\"]\n",
        "\n",
        "df=spark.createDataFrame(data,schema)\n",
        "\n",
        "df.show()\n",
        "\n",
        "df1=df.groupBy('user_id').agg(countDistinct('transaction_date').alias('distinctdatecount'))\n",
        "\n",
        "df1.show()\n",
        "\n",
        "df2=df1.filter(col('distinctdatecount')>=3).withColumnRenamed('user_id','cust_id')\n",
        "\n",
        "df2.show()\n",
        "\n",
        "df3=df2.join(df,col('cust_id')==col('user_id'),\"inner\")\n",
        "\n",
        "df3.show()\n",
        "\n",
        "df4=df3.groupBy('user_id').agg(avg('transaction_amount').alias('avg_amount'))\n",
        "\n",
        "df4.show()\n",
        "\n"
      ],
      "metadata": {
        "colab": {
          "base_uri": "https://localhost:8080/"
        },
        "id": "VI7FNiQ2eI8L",
        "outputId": "6da54ed2-b92c-4ba3-a201-bad2a13bf767"
      },
      "execution_count": 5,
      "outputs": [
        {
          "output_type": "stream",
          "name": "stdout",
          "text": [
            "+--------------+-------+------------------+----------------+\n",
            "|transaction_id|user_id|transaction_amount|transaction_date|\n",
            "+--------------+-------+------------------+----------------+\n",
            "|             1|    101|             500.0|      2024-01-01|\n",
            "|             2|    102|             200.0|      2024-01-02|\n",
            "|             3|    101|             300.0|      2024-01-03|\n",
            "|             4|    103|             100.0|      2024-01-04|\n",
            "|             5|    102|             400.0|      2024-01-05|\n",
            "|             6|    103|             600.0|      2024-01-06|\n",
            "|             7|    101|             200.0|      2024-01-07|\n",
            "+--------------+-------+------------------+----------------+\n",
            "\n",
            "+-------+-----------------+\n",
            "|user_id|distinctdatecount|\n",
            "+-------+-----------------+\n",
            "|    103|                2|\n",
            "|    101|                3|\n",
            "|    102|                2|\n",
            "+-------+-----------------+\n",
            "\n",
            "+-------+-----------------+\n",
            "|cust_id|distinctdatecount|\n",
            "+-------+-----------------+\n",
            "|    101|                3|\n",
            "+-------+-----------------+\n",
            "\n",
            "+-------+-----------------+--------------+-------+------------------+----------------+\n",
            "|cust_id|distinctdatecount|transaction_id|user_id|transaction_amount|transaction_date|\n",
            "+-------+-----------------+--------------+-------+------------------+----------------+\n",
            "|    101|                3|             1|    101|             500.0|      2024-01-01|\n",
            "|    101|                3|             3|    101|             300.0|      2024-01-03|\n",
            "|    101|                3|             7|    101|             200.0|      2024-01-07|\n",
            "+-------+-----------------+--------------+-------+------------------+----------------+\n",
            "\n",
            "+-------+-----------------+\n",
            "|user_id|       avg_amount|\n",
            "+-------+-----------------+\n",
            "|    101|333.3333333333333|\n",
            "+-------+-----------------+\n",
            "\n"
          ]
        }
      ]
    }
  ]
}