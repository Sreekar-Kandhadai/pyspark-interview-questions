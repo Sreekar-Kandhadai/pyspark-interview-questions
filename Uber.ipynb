{
  "nbformat": 4,
  "nbformat_minor": 0,
  "metadata": {
    "colab": {
      "provenance": [],
      "authorship_tag": "ABX9TyO1qiPPswM25sFSFFJ/KQ8+",
      "include_colab_link": true
    },
    "kernelspec": {
      "name": "python3",
      "display_name": "Python 3"
    },
    "language_info": {
      "name": "python"
    }
  },
  "cells": [
    {
      "cell_type": "markdown",
      "metadata": {
        "id": "view-in-github",
        "colab_type": "text"
      },
      "source": [
        "<a href=\"https://colab.research.google.com/github/Sreekar-Kandhadai/pyspark-interview-questions/blob/main/Uber.ipynb\" target=\"_parent\"><img src=\"https://colab.research.google.com/assets/colab-badge.svg\" alt=\"Open In Colab\"/></a>"
      ]
    },
    {
      "cell_type": "code",
      "execution_count": null,
      "metadata": {
        "id": "DNnrP6hg16Es"
      },
      "outputs": [],
      "source": [
        "Problem Statement\n",
        "Let's Imagine we are working at Uber, and our task is to determine the most profitable location based on signup duration and transaction amounts.\n",
        "We are provided with two datasets: one containing signup details (including start and stop times) and another containing transaction details\n",
        " (such as amounts).\n",
        "\n",
        "Our goal is to calculate:\n",
        "The average signup duration in minutes for each location.\n",
        "The average transaction amount for each location.\n",
        "The ratio of the average transaction amount to the average signup duration.\n",
        "Sort the results by the highest ratio to identify the most profitable location."
      ]
    },
    {
      "cell_type": "code",
      "source": [
        "from pyspark.sql import SparkSession\n",
        "\n",
        "from pyspark.sql.functions import *\n",
        "\n",
        "spark=SparkSession.builder.appName(\"uber\").getOrCreate()\n",
        "\n",
        "data_signups = [\n",
        "    (1, '2020-01-01 10:00:00', '2020-01-01 12:00:00', 101, 'New York'),\n",
        "    (2, '2020-01-02 11:00:00', '2020-01-02 13:00:00', 102, 'Los Angeles'),\n",
        "    (3, '2020-01-03 10:00:00', '2020-01-03 14:00:00', 103, 'Chicago'),\n",
        "    (4, '2020-01-04 09:00:00', '2020-01-04 10:30:00', 101, 'San Francisco'),\n",
        "    (5, '2020-01-05 08:00:00', '2020-01-05 11:00:00', 102, 'New York')\n",
        "]\n",
        "\n",
        "data_transactions = [\n",
        "    (1, 1, '2020-01-01 10:30:00', 50.00),\n",
        "    (2, 1, '2020-01-01 11:00:00', 30.00),\n",
        "    (3, 2, '2020-01-02 11:30:00', 100.00),\n",
        "    (4, 2, '2020-01-02 12:00:00', 75.00),\n",
        "    (5, 3, '2020-01-03 10:30:00', 120.00),\n",
        "    (6, 4, '2020-01-04 09:15:00', 80.00),\n",
        "    (7, 5, '2020-01-05 08:30:00', 90.00)\n",
        "]\n",
        "\n",
        "\n",
        "columns_signups = [\"signup_id\", \"signup_start_date\", \"signup_stop_date\", \"plan_id\", \"location\"]\n",
        "signups_df = spark.createDataFrame(data_signups, columns_signups)\n",
        "\n",
        "signups_df.show()\n",
        "\n",
        "\n",
        "columns_transactions = [\"transaction_id\", \"signup_id\", \"transaction_start_date\", \"amt\"]\n",
        "transactions_df = spark.createDataFrame(data_transactions, columns_transactions)\n",
        "\n",
        "transactions_df.show()\n",
        "\n",
        "signups_df=signups_df.withColumn(\"signup_duration_minutes\",(unix_timestamp(col('signup_stop_date'))-unix_timestamp(col('signup_start_date')))/60)\n",
        "\n",
        "signups_df.show()\n",
        "\n",
        "transaction_avg_df=transactions_df.groupBy('signup_id').agg(avg('amt').alias('avg_transaction_amt'))\n",
        "\n",
        "transaction_avg_df.show()\n",
        "\n",
        "joined_df=signups_df.join(transaction_avg_df,\"signup_id\",\"inner\")\n",
        "\n",
        "joined_df.show()\n",
        "\n",
        "result_df=joined_df.groupBy('location').agg(avg('signup_duration_minutes').alias('avg_signup_duration'),avg('avg_transaction_amt').alias('avg_transaction_amt'))\n",
        "\n",
        "result_df.show()\n",
        "\n",
        "result_df=result_df.withColumn('ratio',when(col('avg_signup_duration')!=0 ,col('avg_transaction_amt')/col('avg_signup_duration')).otherwise(0)).orderBy(col('ratio').desc())\n",
        "\n",
        "result_df.show()"
      ],
      "metadata": {
        "colab": {
          "base_uri": "https://localhost:8080/"
        },
        "id": "6c7seKcm4qaI",
        "outputId": "20bf3cee-bfe4-439e-a486-59b3a94f1ad9"
      },
      "execution_count": 5,
      "outputs": [
        {
          "output_type": "stream",
          "name": "stdout",
          "text": [
            "+---------+-------------------+-------------------+-------+-------------+\n",
            "|signup_id|  signup_start_date|   signup_stop_date|plan_id|     location|\n",
            "+---------+-------------------+-------------------+-------+-------------+\n",
            "|        1|2020-01-01 10:00:00|2020-01-01 12:00:00|    101|     New York|\n",
            "|        2|2020-01-02 11:00:00|2020-01-02 13:00:00|    102|  Los Angeles|\n",
            "|        3|2020-01-03 10:00:00|2020-01-03 14:00:00|    103|      Chicago|\n",
            "|        4|2020-01-04 09:00:00|2020-01-04 10:30:00|    101|San Francisco|\n",
            "|        5|2020-01-05 08:00:00|2020-01-05 11:00:00|    102|     New York|\n",
            "+---------+-------------------+-------------------+-------+-------------+\n",
            "\n",
            "+--------------+---------+----------------------+-----+\n",
            "|transaction_id|signup_id|transaction_start_date|  amt|\n",
            "+--------------+---------+----------------------+-----+\n",
            "|             1|        1|   2020-01-01 10:30:00| 50.0|\n",
            "|             2|        1|   2020-01-01 11:00:00| 30.0|\n",
            "|             3|        2|   2020-01-02 11:30:00|100.0|\n",
            "|             4|        2|   2020-01-02 12:00:00| 75.0|\n",
            "|             5|        3|   2020-01-03 10:30:00|120.0|\n",
            "|             6|        4|   2020-01-04 09:15:00| 80.0|\n",
            "|             7|        5|   2020-01-05 08:30:00| 90.0|\n",
            "+--------------+---------+----------------------+-----+\n",
            "\n",
            "+---------+-------------------+-------------------+-------+-------------+-----------------------+\n",
            "|signup_id|  signup_start_date|   signup_stop_date|plan_id|     location|signup_duration_minutes|\n",
            "+---------+-------------------+-------------------+-------+-------------+-----------------------+\n",
            "|        1|2020-01-01 10:00:00|2020-01-01 12:00:00|    101|     New York|                  120.0|\n",
            "|        2|2020-01-02 11:00:00|2020-01-02 13:00:00|    102|  Los Angeles|                  120.0|\n",
            "|        3|2020-01-03 10:00:00|2020-01-03 14:00:00|    103|      Chicago|                  240.0|\n",
            "|        4|2020-01-04 09:00:00|2020-01-04 10:30:00|    101|San Francisco|                   90.0|\n",
            "|        5|2020-01-05 08:00:00|2020-01-05 11:00:00|    102|     New York|                  180.0|\n",
            "+---------+-------------------+-------------------+-------+-------------+-----------------------+\n",
            "\n",
            "+---------+-------------------+\n",
            "|signup_id|avg_transaction_amt|\n",
            "+---------+-------------------+\n",
            "|        1|               40.0|\n",
            "|        2|               87.5|\n",
            "|        5|               90.0|\n",
            "|        3|              120.0|\n",
            "|        4|               80.0|\n",
            "+---------+-------------------+\n",
            "\n",
            "+---------+-------------------+-------------------+-------+-------------+-----------------------+-------------------+\n",
            "|signup_id|  signup_start_date|   signup_stop_date|plan_id|     location|signup_duration_minutes|avg_transaction_amt|\n",
            "+---------+-------------------+-------------------+-------+-------------+-----------------------+-------------------+\n",
            "|        1|2020-01-01 10:00:00|2020-01-01 12:00:00|    101|     New York|                  120.0|               40.0|\n",
            "|        2|2020-01-02 11:00:00|2020-01-02 13:00:00|    102|  Los Angeles|                  120.0|               87.5|\n",
            "|        5|2020-01-05 08:00:00|2020-01-05 11:00:00|    102|     New York|                  180.0|               90.0|\n",
            "|        3|2020-01-03 10:00:00|2020-01-03 14:00:00|    103|      Chicago|                  240.0|              120.0|\n",
            "|        4|2020-01-04 09:00:00|2020-01-04 10:30:00|    101|San Francisco|                   90.0|               80.0|\n",
            "+---------+-------------------+-------------------+-------+-------------+-----------------------+-------------------+\n",
            "\n",
            "+-------------+-------------------+-------------------+\n",
            "|     location|avg_signup_duration|avg_transaction_amt|\n",
            "+-------------+-------------------+-------------------+\n",
            "|  Los Angeles|              120.0|               87.5|\n",
            "|San Francisco|               90.0|               80.0|\n",
            "|      Chicago|              240.0|              120.0|\n",
            "|     New York|              150.0|               65.0|\n",
            "+-------------+-------------------+-------------------+\n",
            "\n",
            "+-------------+-------------------+-------------------+-------------------+\n",
            "|     location|avg_signup_duration|avg_transaction_amt|              ratio|\n",
            "+-------------+-------------------+-------------------+-------------------+\n",
            "|San Francisco|               90.0|               80.0| 0.8888888888888888|\n",
            "|  Los Angeles|              120.0|               87.5| 0.7291666666666666|\n",
            "|      Chicago|              240.0|              120.0|                0.5|\n",
            "|     New York|              150.0|               65.0|0.43333333333333335|\n",
            "+-------------+-------------------+-------------------+-------------------+\n",
            "\n"
          ]
        }
      ]
    }
  ]
}