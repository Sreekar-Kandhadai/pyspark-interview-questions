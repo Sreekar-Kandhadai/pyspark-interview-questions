{
  "nbformat": 4,
  "nbformat_minor": 0,
  "metadata": {
    "colab": {
      "provenance": [],
      "authorship_tag": "ABX9TyNpEDuFBGyHIeImpQDDjs2l",
      "include_colab_link": true
    },
    "kernelspec": {
      "name": "python3",
      "display_name": "Python 3"
    },
    "language_info": {
      "name": "python"
    }
  },
  "cells": [
    {
      "cell_type": "markdown",
      "metadata": {
        "id": "view-in-github",
        "colab_type": "text"
      },
      "source": [
        "<a href=\"https://colab.research.google.com/github/Sreekar-Kandhadai/pyspark-interview-questions/blob/main/HoneyWell.ipynb\" target=\"_parent\"><img src=\"https://colab.research.google.com/assets/colab-badge.svg\" alt=\"Open In Colab\"/></a>"
      ]
    },
    {
      "cell_type": "code",
      "execution_count": null,
      "metadata": {
        "id": "DJ1TWwmyKvU6"
      },
      "outputs": [],
      "source": [
        "𝐐𝐮𝐞𝐬𝐭𝐢𝐨𝐧\n",
        "You are given a dataset containing sales data for an e-commerce platform. The dataset includes the following columns:\n",
        "\n",
        "Category (String): The product category.\n",
        "Product (String): The product name.\n",
        "Sales (Float): The total sales amount for the product.\n",
        "Quantity (Integer): The number of items sold.\n",
        "\n",
        "Perform the following tasks using PySpark:\n",
        "Group the data by Category.\n",
        "Calculate the total sales (sum of Sales) for each category.\n",
        "Calculate the average quantity (avg of Quantity) sold for each category.\n",
        "Find the maximum sales (max of Sales) for each category.\n",
        "\n",
        "𝐬𝐜𝐡𝐞𝐦𝐚\n",
        "data = [ (\"Electronics\", \"Laptop\", 800.0, 5),\n",
        "(\"Electronics\", \"Smartphone\", 500.0, 8),\n",
        "(\"Electronics\", \"Tablet\", 300.0, 4),\n",
        "(\"Furniture\", \"Chair\", 150.0, 10),\n",
        "(\"Furniture\", \"Desk\", 400.0, 2),\n",
        "(\"Furniture\", \"Shelf\", 200.0, 3),\n",
        "(\"Clothing\", \"T-Shirt\", 50.0, 20),\n",
        "(\"Clothing\", \"Jeans\", 100.0, 15), ]\n",
        "\n",
        "columns = [\"Category\", \"Product\", \"Sales\", \"Quantity\"]"
      ]
    },
    {
      "cell_type": "code",
      "source": [
        "from pyspark.sql import SparkSession\n",
        "\n",
        "from pyspark.sql.functions import *\n",
        "\n",
        "spark=SparkSession.builder.appName(\"learning\").getOrCreate()\n",
        "\n",
        "data = [ (\"Electronics\", \"Laptop\", 800.0, 5),\n",
        "(\"Electronics\", \"Smartphone\", 500.0, 8),\n",
        "(\"Electronics\", \"Tablet\", 300.0, 4),\n",
        "(\"Furniture\", \"Chair\", 150.0, 10),\n",
        "(\"Furniture\", \"Desk\", 400.0, 2),\n",
        "(\"Furniture\", \"Shelf\", 200.0, 3),\n",
        "(\"Clothing\", \"T-Shirt\", 50.0, 20),\n",
        "(\"Clothing\", \"Jeans\", 100.0, 15), ]\n",
        "\n",
        "schema=[\"Category\", \"Product\", \"Sales\", \"Quantity\"]\n",
        "\n",
        "df=spark.createDataFrame(data,schema)\n",
        "\n",
        "df.show()\n",
        "\n",
        "df1=df.groupBy('Category').agg(sum('Sales').alias('total_sales'),avg('Quantity').alias('avg_quantity'),max('Sales').alias('max_sales'))\n",
        "\n",
        "df1.show()\n",
        "\n"
      ],
      "metadata": {
        "colab": {
          "base_uri": "https://localhost:8080/"
        },
        "id": "ifaZGeH4K8O4",
        "outputId": "c1c6e3c0-8002-4e23-cc23-b16dbd8d92b9"
      },
      "execution_count": 3,
      "outputs": [
        {
          "output_type": "stream",
          "name": "stdout",
          "text": [
            "+-----------+----------+-----+--------+\n",
            "|   Category|   Product|Sales|Quantity|\n",
            "+-----------+----------+-----+--------+\n",
            "|Electronics|    Laptop|800.0|       5|\n",
            "|Electronics|Smartphone|500.0|       8|\n",
            "|Electronics|    Tablet|300.0|       4|\n",
            "|  Furniture|     Chair|150.0|      10|\n",
            "|  Furniture|      Desk|400.0|       2|\n",
            "|  Furniture|     Shelf|200.0|       3|\n",
            "|   Clothing|   T-Shirt| 50.0|      20|\n",
            "|   Clothing|     Jeans|100.0|      15|\n",
            "+-----------+----------+-----+--------+\n",
            "\n",
            "+-----------+-----------+-----------------+---------+\n",
            "|   Category|total_sales|     avg_quantity|max_sales|\n",
            "+-----------+-----------+-----------------+---------+\n",
            "|Electronics|     1600.0|5.666666666666667|    800.0|\n",
            "|  Furniture|      750.0|              5.0|    400.0|\n",
            "|   Clothing|      150.0|             17.5|    100.0|\n",
            "+-----------+-----------+-----------------+---------+\n",
            "\n"
          ]
        }
      ]
    }
  ]
}