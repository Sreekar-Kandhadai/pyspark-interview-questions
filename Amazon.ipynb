{
  "nbformat": 4,
  "nbformat_minor": 0,
  "metadata": {
    "colab": {
      "provenance": [],
      "authorship_tag": "ABX9TyPf7V6mqqzjZ7IEvrr93DTy",
      "include_colab_link": true
    },
    "kernelspec": {
      "name": "python3",
      "display_name": "Python 3"
    },
    "language_info": {
      "name": "python"
    }
  },
  "cells": [
    {
      "cell_type": "markdown",
      "metadata": {
        "id": "view-in-github",
        "colab_type": "text"
      },
      "source": [
        "<a href=\"https://colab.research.google.com/github/Sreekar-Kandhadai/pyspark-interview-questions/blob/main/Amazon.ipynb\" target=\"_parent\"><img src=\"https://colab.research.google.com/assets/colab-badge.svg\" alt=\"Open In Colab\"/></a>"
      ]
    },
    {
      "cell_type": "code",
      "execution_count": null,
      "metadata": {
        "id": "UgnBscHC79Li"
      },
      "outputs": [],
      "source": [
        "We are given a table called customer_state_log containing the following columns:\n",
        "\n",
        "cust_id: The ID of the customer.\n",
        "state: The state of the session, where 1 indicates the session is active and 0\n",
        "indicates the session has ended.\n",
        "timestamp: The timestamp when the state change occurred.\n",
        "\n",
        "Our task is to calculate how many hours each user was active during the day based on the state transitions.\n"
      ]
    },
    {
      "cell_type": "code",
      "source": [
        "from pyspark.sql import SparkSession\n",
        "\n",
        "from pyspark.sql.functions import *\n",
        "\n",
        "from pyspark.sql.window import Window\n",
        "\n",
        "spark=SparkSession.builder.appName(\"learning\").getOrCreate()\n",
        "\n",
        "data = [\n",
        "    ('c001', 1, '07:00:00'),\n",
        "    ('c001', 0, '09:30:00'),\n",
        "    ('c001', 1, '12:00:00'),\n",
        "    ('c001', 0, '14:30:00'),\n",
        "    ('c002', 1, '08:00:00'),\n",
        "    ('c002', 0, '09:30:00'),\n",
        "    ('c002', 1, '11:00:00'),\n",
        "    ('c002', 0, '12:30:00'),\n",
        "    ('c002', 1, '15:00:00'),\n",
        "    ('c002', 0, '16:30:00'),\n",
        "    ('c003', 1, '09:00:00'),\n",
        "    ('c003', 0, '10:30:00'),\n",
        "    ('c004', 1, '10:00:00'),\n",
        "    ('c004', 0, '10:30:00'),\n",
        "    ('c004', 1, '14:00:00'),\n",
        "    ('c004', 0, '15:30:00'),\n",
        "    ('c005', 1, '10:00:00'),\n",
        "    ('c005', 0, '14:30:00'),\n",
        "    ('c005', 1, '15:30:00'),\n",
        "    ('c005', 0, '18:30:00')\n",
        "]\n",
        "\n",
        "columns = [\"cust_id\", \"state\", \"timestamp\"]\n",
        "\n",
        "df=spark.createDataFrame(data,columns).withColumn(\"timestamp\",col('timestamp').cast(\"timestamp\"))\n",
        "\n",
        "df.show()\n",
        "\n",
        "window_spec=Window.partitionBy('cust_id').orderBy('timestamp')\n",
        "\n",
        "df1=df.withColumn(\"next_timestamp\",lead('timestamp').over(window_spec))\n",
        "\n",
        "df1.show()\n",
        "\n",
        "time_diff=((unix_timestamp(col('next_timestamp')))- (unix_timestamp(col('timestamp'))))/3600\n",
        "\n",
        "df2=df1.filter(\"state==1\").groupBy('cust_id').agg(sum(time_diff).alias('total_active_hours'))\n",
        "\n",
        "df2.show()"
      ],
      "metadata": {
        "colab": {
          "base_uri": "https://localhost:8080/"
        },
        "id": "rCjU-5EN8HYB",
        "outputId": "78f2816e-8597-46eb-8006-9d20d37dc717"
      },
      "execution_count": 10,
      "outputs": [
        {
          "output_type": "stream",
          "name": "stdout",
          "text": [
            "+-------+-----+-------------------+\n",
            "|cust_id|state|          timestamp|\n",
            "+-------+-----+-------------------+\n",
            "|   c001|    1|2025-02-01 07:00:00|\n",
            "|   c001|    0|2025-02-01 09:30:00|\n",
            "|   c001|    1|2025-02-01 12:00:00|\n",
            "|   c001|    0|2025-02-01 14:30:00|\n",
            "|   c002|    1|2025-02-01 08:00:00|\n",
            "|   c002|    0|2025-02-01 09:30:00|\n",
            "|   c002|    1|2025-02-01 11:00:00|\n",
            "|   c002|    0|2025-02-01 12:30:00|\n",
            "|   c002|    1|2025-02-01 15:00:00|\n",
            "|   c002|    0|2025-02-01 16:30:00|\n",
            "|   c003|    1|2025-02-01 09:00:00|\n",
            "|   c003|    0|2025-02-01 10:30:00|\n",
            "|   c004|    1|2025-02-01 10:00:00|\n",
            "|   c004|    0|2025-02-01 10:30:00|\n",
            "|   c004|    1|2025-02-01 14:00:00|\n",
            "|   c004|    0|2025-02-01 15:30:00|\n",
            "|   c005|    1|2025-02-01 10:00:00|\n",
            "|   c005|    0|2025-02-01 14:30:00|\n",
            "|   c005|    1|2025-02-01 15:30:00|\n",
            "|   c005|    0|2025-02-01 18:30:00|\n",
            "+-------+-----+-------------------+\n",
            "\n",
            "+-------+-----+-------------------+-------------------+\n",
            "|cust_id|state|          timestamp|     next_timestamp|\n",
            "+-------+-----+-------------------+-------------------+\n",
            "|   c001|    1|2025-02-01 07:00:00|2025-02-01 09:30:00|\n",
            "|   c001|    0|2025-02-01 09:30:00|2025-02-01 12:00:00|\n",
            "|   c001|    1|2025-02-01 12:00:00|2025-02-01 14:30:00|\n",
            "|   c001|    0|2025-02-01 14:30:00|               NULL|\n",
            "|   c002|    1|2025-02-01 08:00:00|2025-02-01 09:30:00|\n",
            "|   c002|    0|2025-02-01 09:30:00|2025-02-01 11:00:00|\n",
            "|   c002|    1|2025-02-01 11:00:00|2025-02-01 12:30:00|\n",
            "|   c002|    0|2025-02-01 12:30:00|2025-02-01 15:00:00|\n",
            "|   c002|    1|2025-02-01 15:00:00|2025-02-01 16:30:00|\n",
            "|   c002|    0|2025-02-01 16:30:00|               NULL|\n",
            "|   c003|    1|2025-02-01 09:00:00|2025-02-01 10:30:00|\n",
            "|   c003|    0|2025-02-01 10:30:00|               NULL|\n",
            "|   c004|    1|2025-02-01 10:00:00|2025-02-01 10:30:00|\n",
            "|   c004|    0|2025-02-01 10:30:00|2025-02-01 14:00:00|\n",
            "|   c004|    1|2025-02-01 14:00:00|2025-02-01 15:30:00|\n",
            "|   c004|    0|2025-02-01 15:30:00|               NULL|\n",
            "|   c005|    1|2025-02-01 10:00:00|2025-02-01 14:30:00|\n",
            "|   c005|    0|2025-02-01 14:30:00|2025-02-01 15:30:00|\n",
            "|   c005|    1|2025-02-01 15:30:00|2025-02-01 18:30:00|\n",
            "|   c005|    0|2025-02-01 18:30:00|               NULL|\n",
            "+-------+-----+-------------------+-------------------+\n",
            "\n",
            "+-------+------------------+\n",
            "|cust_id|total_active_hours|\n",
            "+-------+------------------+\n",
            "|   c001|               5.0|\n",
            "|   c002|               4.5|\n",
            "|   c003|               1.5|\n",
            "|   c004|               2.0|\n",
            "|   c005|               7.5|\n",
            "+-------+------------------+\n",
            "\n"
          ]
        }
      ]
    }
  ]
}