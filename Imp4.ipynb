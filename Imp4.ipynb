{
  "nbformat": 4,
  "nbformat_minor": 0,
  "metadata": {
    "colab": {
      "provenance": [],
      "authorship_tag": "ABX9TyOmO4VLhUIi6KP9IwCjrVoH",
      "include_colab_link": true
    },
    "kernelspec": {
      "name": "python3",
      "display_name": "Python 3"
    },
    "language_info": {
      "name": "python"
    }
  },
  "cells": [
    {
      "cell_type": "markdown",
      "metadata": {
        "id": "view-in-github",
        "colab_type": "text"
      },
      "source": [
        "<a href=\"https://colab.research.google.com/github/Sreekar-Kandhadai/pyspark-interview-questions/blob/main/Imp4.ipynb\" target=\"_parent\"><img src=\"https://colab.research.google.com/assets/colab-badge.svg\" alt=\"Open In Colab\"/></a>"
      ]
    },
    {
      "cell_type": "code",
      "execution_count": null,
      "metadata": {
        "id": "dTbzo7aWW5zI"
      },
      "outputs": [],
      "source": [
        "You have a dataset of transactions with the following fields:\n",
        "transaction_id (integer): Unique ID for each transaction.\n",
        "user_id (integer): ID of the user performing the transaction.\n",
        "transaction_amount (float): Amount of the transaction.\n",
        "transaction_date (string): Date of the transaction in yyyy-MM-dd format.\n",
        "From this dataset, perform the following operations:\n",
        "\n",
        "For each user, calculate the average gap in days between consecutive transactions.\n",
        "Identify the user with the largest average gap.\n",
        "\n",
        "𝐬𝐜𝐡𝐞𝐦𝐚 𝐚𝐧𝐝 𝐝𝐚𝐭𝐚𝐬𝐞𝐭\n",
        "data = [\n",
        " (1, 101, 500.0, \"2024-01-01\"),\n",
        " (2, 102, 200.0, \"2024-01-02\"),\n",
        " (3, 101, 300.0, \"2024-01-03\"),\n",
        " (4, 103, 100.0, \"2024-01-04\"),\n",
        " (5, 102, 400.0, \"2024-01-05\"),\n",
        " (6, 103, 600.0, \"2024-01-06\"),\n",
        " (7, 101, 200.0, \"2024-01-07\"),\n",
        "]\n",
        "columns = [\"transaction_id\", \"user_id\", \"transaction_amount\", \"transaction_date\"]"
      ]
    },
    {
      "cell_type": "code",
      "source": [
        "from pyspark.sql import SparkSession\n",
        "\n",
        "from pyspark.sql.functions import *\n",
        "\n",
        "from pyspark.sql.window import Window\n",
        "\n",
        "spark=SparkSession.builder.appName(\"learning\").getOrCreate()\n",
        "\n",
        "data= [\n",
        " (1, 101, 500.0, \"2024-01-01\"),\n",
        " (2, 102, 200.0, \"2024-01-02\"),\n",
        " (3, 101, 300.0, \"2024-01-03\"),\n",
        " (4, 103, 100.0, \"2024-01-04\"),\n",
        " (5, 102, 400.0, \"2024-01-05\"),\n",
        " (6, 103, 600.0, \"2024-01-06\"),\n",
        " (7, 101, 200.0, \"2024-01-07\"),\n",
        "]\n",
        "\n",
        "schema=[\"transaction_id\", \"user_id\", \"transaction_amount\", \"transaction_date\"]\n",
        "\n",
        "df=spark.createDataFrame(data,schema)\n",
        "\n",
        "df.show()\n",
        "\n",
        "df1=df.withColumn(\"transaction_date\",to_date(col(\"transaction_date\"),'yyyy-MM-dd'))\n",
        "\n",
        "df1.printSchema()\n",
        "\n",
        "window_spec=Window.partitionBy('user_id').orderBy('transaction_date')\n",
        "\n",
        "df2=df1.withColumn('prev_date',lag(col('transaction_date')).over(window_spec))\n",
        "\n",
        "df2.show()\n",
        "\n",
        "df3=df2.withColumn(\"day_gap\",datediff(col('transaction_date'),col('prev_date')))\n",
        "\n",
        "df3.show()\n",
        "\n",
        "df4=df3.groupBy('user_id').agg(avg('day_gap').alias('avg_day_gap'))\n",
        "\n",
        "df4.show()\n",
        "\n",
        "window_spec1=Window.orderBy(col('avg_day_gap').desc())\n",
        "\n",
        "df5=df4.withColumn('rank',dense_rank().over(window_spec1)).filter(col('rank')==1)\n",
        "\n",
        "df5.show()\n",
        "\n"
      ],
      "metadata": {
        "colab": {
          "base_uri": "https://localhost:8080/"
        },
        "id": "GZRhjEZhXrld",
        "outputId": "a6659fa8-dfdc-497b-c6b6-ea57ee2e00d1"
      },
      "execution_count": 8,
      "outputs": [
        {
          "output_type": "stream",
          "name": "stdout",
          "text": [
            "+--------------+-------+------------------+----------------+\n",
            "|transaction_id|user_id|transaction_amount|transaction_date|\n",
            "+--------------+-------+------------------+----------------+\n",
            "|             1|    101|             500.0|      2024-01-01|\n",
            "|             2|    102|             200.0|      2024-01-02|\n",
            "|             3|    101|             300.0|      2024-01-03|\n",
            "|             4|    103|             100.0|      2024-01-04|\n",
            "|             5|    102|             400.0|      2024-01-05|\n",
            "|             6|    103|             600.0|      2024-01-06|\n",
            "|             7|    101|             200.0|      2024-01-07|\n",
            "+--------------+-------+------------------+----------------+\n",
            "\n",
            "root\n",
            " |-- transaction_id: long (nullable = true)\n",
            " |-- user_id: long (nullable = true)\n",
            " |-- transaction_amount: double (nullable = true)\n",
            " |-- transaction_date: date (nullable = true)\n",
            "\n",
            "+--------------+-------+------------------+----------------+----------+\n",
            "|transaction_id|user_id|transaction_amount|transaction_date| prev_date|\n",
            "+--------------+-------+------------------+----------------+----------+\n",
            "|             1|    101|             500.0|      2024-01-01|      NULL|\n",
            "|             3|    101|             300.0|      2024-01-03|2024-01-01|\n",
            "|             7|    101|             200.0|      2024-01-07|2024-01-03|\n",
            "|             2|    102|             200.0|      2024-01-02|      NULL|\n",
            "|             5|    102|             400.0|      2024-01-05|2024-01-02|\n",
            "|             4|    103|             100.0|      2024-01-04|      NULL|\n",
            "|             6|    103|             600.0|      2024-01-06|2024-01-04|\n",
            "+--------------+-------+------------------+----------------+----------+\n",
            "\n",
            "+--------------+-------+------------------+----------------+----------+-------+\n",
            "|transaction_id|user_id|transaction_amount|transaction_date| prev_date|day_gap|\n",
            "+--------------+-------+------------------+----------------+----------+-------+\n",
            "|             1|    101|             500.0|      2024-01-01|      NULL|   NULL|\n",
            "|             3|    101|             300.0|      2024-01-03|2024-01-01|      2|\n",
            "|             7|    101|             200.0|      2024-01-07|2024-01-03|      4|\n",
            "|             2|    102|             200.0|      2024-01-02|      NULL|   NULL|\n",
            "|             5|    102|             400.0|      2024-01-05|2024-01-02|      3|\n",
            "|             4|    103|             100.0|      2024-01-04|      NULL|   NULL|\n",
            "|             6|    103|             600.0|      2024-01-06|2024-01-04|      2|\n",
            "+--------------+-------+------------------+----------------+----------+-------+\n",
            "\n",
            "+-------+-----------+\n",
            "|user_id|avg_day_gap|\n",
            "+-------+-----------+\n",
            "|    101|        3.0|\n",
            "|    102|        3.0|\n",
            "|    103|        2.0|\n",
            "+-------+-----------+\n",
            "\n",
            "+-------+-----------+----+\n",
            "|user_id|avg_day_gap|rank|\n",
            "+-------+-----------+----+\n",
            "|    101|        3.0|   1|\n",
            "|    102|        3.0|   1|\n",
            "+-------+-----------+----+\n",
            "\n"
          ]
        }
      ]
    }
  ]
}