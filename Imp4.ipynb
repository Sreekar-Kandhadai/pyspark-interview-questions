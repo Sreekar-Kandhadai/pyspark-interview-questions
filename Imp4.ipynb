{
  "nbformat": 4,
  "nbformat_minor": 0,
  "metadata": {
    "colab": {
      "provenance": [],
      "authorship_tag": "ABX9TyMiuC2mtk4dRS+XPBZUFLwe",
      "include_colab_link": true
    },
    "kernelspec": {
      "name": "python3",
      "display_name": "Python 3"
    },
    "language_info": {
      "name": "python"
    }
  },
  "cells": [
    {
      "cell_type": "markdown",
      "metadata": {
        "id": "view-in-github",
        "colab_type": "text"
      },
      "source": [
        "<a href=\"https://colab.research.google.com/github/Sreekar-Kandhadai/pyspark-interview-questions/blob/main/Imp4.ipynb\" target=\"_parent\"><img src=\"https://colab.research.google.com/assets/colab-badge.svg\" alt=\"Open In Colab\"/></a>"
      ]
    },
    {
      "cell_type": "code",
      "execution_count": null,
      "metadata": {
        "id": "KzabBiOnHC-_"
      },
      "outputs": [],
      "source": [
        "𝐐𝐮𝐞𝐬𝐭𝐢𝐨𝐧:\n",
        "You have two datasets with different keys, and you need to join them based on a specific mapping logic. Here are the datasets:\n",
        "\n",
        "Task: Write a PySpark program to join these datasets such that category_id in Dataset 1 matches with cat_id in Dataset 2, and\n",
        "produce the result with the following schema: | product_id | product_name | category_name |\n",
        "\n",
        "𝐬𝐜𝐡𝐞𝐦𝐚 𝐚𝐧𝐝 𝐝𝐚𝐭𝐚𝐬𝐞𝐭\n",
        "# Create Dataset 1 (Products)\n",
        "\n",
        "products_data = [ (1, \"Laptop\", 101), (2, \"Smartphone\", 102), (3, \"Tablet\", 101) ]\n",
        "\n",
        "products_schema = [\"product_id\", \"product_name\", \"category_id\"]\n",
        "\n",
        "products_df = spark.createDataFrame(products_data, schema=products_schema)\n",
        "\n",
        "# Create Dataset 2 (Categories)\n",
        "\n",
        "categories_data = [ (101, \"Electronics\"), (102, \"Mobile\"), (103, \"Home Appliance\") ]\n",
        "\n",
        "categories_schema = [\"cat_id\", \"category_name\"]\n"
      ]
    },
    {
      "cell_type": "code",
      "source": [
        "from pyspark.sql import SparkSession\n",
        "\n",
        "from pyspark.sql.functions import *\n",
        "\n",
        "spark=SparkSession.builder.appName('learning').getOrCreate()\n",
        "\n",
        "products_data = [ (1, \"Laptop\", 101), (2, \"Smartphone\", 102), (3, \"Tablet\", 101) ]\n",
        "\n",
        "products_schema = [\"product_id\", \"product_name\", \"category_id\"]\n",
        "\n",
        "df1=spark.createDataFrame(products_data,products_schema)\n",
        "df1.show()\n",
        "\n",
        "categories_data = [ (101, \"Electronics\"), (102, \"Mobile\"), (103, \"Home Appliance\") ]\n",
        "\n",
        "categories_schema = [\"cat_id\", \"category_name\"]\n",
        "\n",
        "df2=spark.createDataFrame(categories_data,categories_schema)\n",
        "df2.show()\n",
        "\n",
        "df3=df1.join(df2,col('category_id')== col('cat_id'),\"inner\").select(\"product_id\",\"product_name\",\"category_name\")\n",
        "\n",
        "df3.show()"
      ],
      "metadata": {
        "colab": {
          "base_uri": "https://localhost:8080/"
        },
        "id": "997FdnSfHN4v",
        "outputId": "3c6895c9-bf2d-4063-9aaa-5f2535138899"
      },
      "execution_count": 8,
      "outputs": [
        {
          "output_type": "stream",
          "name": "stdout",
          "text": [
            "+----------+------------+-----------+\n",
            "|product_id|product_name|category_id|\n",
            "+----------+------------+-----------+\n",
            "|         1|      Laptop|        101|\n",
            "|         2|  Smartphone|        102|\n",
            "|         3|      Tablet|        101|\n",
            "+----------+------------+-----------+\n",
            "\n",
            "+------+--------------+\n",
            "|cat_id| category_name|\n",
            "+------+--------------+\n",
            "|   101|   Electronics|\n",
            "|   102|        Mobile|\n",
            "|   103|Home Appliance|\n",
            "+------+--------------+\n",
            "\n",
            "+----------+------------+-------------+\n",
            "|product_id|product_name|category_name|\n",
            "+----------+------------+-------------+\n",
            "|         1|      Laptop|  Electronics|\n",
            "|         3|      Tablet|  Electronics|\n",
            "|         2|  Smartphone|       Mobile|\n",
            "+----------+------------+-------------+\n",
            "\n"
          ]
        }
      ]
    }
  ]
}