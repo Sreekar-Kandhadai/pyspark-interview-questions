{
  "nbformat": 4,
  "nbformat_minor": 0,
  "metadata": {
    "colab": {
      "provenance": [],
      "authorship_tag": "ABX9TyPFOwb7uT+LWc4UtAjjcLLI",
      "include_colab_link": true
    },
    "kernelspec": {
      "name": "python3",
      "display_name": "Python 3"
    },
    "language_info": {
      "name": "python"
    }
  },
  "cells": [
    {
      "cell_type": "markdown",
      "metadata": {
        "id": "view-in-github",
        "colab_type": "text"
      },
      "source": [
        "<a href=\"https://colab.research.google.com/github/Sreekar-Kandhadai/pyspark-interview-questions/blob/main/Airbnb.ipynb\" target=\"_parent\"><img src=\"https://colab.research.google.com/assets/colab-badge.svg\" alt=\"Open In Colab\"/></a>"
      ]
    },
    {
      "cell_type": "code",
      "execution_count": null,
      "metadata": {
        "id": "HRL6LCYnSZBM"
      },
      "outputs": [],
      "source": [
        "We have a table of hotels with various attributes, including the hotel name, address, total reviews, and\n",
        " an average score based on the reviews. We need to find the top 10 hotels with the highest average scores.\n",
        "The output should include:\n",
        "\n",
        "The hotel name.\n",
        "The average score of the hotel.\n",
        "The records should be sorted by average score in descending order."
      ]
    },
    {
      "cell_type": "code",
      "source": [
        "from pyspark.sql import SparkSession\n",
        "\n",
        "from pyspark.sql.functions import col\n",
        "\n",
        "spark=SparkSession.builder.appName(\"topHotels\").getOrCreate()\n",
        "\n",
        "data = [('123 Ocean Ave, Miami, FL', 3, '2024-11-10', 4.2, 'Ocean View', 'American', 'Room small, but clean.', 5, 150, 'Great location and friendly staff!', 8, 30, 4.5, 'beachfront, family-friendly', '5 days', 25.7617, -80.1918),('456 Mountain Rd, Boulder, CO', 2, '2024-11-12', 3.9, 'Mountain Lodge', 'Canadian', 'wifi slow.', 3, 120, 'nice rooms.', 10, 20, 4.0, 'scenic, nature', '3 days', 40.015, -105.2705),('789 Downtown St, New York, NY', 5, '2024-11-15', 4.7, 'Central Park Hotel', 'British', 'Noisy, sleep.', 7, 200, 'Perfect location near Central Park.', 12, 50, 4.7, 'luxury, city-center', '1 day', 40.7831, -73.9712),('101 Lakeside Blvd, Austin, TX', 1, '2024-11-08', 4.0, 'Lakeside Inn', 'Mexican', 'food avg.', 4, 80, 'Nice, friendly service.', 6, 15, 3.8, 'relaxing, family', '10 days', 30.2672, -97.7431),('202 River Ave, Nashville, TN', 4, '2024-11-13', 4.5, 'Riverside', 'German', 'Limited parking', 2, 175, 'Great rooms.', 9, 25, 4.2, 'riverfront, peaceful', '2 days', 36.1627, -86.7816)]\n",
        "\n",
        "columns = [\"hotel_address\", \"additional_number_of_scoring\", \"review_date\", \"average_score\", \"hotel_name\", \"reviewer_nationality\", \"negative_review\", \"review_total_negative_word_counts\", \"total_number_of_reviews\",\"positive_review\", \"review_total_positive_word_counts\", \"total_number_of_reviews_reviewer_has_given\",\"reviewer_score\", \"tags\", \"days_since_review\", \"lat\", \"lng\"]\n",
        "\n",
        "df=spark.createDataFrame(data,columns)\n",
        "\n",
        "df.show()\n",
        "\n",
        "df1=df.orderBy(col('average_score').desc())\n",
        "\n",
        "df2=df1.select(\"hotel_name\",\"average_score\").limit(10)\n",
        "\n",
        "df2.show()\n"
      ],
      "metadata": {
        "colab": {
          "base_uri": "https://localhost:8080/"
        },
        "id": "u22jsFgZT1i6",
        "outputId": "53c2ce4d-aba2-4044-b772-ad05fb62d248"
      },
      "execution_count": 4,
      "outputs": [
        {
          "output_type": "stream",
          "name": "stdout",
          "text": [
            "+--------------------+----------------------------+-----------+-------------+------------------+--------------------+--------------------+---------------------------------+-----------------------+--------------------+---------------------------------+------------------------------------------+--------------+--------------------+-----------------+-------+---------+\n",
            "|       hotel_address|additional_number_of_scoring|review_date|average_score|        hotel_name|reviewer_nationality|     negative_review|review_total_negative_word_counts|total_number_of_reviews|     positive_review|review_total_positive_word_counts|total_number_of_reviews_reviewer_has_given|reviewer_score|                tags|days_since_review|    lat|      lng|\n",
            "+--------------------+----------------------------+-----------+-------------+------------------+--------------------+--------------------+---------------------------------+-----------------------+--------------------+---------------------------------+------------------------------------------+--------------+--------------------+-----------------+-------+---------+\n",
            "|123 Ocean Ave, Mi...|                           3| 2024-11-10|          4.2|        Ocean View|            American|Room small, but c...|                                5|                    150|Great location an...|                                8|                                        30|           4.5|beachfront, famil...|           5 days|25.7617| -80.1918|\n",
            "|456 Mountain Rd, ...|                           2| 2024-11-12|          3.9|    Mountain Lodge|            Canadian|          wifi slow.|                                3|                    120|         nice rooms.|                               10|                                        20|           4.0|      scenic, nature|           3 days| 40.015|-105.2705|\n",
            "|789 Downtown St, ...|                           5| 2024-11-15|          4.7|Central Park Hotel|             British|       Noisy, sleep.|                                7|                    200|Perfect location ...|                               12|                                        50|           4.7| luxury, city-center|            1 day|40.7831| -73.9712|\n",
            "|101 Lakeside Blvd...|                           1| 2024-11-08|          4.0|      Lakeside Inn|             Mexican|           food avg.|                                4|                     80|Nice, friendly se...|                                6|                                        15|           3.8|    relaxing, family|          10 days|30.2672| -97.7431|\n",
            "|202 River Ave, Na...|                           4| 2024-11-13|          4.5|         Riverside|              German|     Limited parking|                                2|                    175|        Great rooms.|                                9|                                        25|           4.2|riverfront, peaceful|           2 days|36.1627| -86.7816|\n",
            "+--------------------+----------------------------+-----------+-------------+------------------+--------------------+--------------------+---------------------------------+-----------------------+--------------------+---------------------------------+------------------------------------------+--------------+--------------------+-----------------+-------+---------+\n",
            "\n",
            "+------------------+-------------+\n",
            "|        hotel_name|average_score|\n",
            "+------------------+-------------+\n",
            "|Central Park Hotel|          4.7|\n",
            "|         Riverside|          4.5|\n",
            "|        Ocean View|          4.2|\n",
            "|      Lakeside Inn|          4.0|\n",
            "|    Mountain Lodge|          3.9|\n",
            "+------------------+-------------+\n",
            "\n"
          ]
        }
      ]
    }
  ]
}