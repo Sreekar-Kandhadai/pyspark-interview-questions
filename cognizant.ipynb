{
  "nbformat": 4,
  "nbformat_minor": 0,
  "metadata": {
    "colab": {
      "provenance": [],
      "authorship_tag": "ABX9TyN+HVOoHbMB6iiQFDj6I2Af",
      "include_colab_link": true
    },
    "kernelspec": {
      "name": "python3",
      "display_name": "Python 3"
    },
    "language_info": {
      "name": "python"
    }
  },
  "cells": [
    {
      "cell_type": "markdown",
      "metadata": {
        "id": "view-in-github",
        "colab_type": "text"
      },
      "source": [
        "<a href=\"https://colab.research.google.com/github/Sreekar-Kandhadai/pyspark-interview-questions/blob/main/cognizant.ipynb\" target=\"_parent\"><img src=\"https://colab.research.google.com/assets/colab-badge.svg\" alt=\"Open In Colab\"/></a>"
      ]
    },
    {
      "cell_type": "code",
      "execution_count": null,
      "metadata": {
        "id": "MLK79S1CvEps"
      },
      "outputs": [],
      "source": [
        "𝐐𝐮𝐞𝐬𝐭𝐢𝐨𝐧:\n",
        "You have the following dataset containing sales information for different products and\n",
        "regions. Reshape the data using PySpark's pivot() method to calculate the total sales for\n",
        "each product across regions, and then optimize it further by applying specific transformations.\n",
        "\n",
        "Task 1: Use pivot() to create a table showing the total sales for each product by region.\n",
        "\n",
        "Task 2: Add a column calculating the percentage contribution of each region to the total sales for that product.\n",
        "\n",
        "Task 3: Sort the data in descending order by total sales for each product.\n",
        "\n",
        "𝐬𝐜𝐡𝐞𝐦𝐚 𝐚𝐧𝐝 𝐝𝐚𝐭𝐚𝐬𝐞𝐭\n",
        "data = [ (\"North\", \"Laptop\", 2000, \"Q1\"), (\"South\", \"Laptop\", 3000, \"Q1\"), (\"East\", \"Laptop\", 2500, \"Q1\"), (\"North\", \"Phone\", 1500, \"Q1\"),\n",
        "(\"South\", \"Phone\", 1000, \"Q1\"), (\"East\", \"Phone\", 2000, \"Q1\"),\n",
        "(\"North\", \"Laptop\", 3000, \"Q2\"), (\"South\", \"Laptop\", 4000, \"Q2\"),\n",
        "(\"East\", \"Laptop\", 3500, \"Q2\"), (\"North\", \"Phone\", 2500, \"Q2\"),\n",
        "(\"South\", \"Phone\", 1500, \"Q2\"), (\"East\", \"Phone\", 3000, \"Q2\"), ]\n",
        "\n",
        "columns = [\"Region\", \"Product\", \"Sales\", \"Quarter\"]\n"
      ]
    },
    {
      "cell_type": "code",
      "source": [
        "from pyspark.sql import SparkSession\n",
        "\n",
        "from pyspark.sql.functions import *\n",
        "\n",
        "spark=SparkSession.builder.appName(\"learning\").getOrCreate()\n",
        "\n",
        "data=[ (\"North\", \"Laptop\", 2000, \"Q1\"), (\"South\", \"Laptop\", 3000, \"Q1\"), (\"East\", \"Laptop\", 2500, \"Q1\"), (\"North\", \"Phone\", 1500, \"Q1\"),\n",
        "(\"South\", \"Phone\", 1000, \"Q1\"), (\"East\", \"Phone\", 2000, \"Q1\"),\n",
        "(\"North\", \"Laptop\", 3000, \"Q2\"), (\"South\", \"Laptop\", 4000, \"Q2\"),\n",
        "(\"East\", \"Laptop\", 3500, \"Q2\"), (\"North\", \"Phone\", 2500, \"Q2\"),\n",
        "(\"South\", \"Phone\", 1500, \"Q2\"), (\"East\", \"Phone\", 3000, \"Q2\"), ]\n",
        "\n",
        "schema=[\"Region\", \"Product\", \"Sales\", \"Quarter\"]\n",
        "\n",
        "df=spark.createDataFrame(data,schema)\n",
        "\n",
        "df.show()\n",
        "\n",
        "df1=df.groupBy('product').pivot('region').sum('sales')\n",
        "\n",
        "df1.show()\n",
        "\n",
        "df2=df1.withColumn('totalsales',col('East')+col('North')+col('South')).\\\n",
        "    withColumn('North_%',round(col('North')/col('totalsales')*100,2))\\\n",
        "    .withColumn('South_%',round(col('South')/col('totalsales')*100,2)).\\\n",
        "    withColumn('East_%',round(col('East')/col('totalsales')*100,2)).orderBy(col('totalsales').desc())\n",
        "\n",
        "df2.show()\n",
        "\n"
      ],
      "metadata": {
        "colab": {
          "base_uri": "https://localhost:8080/"
        },
        "id": "XNAhyQycEArX",
        "outputId": "8e299cc1-e762-4cc0-80c4-e536efefee76"
      },
      "execution_count": 10,
      "outputs": [
        {
          "output_type": "stream",
          "name": "stdout",
          "text": [
            "+------+-------+-----+-------+\n",
            "|Region|Product|Sales|Quarter|\n",
            "+------+-------+-----+-------+\n",
            "| North| Laptop| 2000|     Q1|\n",
            "| South| Laptop| 3000|     Q1|\n",
            "|  East| Laptop| 2500|     Q1|\n",
            "| North|  Phone| 1500|     Q1|\n",
            "| South|  Phone| 1000|     Q1|\n",
            "|  East|  Phone| 2000|     Q1|\n",
            "| North| Laptop| 3000|     Q2|\n",
            "| South| Laptop| 4000|     Q2|\n",
            "|  East| Laptop| 3500|     Q2|\n",
            "| North|  Phone| 2500|     Q2|\n",
            "| South|  Phone| 1500|     Q2|\n",
            "|  East|  Phone| 3000|     Q2|\n",
            "+------+-------+-----+-------+\n",
            "\n",
            "+-------+----+-----+-----+\n",
            "|product|East|North|South|\n",
            "+-------+----+-----+-----+\n",
            "|  Phone|5000| 4000| 2500|\n",
            "| Laptop|6000| 5000| 7000|\n",
            "+-------+----+-----+-----+\n",
            "\n",
            "+-------+----+-----+-----+----------+-------+-------+------+\n",
            "|product|East|North|South|totalsales|North_%|South_%|East_%|\n",
            "+-------+----+-----+-----+----------+-------+-------+------+\n",
            "| Laptop|6000| 5000| 7000|     18000|  27.78|  38.89| 33.33|\n",
            "|  Phone|5000| 4000| 2500|     11500|  34.78|  21.74| 43.48|\n",
            "+-------+----+-----+-----+----------+-------+-------+------+\n",
            "\n"
          ]
        }
      ]
    }
  ]
}