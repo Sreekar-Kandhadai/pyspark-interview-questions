{
  "nbformat": 4,
  "nbformat_minor": 0,
  "metadata": {
    "colab": {
      "provenance": [],
      "authorship_tag": "ABX9TyNJC1WLKxsukmxFxWwpxobJ",
      "include_colab_link": true
    },
    "kernelspec": {
      "name": "python3",
      "display_name": "Python 3"
    },
    "language_info": {
      "name": "python"
    }
  },
  "cells": [
    {
      "cell_type": "markdown",
      "metadata": {
        "id": "view-in-github",
        "colab_type": "text"
      },
      "source": [
        "<a href=\"https://colab.research.google.com/github/Sreekar-Kandhadai/pyspark-interview-questions/blob/main/Count_Null_Values_Column.ipynb\" target=\"_parent\"><img src=\"https://colab.research.google.com/assets/colab-badge.svg\" alt=\"Open In Colab\"/></a>"
      ]
    },
    {
      "cell_type": "code",
      "execution_count": null,
      "metadata": {
        "id": "qe5VQ80cW56q"
      },
      "outputs": [],
      "source": [
        "Checking null values in each column and getting count of those null values under each column"
      ]
    },
    {
      "cell_type": "code",
      "source": [
        "from pyspark.sql import SparkSession\n",
        "\n",
        "from pyspark.sql.functions import *\n",
        "\n",
        "spark=SparkSession.builder.appName(\"learning\").getOrCreate()\n",
        "\n",
        "data=[\n",
        "    (\"Alice\", 50, 1),\n",
        "    (None, 60, 2),\n",
        "    (\"Bob\", None, 3),\n",
        "    (\"Charlie\", 70, None),\n",
        "    (\"sree\", None, None)\n",
        "]\n",
        "\n",
        "\n",
        "columns = [\"name\", \"value\", \"id\"]\n",
        "\n",
        "df=spark.createDataFrame(data,columns)\n",
        "\n",
        "df.show()\n",
        "\n",
        "result=df.select([sum( col(c).isNull().cast('integer')).alias(c)  for c in df.columns] )\n",
        "\n",
        "result.show()"
      ],
      "metadata": {
        "colab": {
          "base_uri": "https://localhost:8080/"
        },
        "id": "NPLDRJlqZch7",
        "outputId": "c52ca26c-b639-4b47-bace-752d896ebd99"
      },
      "execution_count": 6,
      "outputs": [
        {
          "output_type": "stream",
          "name": "stdout",
          "text": [
            "+-------+-----+----+\n",
            "|   name|value|  id|\n",
            "+-------+-----+----+\n",
            "|  Alice|   50|   1|\n",
            "|   NULL|   60|   2|\n",
            "|    Bob| NULL|   3|\n",
            "|Charlie|   70|NULL|\n",
            "|   sree| NULL|NULL|\n",
            "+-------+-----+----+\n",
            "\n",
            "+----+-----+---+\n",
            "|name|value| id|\n",
            "+----+-----+---+\n",
            "|   1|    2|  2|\n",
            "+----+-----+---+\n",
            "\n"
          ]
        }
      ]
    }
  ]
}