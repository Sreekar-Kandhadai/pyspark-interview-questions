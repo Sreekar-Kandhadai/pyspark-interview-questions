{
  "nbformat": 4,
  "nbformat_minor": 0,
  "metadata": {
    "colab": {
      "provenance": [],
      "authorship_tag": "ABX9TyPeQPPyuXXdTdrJ+aBV0CYM",
      "include_colab_link": true
    },
    "kernelspec": {
      "name": "python3",
      "display_name": "Python 3"
    },
    "language_info": {
      "name": "python"
    }
  },
  "cells": [
    {
      "cell_type": "markdown",
      "metadata": {
        "id": "view-in-github",
        "colab_type": "text"
      },
      "source": [
        "<a href=\"https://colab.research.google.com/github/Sreekar-Kandhadai/pyspark-interview-questions/blob/main/pepsico.ipynb\" target=\"_parent\"><img src=\"https://colab.research.google.com/assets/colab-badge.svg\" alt=\"Open In Colab\"/></a>"
      ]
    },
    {
      "cell_type": "code",
      "execution_count": null,
      "metadata": {
        "id": "pXynWBJfGlxB"
      },
      "outputs": [],
      "source": [
        "You have two DataFrames: one containing employee information (employees) and another containing department information (departments).\n",
        "Write a PySpark function to join these DataFrames on the department ID and fill any missing salary values with the average salary of\n",
        "the respective department."
      ]
    },
    {
      "cell_type": "code",
      "source": [
        "from pyspark.sql import SparkSession\n",
        "\n",
        "from pyspark.sql.functions import *\n",
        "\n",
        "spark=SparkSession.builder.appName(\"learning\").getOrCreate()\n",
        "\n",
        "employee_data = [\n",
        "    (1, \"Alice\", 70000, 10),\n",
        "    (2, \"Bob\", None, 20),  # Missing salary\n",
        "    (3, \"Charlie\", 80000, 10),\n",
        "    (4, \"David\", None, 30),  # Missing salary\n",
        "    (5, \"Eve\", 75000, 20),\n",
        "    (6, \"Frank\", 90000, 10),\n",
        "    (7, \"Grace\", 52000, 30),\n",
        "    (8, \"Hannah\", 62000, 20),\n",
        "    (9, \"Isaac\", None, 30),  # Missing salary\n",
        "    (10, \"Jack\", 71000, 20)\n",
        "]\n",
        "\n",
        "employee_columns = [\"employee_id\", \"name\", \"salary\", \"department_id\"]\n",
        "\n",
        "department_data = [\n",
        "    (10, \"Engineering\"),\n",
        "    (20, \"HR\"),\n",
        "    (30, \"Marketing\")\n",
        "]\n",
        "\n",
        "department_columns = [\"department_id\", \"department_name\"]\n",
        "\n",
        "empDf=spark.createDataFrame(employee_data,employee_columns)\n",
        "\n",
        "empDf.show()\n",
        "\n",
        "depDf=spark.createDataFrame(department_data,department_columns)\n",
        "\n",
        "depDf.show()\n",
        "\n",
        "empSalDf=empDf.join(depDf,\"department_id\",\"inner\")\n",
        "\n",
        "empSalDf.show()\n",
        "\n",
        "depAvgSal=empSalDf.groupBy('department_id').agg(avg('salary').alias(\"avg_salary\"))\n",
        "\n",
        "resultDf=empSalDf.join(depAvgSal,\"department_id\",\"inner\").\\\n",
        "                  withColumn(\"salary\",when(col('salary').isNull(),col('avg_salary')).otherwise(col('salary')))\n",
        "\n",
        "\n",
        "resultDf.show()\n",
        "\n",
        "\n",
        "\n",
        "\n"
      ],
      "metadata": {
        "colab": {
          "base_uri": "https://localhost:8080/"
        },
        "id": "gfHSCtYwGsY8",
        "outputId": "ebde0697-2eef-4c1a-fcfa-4376276fff40"
      },
      "execution_count": 3,
      "outputs": [
        {
          "output_type": "stream",
          "name": "stdout",
          "text": [
            "+-----------+-------+------+-------------+\n",
            "|employee_id|   name|salary|department_id|\n",
            "+-----------+-------+------+-------------+\n",
            "|          1|  Alice| 70000|           10|\n",
            "|          2|    Bob|  NULL|           20|\n",
            "|          3|Charlie| 80000|           10|\n",
            "|          4|  David|  NULL|           30|\n",
            "|          5|    Eve| 75000|           20|\n",
            "|          6|  Frank| 90000|           10|\n",
            "|          7|  Grace| 52000|           30|\n",
            "|          8| Hannah| 62000|           20|\n",
            "|          9|  Isaac|  NULL|           30|\n",
            "|         10|   Jack| 71000|           20|\n",
            "+-----------+-------+------+-------------+\n",
            "\n",
            "+-------------+---------------+\n",
            "|department_id|department_name|\n",
            "+-------------+---------------+\n",
            "|           10|    Engineering|\n",
            "|           20|             HR|\n",
            "|           30|      Marketing|\n",
            "+-------------+---------------+\n",
            "\n",
            "+-------------+-----------+-------+------+---------------+\n",
            "|department_id|employee_id|   name|salary|department_name|\n",
            "+-------------+-----------+-------+------+---------------+\n",
            "|           10|          1|  Alice| 70000|    Engineering|\n",
            "|           10|          3|Charlie| 80000|    Engineering|\n",
            "|           10|          6|  Frank| 90000|    Engineering|\n",
            "|           20|          2|    Bob|  NULL|             HR|\n",
            "|           20|          5|    Eve| 75000|             HR|\n",
            "|           20|          8| Hannah| 62000|             HR|\n",
            "|           20|         10|   Jack| 71000|             HR|\n",
            "|           30|          4|  David|  NULL|      Marketing|\n",
            "|           30|          7|  Grace| 52000|      Marketing|\n",
            "|           30|          9|  Isaac|  NULL|      Marketing|\n",
            "+-------------+-----------+-------+------+---------------+\n",
            "\n",
            "+-------------+-----------+-------+-----------------+---------------+-----------------+\n",
            "|department_id|employee_id|   name|           salary|department_name|       avg_salary|\n",
            "+-------------+-----------+-------+-----------------+---------------+-----------------+\n",
            "|           10|          6|  Frank|          90000.0|    Engineering|          80000.0|\n",
            "|           10|          3|Charlie|          80000.0|    Engineering|          80000.0|\n",
            "|           10|          1|  Alice|          70000.0|    Engineering|          80000.0|\n",
            "|           20|         10|   Jack|          71000.0|             HR|69333.33333333333|\n",
            "|           20|          8| Hannah|          62000.0|             HR|69333.33333333333|\n",
            "|           20|          5|    Eve|          75000.0|             HR|69333.33333333333|\n",
            "|           20|          2|    Bob|69333.33333333333|             HR|69333.33333333333|\n",
            "|           30|          9|  Isaac|          52000.0|      Marketing|          52000.0|\n",
            "|           30|          7|  Grace|          52000.0|      Marketing|          52000.0|\n",
            "|           30|          4|  David|          52000.0|      Marketing|          52000.0|\n",
            "+-------------+-----------+-------+-----------------+---------------+-----------------+\n",
            "\n"
          ]
        }
      ]
    }
  ]
}