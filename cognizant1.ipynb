{
  "nbformat": 4,
  "nbformat_minor": 0,
  "metadata": {
    "colab": {
      "provenance": [],
      "authorship_tag": "ABX9TyPpRx6fvMpXKnJdR9zCt8t2",
      "include_colab_link": true
    },
    "kernelspec": {
      "name": "python3",
      "display_name": "Python 3"
    },
    "language_info": {
      "name": "python"
    }
  },
  "cells": [
    {
      "cell_type": "markdown",
      "metadata": {
        "id": "view-in-github",
        "colab_type": "text"
      },
      "source": [
        "<a href=\"https://colab.research.google.com/github/Sreekar-Kandhadai/pyspark-interview-questions/blob/main/cognizant1.ipynb\" target=\"_parent\"><img src=\"https://colab.research.google.com/assets/colab-badge.svg\" alt=\"Open In Colab\"/></a>"
      ]
    },
    {
      "cell_type": "code",
      "execution_count": null,
      "metadata": {
        "id": "eDYho3JkixG-"
      },
      "outputs": [],
      "source": [
        "𝐐𝐮𝐞𝐬𝐭𝐢𝐨𝐧:\n",
        "Handle Missing Data Efficiently\n",
        "You have a DataFrame containing sales data. Write a PySpark script to:\n",
        "Replace missing values in the price column with the mean price.\n",
        "Drop rows where the product column is null.\n",
        "Fill missing values in the quantity column with 1.\n",
        "\n",
        "𝐬𝐜𝐡𝐞𝐦𝐚 𝐚𝐧𝐝 𝐝𝐚𝐭𝐚𝐬𝐞𝐭\n",
        "data = [ (1, \"Laptop\", 1000, 5), (2, \"Mouse\", None, None), (3, \"Keyboard\", 50, 2), (4, \"Monitor\", 200, None), (5, None, 500, None), ]\n",
        "\n",
        "# Define schema and create DataFrame\n",
        "columns = [\"product_id\", \"product\", \"price\", \"quantity\"]\n"
      ]
    },
    {
      "cell_type": "code",
      "source": [
        "from pyspark.sql import SparkSession\n",
        "\n",
        "from pyspark.sql.functions import *\n",
        "\n",
        "spark=SparkSession.builder.appName('learning').getOrCreate()\n",
        "\n",
        "data=[(1, \"Laptop\", 1000, 5), (2, \"Mouse\", None, None), (3, \"Keyboard\", 50, 2), (4, \"Monitor\", 200, None), (5, None, 500, None), ]\n",
        "\n",
        "schema=[\"product_id\", \"product\", \"price\", \"quantity\"]\n",
        "\n",
        "df=spark.createDataFrame(data,schema)\n",
        "\n",
        "df.show()\n",
        "\n",
        "mean_price=df.select(mean(col('price'))).collect()[0][0]\n",
        "\n",
        "df1=df.fillna({'price':mean_price})\n",
        "\n",
        "df1.show()\n",
        "\n",
        "df2=df1.filter(col('product').isNotNull())\n",
        "\n",
        "df2.show()\n",
        "\n",
        "df3=df2.fillna({'quantity':1})\n",
        "\n",
        "df3.show()"
      ],
      "metadata": {
        "colab": {
          "base_uri": "https://localhost:8080/"
        },
        "id": "_P2BkSj7jdEg",
        "outputId": "53509cca-5890-46aa-a820-77d487ecc62e"
      },
      "execution_count": 7,
      "outputs": [
        {
          "output_type": "stream",
          "name": "stdout",
          "text": [
            "+----------+--------+-----+--------+\n",
            "|product_id| product|price|quantity|\n",
            "+----------+--------+-----+--------+\n",
            "|         1|  Laptop| 1000|       5|\n",
            "|         2|   Mouse| NULL|    NULL|\n",
            "|         3|Keyboard|   50|       2|\n",
            "|         4| Monitor|  200|    NULL|\n",
            "|         5|    NULL|  500|    NULL|\n",
            "+----------+--------+-----+--------+\n",
            "\n",
            "+----------+--------+-----+--------+\n",
            "|product_id| product|price|quantity|\n",
            "+----------+--------+-----+--------+\n",
            "|         1|  Laptop| 1000|       5|\n",
            "|         2|   Mouse|  437|    NULL|\n",
            "|         3|Keyboard|   50|       2|\n",
            "|         4| Monitor|  200|    NULL|\n",
            "|         5|    NULL|  500|    NULL|\n",
            "+----------+--------+-----+--------+\n",
            "\n",
            "+----------+--------+-----+--------+\n",
            "|product_id| product|price|quantity|\n",
            "+----------+--------+-----+--------+\n",
            "|         1|  Laptop| 1000|       5|\n",
            "|         2|   Mouse|  437|    NULL|\n",
            "|         3|Keyboard|   50|       2|\n",
            "|         4| Monitor|  200|    NULL|\n",
            "+----------+--------+-----+--------+\n",
            "\n",
            "+----------+--------+-----+--------+\n",
            "|product_id| product|price|quantity|\n",
            "+----------+--------+-----+--------+\n",
            "|         1|  Laptop| 1000|       5|\n",
            "|         2|   Mouse|  437|       1|\n",
            "|         3|Keyboard|   50|       2|\n",
            "|         4| Monitor|  200|       1|\n",
            "+----------+--------+-----+--------+\n",
            "\n"
          ]
        }
      ]
    }
  ]
}