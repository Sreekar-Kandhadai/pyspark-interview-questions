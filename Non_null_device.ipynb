{
  "nbformat": 4,
  "nbformat_minor": 0,
  "metadata": {
    "colab": {
      "provenance": [],
      "authorship_tag": "ABX9TyPNh9Omuw8pr3UZQ0VFkUyC",
      "include_colab_link": true
    },
    "kernelspec": {
      "name": "python3",
      "display_name": "Python 3"
    },
    "language_info": {
      "name": "python"
    }
  },
  "cells": [
    {
      "cell_type": "markdown",
      "metadata": {
        "id": "view-in-github",
        "colab_type": "text"
      },
      "source": [
        "<a href=\"https://colab.research.google.com/github/Sreekar-Kandhadai/pyspark-interview-questions/blob/main/Non_null_device.ipynb\" target=\"_parent\"><img src=\"https://colab.research.google.com/assets/colab-badge.svg\" alt=\"Open In Colab\"/></a>"
      ]
    },
    {
      "cell_type": "code",
      "execution_count": null,
      "metadata": {
        "id": "i1aITVGjFmA_"
      },
      "outputs": [],
      "source": [
        "Imagine a customer dataset with columns like device_using1, device_using2, and device_using3.\n",
        " Some rows may have null values, and we need to efficiently extract the first non-null device used by each customer.\n",
        "🚀\n",
        "\n",
        "data=[(1, 'yes',None,None),(2, None,'yes',None),(3, 'No',None,'yes')]\n",
        "schema=['customer_id','device_using1','device_using2','device_using3']\n",
        "\n",
        "Expected output:\n",
        " [ (1, 'yes', None, None, 'yes'), (2, None, 'yes', None, 'yes'), (3, 'No', None, 'yes', 'No') ]\n",
        "\n"
      ]
    },
    {
      "cell_type": "code",
      "source": [
        "from pyspark.sql import SparkSession\n",
        "\n",
        "from pyspark.sql.functions import *\n",
        "\n",
        "spark=SparkSession.builder.appName(\"learning\").getOrCreate()\n",
        "\n",
        "data=[(1, 'yes',None,None),(2, None,'yes',None),(3, 'No',None,'yes')]\n",
        "\n",
        "schema=['customer_id','device_using1','device_using2','device_using3']\n",
        "\n",
        "df=spark.createDataFrame(data,schema)\n",
        "\n",
        "df.show()\n",
        "\n",
        "df1=df.withColumn('new',coalesce(col('device_using1'),col('device_using2'),col('device_using3')))\n",
        "\n",
        "df1.show()\n"
      ],
      "metadata": {
        "colab": {
          "base_uri": "https://localhost:8080/"
        },
        "id": "y_6OMQ9gFrol",
        "outputId": "ba81db66-ae0a-4b4d-ebd8-5a584f89a970"
      },
      "execution_count": 3,
      "outputs": [
        {
          "output_type": "stream",
          "name": "stdout",
          "text": [
            "+-----------+-------------+-------------+-------------+\n",
            "|customer_id|device_using1|device_using2|device_using3|\n",
            "+-----------+-------------+-------------+-------------+\n",
            "|          1|          yes|         NULL|         NULL|\n",
            "|          2|         NULL|          yes|         NULL|\n",
            "|          3|           No|         NULL|          yes|\n",
            "+-----------+-------------+-------------+-------------+\n",
            "\n",
            "+-----------+-------------+-------------+-------------+---+\n",
            "|customer_id|device_using1|device_using2|device_using3|new|\n",
            "+-----------+-------------+-------------+-------------+---+\n",
            "|          1|          yes|         NULL|         NULL|yes|\n",
            "|          2|         NULL|          yes|         NULL|yes|\n",
            "|          3|           No|         NULL|          yes| No|\n",
            "+-----------+-------------+-------------+-------------+---+\n",
            "\n"
          ]
        }
      ]
    }
  ]
}