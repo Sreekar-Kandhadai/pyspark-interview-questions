{
  "nbformat": 4,
  "nbformat_minor": 0,
  "metadata": {
    "colab": {
      "provenance": [],
      "authorship_tag": "ABX9TyP/VkFUpxnb2SVlaZD7rOyo",
      "include_colab_link": true
    },
    "kernelspec": {
      "name": "python3",
      "display_name": "Python 3"
    },
    "language_info": {
      "name": "python"
    }
  },
  "cells": [
    {
      "cell_type": "markdown",
      "metadata": {
        "id": "view-in-github",
        "colab_type": "text"
      },
      "source": [
        "<a href=\"https://colab.research.google.com/github/Sreekar-Kandhadai/pyspark-interview-questions/blob/main/Imp8.ipynb\" target=\"_parent\"><img src=\"https://colab.research.google.com/assets/colab-badge.svg\" alt=\"Open In Colab\"/></a>"
      ]
    },
    {
      "cell_type": "code",
      "execution_count": null,
      "metadata": {
        "id": "JKc3dwAh4IZj"
      },
      "outputs": [],
      "source": [
        "Find the list of employees who share the same salary with atleast one other employee\n",
        "in the same dept.output should be ordered by department_id\n",
        "\n",
        "data = [\n",
        " (102, \"sohan\", 3000, 11),\n",
        " (102, \"rohan\", 4000, 12),\n",
        " (103, \"mohan\", 5000, 13),\n",
        " (104, \"cat\", 3000, 11),\n",
        " (105, \"suresh\", 4000, 12),\n",
        " (109, \"mahesh\", 7000, 12),\n",
        " (108, \"kamal\", 8000, 11)\n",
        "]\n",
        "\n",
        "schema = ['emp_id','name','salary','dpt_id']\n"
      ]
    },
    {
      "cell_type": "code",
      "source": [
        "\n",
        "from pyspark.sql import SparkSession\n",
        "\n",
        "from pyspark.sql.functions import *\n",
        "\n",
        "from pyspark.sql.window import Window\n",
        "\n",
        "spark=SparkSession.builder.appName(\"learning\").getOrCreate()\n",
        "\n",
        "\n",
        "data=[\n",
        " (102, \"sohan\", 3000, 11),\n",
        " (102, \"rohan\", 4000, 12),\n",
        " (103, \"mohan\", 5000, 13),\n",
        " (104, \"cat\", 3000, 11),\n",
        " (105, \"suresh\", 4000, 12),\n",
        " (109, \"mahesh\", 7000, 12),\n",
        " (108, \"kamal\", 8000, 11)\n",
        "]\n",
        "\n",
        "schema=['emp_id','name','salary','dpt_id']\n",
        "\n",
        "df=spark.createDataFrame(data,schema)\n",
        "\n",
        "df.show()\n",
        "\n",
        "window_spec=Window.partitionBy('dpt_id','salary')\n",
        "\n",
        "df1=df.withColumn('cnt_emp',count('emp_id').over(window_spec)).filter(\"cnt_emp > '1'\").orderBy('dpt_id')\n",
        "\n",
        "df1.show()"
      ],
      "metadata": {
        "colab": {
          "base_uri": "https://localhost:8080/"
        },
        "id": "nfLL0HZ_4KiA",
        "outputId": "7cec7a96-d303-4a9f-ed4f-203f4140a0a4"
      },
      "execution_count": 8,
      "outputs": [
        {
          "output_type": "stream",
          "name": "stdout",
          "text": [
            "+------+------+------+------+\n",
            "|emp_id|  name|salary|dpt_id|\n",
            "+------+------+------+------+\n",
            "|   102| sohan|  3000|    11|\n",
            "|   102| rohan|  4000|    12|\n",
            "|   103| mohan|  5000|    13|\n",
            "|   104|   cat|  3000|    11|\n",
            "|   105|suresh|  4000|    12|\n",
            "|   109|mahesh|  7000|    12|\n",
            "|   108| kamal|  8000|    11|\n",
            "+------+------+------+------+\n",
            "\n",
            "+------+------+------+------+-------+\n",
            "|emp_id|  name|salary|dpt_id|cnt_emp|\n",
            "+------+------+------+------+-------+\n",
            "|   102| sohan|  3000|    11|      2|\n",
            "|   104|   cat|  3000|    11|      2|\n",
            "|   102| rohan|  4000|    12|      2|\n",
            "|   105|suresh|  4000|    12|      2|\n",
            "+------+------+------+------+-------+\n",
            "\n"
          ]
        }
      ]
    }
  ]
}