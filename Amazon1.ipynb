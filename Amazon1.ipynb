{
  "nbformat": 4,
  "nbformat_minor": 0,
  "metadata": {
    "colab": {
      "provenance": [],
      "authorship_tag": "ABX9TyPAIl5+IfeVuAX/pIQO7ESR",
      "include_colab_link": true
    },
    "kernelspec": {
      "name": "python3",
      "display_name": "Python 3"
    },
    "language_info": {
      "name": "python"
    }
  },
  "cells": [
    {
      "cell_type": "markdown",
      "metadata": {
        "id": "view-in-github",
        "colab_type": "text"
      },
      "source": [
        "<a href=\"https://colab.research.google.com/github/Sreekar-Kandhadai/pyspark-interview-questions/blob/main/Amazon1.ipynb\" target=\"_parent\"><img src=\"https://colab.research.google.com/assets/colab-badge.svg\" alt=\"Open In Colab\"/></a>"
      ]
    },
    {
      "cell_type": "code",
      "execution_count": null,
      "metadata": {
        "id": "bk_bds3uMbiZ"
      },
      "outputs": [],
      "source": [
        "Imagine we have a dataset of different individuals and the items they possess along with their weights.\n",
        "Our goal is to aggregate this data so that we can see the total weight of each item for every person.\n"
      ]
    },
    {
      "cell_type": "code",
      "source": [
        "from pyspark.sql import SparkSession\n",
        "\n",
        "from pyspark.sql.functions import *\n",
        "\n",
        "spark=SparkSession.builder.appName(\"learning\").getOrCreate()\n",
        "\n",
        "data = [\n",
        "    (\"alice\", \"carrot\", 1),\n",
        "    (\"bob\", \"banana\", 3),\n",
        "    (\"alice\", \"tomato\", 4),\n",
        "    (\"bob\", \"carrot\", 2),\n",
        "    (\"charlie\", \"banana\", 5),\n",
        "    (\"bob\", \"apple\", 1),\n",
        "    (\"alice\", \"tomato\", 2),\n",
        "    (\"charlie\", \"carrot\", 3)\n",
        "]\n",
        "\n",
        "df = spark.createDataFrame(data, [\"name\", \"item\", \"weight\"])\n",
        "\n",
        "df.show()\n",
        "\n",
        "df1=df.groupBy('name','item').agg(sum('weight').alias('total_weight'))\n",
        "\n",
        "df1.show()\n",
        "\n",
        "df2=df1.groupBy('name').agg(collect_list(struct('item','total_weight')).alias('item_list'))\n",
        "\n",
        "df2.show(20,100)"
      ],
      "metadata": {
        "colab": {
          "base_uri": "https://localhost:8080/"
        },
        "id": "PvJxQ7aDRD2N",
        "outputId": "e1ec8986-03ca-4f47-f184-c35bd3e811d4"
      },
      "execution_count": 8,
      "outputs": [
        {
          "output_type": "stream",
          "name": "stdout",
          "text": [
            "+-------+------+------+\n",
            "|   name|  item|weight|\n",
            "+-------+------+------+\n",
            "|  alice|carrot|     1|\n",
            "|    bob|banana|     3|\n",
            "|  alice|tomato|     4|\n",
            "|    bob|carrot|     2|\n",
            "|charlie|banana|     5|\n",
            "|    bob| apple|     1|\n",
            "|  alice|tomato|     2|\n",
            "|charlie|carrot|     3|\n",
            "+-------+------+------+\n",
            "\n",
            "+-------+------+------------+\n",
            "|   name|  item|total_weight|\n",
            "+-------+------+------------+\n",
            "|  alice|tomato|           6|\n",
            "|    bob|banana|           3|\n",
            "|    bob|carrot|           2|\n",
            "|  alice|carrot|           1|\n",
            "|charlie|carrot|           3|\n",
            "|    bob| apple|           1|\n",
            "|charlie|banana|           5|\n",
            "+-------+------+------------+\n",
            "\n",
            "+-------+--------------------------------------+\n",
            "|   name|                             item_list|\n",
            "+-------+--------------------------------------+\n",
            "|  alice|            [{tomato, 6}, {carrot, 1}]|\n",
            "|charlie|            [{carrot, 3}, {banana, 5}]|\n",
            "|    bob|[{banana, 3}, {carrot, 2}, {apple, 1}]|\n",
            "+-------+--------------------------------------+\n",
            "\n"
          ]
        }
      ]
    }
  ]
}