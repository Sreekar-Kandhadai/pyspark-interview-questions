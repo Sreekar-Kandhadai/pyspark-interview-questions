{
  "nbformat": 4,
  "nbformat_minor": 0,
  "metadata": {
    "colab": {
      "provenance": [],
      "authorship_tag": "ABX9TyMBWL9M6Yko7L8uT/zKPUBt",
      "include_colab_link": true
    },
    "kernelspec": {
      "name": "python3",
      "display_name": "Python 3"
    },
    "language_info": {
      "name": "python"
    }
  },
  "cells": [
    {
      "cell_type": "markdown",
      "metadata": {
        "id": "view-in-github",
        "colab_type": "text"
      },
      "source": [
        "<a href=\"https://colab.research.google.com/github/Sreekar-Kandhadai/pyspark-interview-questions/blob/main/pivot_function_student_subject_wise_marks.ipynb\" target=\"_parent\"><img src=\"https://colab.research.google.com/assets/colab-badge.svg\" alt=\"Open In Colab\"/></a>"
      ]
    },
    {
      "cell_type": "code",
      "execution_count": null,
      "metadata": {
        "id": "zxKfCYU_IHxm"
      },
      "outputs": [],
      "source": [
        "Pyspark Interview Question\n",
        "data = [(\"john\", \"maths\", \"50\"),\n",
        " (\"john\", \"science\", \"60\"),\n",
        " (\"john\", \"english\", \"70\"),\n",
        " (\"joe\", \"maths\", \"80\"),\n",
        " (\"joe\", \"science\", \"70\"),\n",
        " (\"joe\", \"english\", \"60\")]\n",
        "\n",
        "column_names = [\"student\", \"subject\", \"marks\"]\n",
        "\n",
        "Expected output:\n",
        "+-------+-------+-----+-------+\n",
        "|student|english|maths|science|\n",
        "+-------+-------+-----+-------+\n",
        "|  joe |    60|   80|    70|\n",
        "|  john |    70|   50|    60|\n",
        "+-------+-------+-----+-------+\n"
      ]
    },
    {
      "cell_type": "code",
      "source": [
        "from pyspark.sql import SparkSession\n",
        "\n",
        "from pyspark.sql.functions import *\n",
        "\n",
        "spark=SparkSession.builder.appName(\"learning\").getOrCreate()\n",
        "\n",
        "data= [(\"john\", \"maths\", \"50\"),\n",
        " (\"john\", \"science\", \"60\"),\n",
        " (\"john\", \"english\", \"70\"),\n",
        " (\"joe\", \"maths\", \"80\"),\n",
        " (\"joe\", \"science\", \"70\"),\n",
        " (\"joe\", \"english\", \"60\")]\n",
        "\n",
        "schema=[\"student\", \"subject\", \"marks\"]\n",
        "\n",
        "df=spark.createDataFrame(data,schema)\n",
        "\n",
        "df.show()\n",
        "\n",
        "df1=df.groupBy('student').pivot('subject').agg(sum('marks'))\n",
        "\n",
        "df1.show()\n",
        "\n"
      ],
      "metadata": {
        "colab": {
          "base_uri": "https://localhost:8080/"
        },
        "id": "wqnWeqkjKhhR",
        "outputId": "357bff1d-4601-4253-b089-5be58c2fc97a"
      },
      "execution_count": 3,
      "outputs": [
        {
          "output_type": "stream",
          "name": "stdout",
          "text": [
            "+-------+-------+-----+\n",
            "|student|subject|marks|\n",
            "+-------+-------+-----+\n",
            "|   john|  maths|   50|\n",
            "|   john|science|   60|\n",
            "|   john|english|   70|\n",
            "|    joe|  maths|   80|\n",
            "|    joe|science|   70|\n",
            "|    joe|english|   60|\n",
            "+-------+-------+-----+\n",
            "\n",
            "+-------+-------+-----+-------+\n",
            "|student|english|maths|science|\n",
            "+-------+-------+-----+-------+\n",
            "|   john|   70.0| 50.0|   60.0|\n",
            "|    joe|   60.0| 80.0|   70.0|\n",
            "+-------+-------+-----+-------+\n",
            "\n"
          ]
        }
      ]
    }
  ]
}