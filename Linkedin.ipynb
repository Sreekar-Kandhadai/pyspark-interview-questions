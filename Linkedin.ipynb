{
  "nbformat": 4,
  "nbformat_minor": 0,
  "metadata": {
    "colab": {
      "provenance": [],
      "authorship_tag": "ABX9TyMztmVCUQ73pKvE2lUko03V",
      "include_colab_link": true
    },
    "kernelspec": {
      "name": "python3",
      "display_name": "Python 3"
    },
    "language_info": {
      "name": "python"
    }
  },
  "cells": [
    {
      "cell_type": "markdown",
      "metadata": {
        "id": "view-in-github",
        "colab_type": "text"
      },
      "source": [
        "<a href=\"https://colab.research.google.com/github/Sreekar-Kandhadai/pyspark-interview-questions/blob/main/Linkedin.ipynb\" target=\"_parent\"><img src=\"https://colab.research.google.com/assets/colab-badge.svg\" alt=\"Open In Colab\"/></a>"
      ]
    },
    {
      "cell_type": "code",
      "execution_count": null,
      "metadata": {
        "id": "xZLF0GLh3v5d"
      },
      "outputs": [],
      "source": [
        "We have a dataset of LinkedIn users, where each record contains details about their work history — employer,\n",
        " job position, and the start and end dates of each job.\n",
        "\n",
        "We want to find out how many users had Microsoft as their employer, and immediately after that, they started\n",
        "working at Google, with no other employers between these two positions."
      ]
    },
    {
      "cell_type": "code",
      "source": [
        "from pyspark.sql import SparkSession\n",
        "\n",
        "from pyspark.sql.functions import *\n",
        "\n",
        "from pyspark.sql.window import Window\n",
        "\n",
        "spark=SparkSession.builder.appName(\"learning\").getOrCreate()\n",
        "\n",
        "linkedin_data = [\n",
        "    (1, 'Microsoft', 'developer', '2020-04-13', '2021-11-01'),\n",
        "    (1, 'Google', 'developer', '2021-11-01', None),\n",
        "    (2, 'Google', 'manager', '2021-01-01', '2021-01-11'),\n",
        "    (2, 'Microsoft', 'manager', '2021-01-11', None),\n",
        "    (3, 'Microsoft', 'analyst', '2019-03-15', '2020-07-24'),\n",
        "    (3, 'Amazon', 'analyst', '2020-08-01', '2020-11-01'),\n",
        "    (3, 'Google', 'senior analyst', '2020-11-01', '2021-03-04'),\n",
        "    (4, 'Google', 'junior developer', '2018-06-01', '2021-11-01'),\n",
        "    (4, 'Google', 'senior developer', '2021-11-01', None),\n",
        "    (5, 'Microsoft', 'manager', '2017-09-26', None),\n",
        "    (6, 'Google', 'CEO', '2015-10-02', None)\n",
        "]\n",
        "\n",
        "# Define the schema for the LinkedIn data\n",
        "linkedin_columns = ['user_id', 'employer', 'position', 'start_date', 'end_date']\n",
        "\n",
        "\n",
        "df=spark.createDataFrame(linkedin_data,linkedin_columns)\n",
        "\n",
        "df.show()\n",
        "\n",
        "window_spec=Window.partitionBy('user_id').orderBy('start_date')\n",
        "\n",
        "df1=df.withColumn('next_employer',lead('employer').over(window_spec))\n",
        "\n",
        "df1.show()\n",
        "\n",
        "df2=df1.filter(\"employer='Microsoft' and next_employer='Google'\")\n",
        "\n",
        "df2.show()\n",
        "\n",
        "df3=df2.select(\"user_id\").distinct().count()\n",
        "\n",
        "print(df3)"
      ],
      "metadata": {
        "colab": {
          "base_uri": "https://localhost:8080/"
        },
        "id": "AAdqBG6w43sR",
        "outputId": "e2a323d0-a509-4f86-c862-c4fb1dd1c22b"
      },
      "execution_count": 8,
      "outputs": [
        {
          "output_type": "stream",
          "name": "stdout",
          "text": [
            "+-------+---------+----------------+----------+----------+\n",
            "|user_id| employer|        position|start_date|  end_date|\n",
            "+-------+---------+----------------+----------+----------+\n",
            "|      1|Microsoft|       developer|2020-04-13|2021-11-01|\n",
            "|      1|   Google|       developer|2021-11-01|      NULL|\n",
            "|      2|   Google|         manager|2021-01-01|2021-01-11|\n",
            "|      2|Microsoft|         manager|2021-01-11|      NULL|\n",
            "|      3|Microsoft|         analyst|2019-03-15|2020-07-24|\n",
            "|      3|   Amazon|         analyst|2020-08-01|2020-11-01|\n",
            "|      3|   Google|  senior analyst|2020-11-01|2021-03-04|\n",
            "|      4|   Google|junior developer|2018-06-01|2021-11-01|\n",
            "|      4|   Google|senior developer|2021-11-01|      NULL|\n",
            "|      5|Microsoft|         manager|2017-09-26|      NULL|\n",
            "|      6|   Google|             CEO|2015-10-02|      NULL|\n",
            "+-------+---------+----------------+----------+----------+\n",
            "\n",
            "+-------+---------+----------------+----------+----------+-------------+\n",
            "|user_id| employer|        position|start_date|  end_date|next_employer|\n",
            "+-------+---------+----------------+----------+----------+-------------+\n",
            "|      1|Microsoft|       developer|2020-04-13|2021-11-01|       Google|\n",
            "|      1|   Google|       developer|2021-11-01|      NULL|         NULL|\n",
            "|      2|   Google|         manager|2021-01-01|2021-01-11|    Microsoft|\n",
            "|      2|Microsoft|         manager|2021-01-11|      NULL|         NULL|\n",
            "|      3|Microsoft|         analyst|2019-03-15|2020-07-24|       Amazon|\n",
            "|      3|   Amazon|         analyst|2020-08-01|2020-11-01|       Google|\n",
            "|      3|   Google|  senior analyst|2020-11-01|2021-03-04|         NULL|\n",
            "|      4|   Google|junior developer|2018-06-01|2021-11-01|       Google|\n",
            "|      4|   Google|senior developer|2021-11-01|      NULL|         NULL|\n",
            "|      5|Microsoft|         manager|2017-09-26|      NULL|         NULL|\n",
            "|      6|   Google|             CEO|2015-10-02|      NULL|         NULL|\n",
            "+-------+---------+----------------+----------+----------+-------------+\n",
            "\n",
            "+-------+---------+---------+----------+----------+-------------+\n",
            "|user_id| employer| position|start_date|  end_date|next_employer|\n",
            "+-------+---------+---------+----------+----------+-------------+\n",
            "|      1|Microsoft|developer|2020-04-13|2021-11-01|       Google|\n",
            "+-------+---------+---------+----------+----------+-------------+\n",
            "\n",
            "1\n"
          ]
        }
      ]
    }
  ]
}