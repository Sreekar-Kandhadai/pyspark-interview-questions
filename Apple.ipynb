{
  "nbformat": 4,
  "nbformat_minor": 0,
  "metadata": {
    "colab": {
      "provenance": [],
      "authorship_tag": "ABX9TyP84KV57twD4+8YdThwlbn1",
      "include_colab_link": true
    },
    "kernelspec": {
      "name": "python3",
      "display_name": "Python 3"
    },
    "language_info": {
      "name": "python"
    }
  },
  "cells": [
    {
      "cell_type": "markdown",
      "metadata": {
        "id": "view-in-github",
        "colab_type": "text"
      },
      "source": [
        "<a href=\"https://colab.research.google.com/github/Sreekar-Kandhadai/pyspark-interview-questions/blob/main/Apple.ipynb\" target=\"_parent\"><img src=\"https://colab.research.google.com/assets/colab-badge.svg\" alt=\"Open In Colab\"/></a>"
      ]
    },
    {
      "cell_type": "code",
      "execution_count": null,
      "metadata": {
        "id": "LPa50dLta3Ns"
      },
      "outputs": [],
      "source": [
        "Find the number of Apple product users (MacBook-Pro, iPhone 5s, iPad-air) and\n",
        "the total number of users with any device, grouped by language\n",
        "Output the language along with the total number of Apple users and users with\n",
        "any device. Order the results by the number of total users in descending order."
      ]
    },
    {
      "cell_type": "code",
      "source": [
        "from pyspark.sql import SparkSession\n",
        "\n",
        "from pyspark.sql.functions import *\n",
        "\n",
        "spark=SparkSession.builder.appName(\"appleUsers\").getOrCreate()\n",
        "\n",
        "users_data = [\n",
        "    (1, '2024-01-01 08:00:00', 101, 'English', '2024-01-05 10:00:00', 'Active'),\n",
        "    (2, '2024-01-02 09:00:00', 102, 'Spanish', '2024-01-06 11:00:00', 'Inactive'),\n",
        "    (3, '2024-01-03 10:00:00', 103, 'French', '2024-01-07 12:00:00', 'Active'),\n",
        "    (4, '2024-01-04 11:00:00', 104, 'English', '2024-01-08 13:00:00', 'Active'),\n",
        "    (5, '2024-01-05 12:00:00', 105, 'Spanish', '2024-01-09 14:00:00', 'Inactive')\n",
        "]\n",
        "\n",
        "events_data = [\n",
        "    (1, '2024-01-05 14:00:00', 'Click', 'Login', 'USA', 'MacBook-Pro'),\n",
        "    (2, '2024-01-06 15:00:00', 'View', 'Dashboard', 'Spain', 'iPhone 5s'),\n",
        "    (3, '2024-01-07 16:00:00', 'Click', 'Logout', 'France', 'iPad-air'),\n",
        "    (4, '2024-01-08 17:00:00', 'Purchase', 'Subscription', 'USA', 'Windows-Laptop'),\n",
        "    (5, '2024-01-09 18:00:00', 'Click', 'Login', 'Spain', 'Android-Phone')\n",
        "]\n",
        "\n",
        "users_columns = [\"user_id\", \"created_at\", \"company_id\", \"language\", \"activated_at\", \"state\"]\n",
        "events_columns = [\"user_id\", \"occurred_at\", \"event_type\", \"event_name\", \"location\", \"device\"]\n",
        "\n",
        "users_df=spark.createDataFrame(users_data,users_columns)\n",
        "events_df=spark.createDataFrame(events_data,events_columns)\n",
        "\n",
        "users_df.show()\n",
        "\n",
        "events_df.show()\n",
        "\n",
        "apple_devices=['MacBook-Pro','iPhone 5s','iPad-air']\n",
        "\n",
        "df1=(events_df.filter(col('device').isin(apple_devices))).join(users_df,\"user_id\",\"inner\").groupBy('language').agg(countDistinct('user_id').alias('mac_users'))\n",
        "\n",
        "df1.show()\n",
        "\n",
        "df2=events_df.join(users_df,\"user_id\",\"inner\").groupBy(\"language\").agg(countDistinct(\"user_id\").alias(\"total_users\"))\n",
        "\n",
        "df2.show()\n",
        "\n",
        "df3=df1.join(df2,\"language\",\"outer\").select(\"language\",coalesce(col('mac_users'),lit(0)).alias(\"apple_users\"),coalesce(col('total_users'),lit(0)).alias(\"total_users\"))\\\n",
        ".orderBy(col('total_users').desc())\n",
        "\n",
        "df3.show()\n"
      ],
      "metadata": {
        "colab": {
          "base_uri": "https://localhost:8080/"
        },
        "id": "DzuiYB0LbBgv",
        "outputId": "54a29125-b4b4-4502-cdd3-f99ece91698f"
      },
      "execution_count": 9,
      "outputs": [
        {
          "output_type": "stream",
          "name": "stdout",
          "text": [
            "+-------+-------------------+----------+--------+-------------------+--------+\n",
            "|user_id|         created_at|company_id|language|       activated_at|   state|\n",
            "+-------+-------------------+----------+--------+-------------------+--------+\n",
            "|      1|2024-01-01 08:00:00|       101| English|2024-01-05 10:00:00|  Active|\n",
            "|      2|2024-01-02 09:00:00|       102| Spanish|2024-01-06 11:00:00|Inactive|\n",
            "|      3|2024-01-03 10:00:00|       103|  French|2024-01-07 12:00:00|  Active|\n",
            "|      4|2024-01-04 11:00:00|       104| English|2024-01-08 13:00:00|  Active|\n",
            "|      5|2024-01-05 12:00:00|       105| Spanish|2024-01-09 14:00:00|Inactive|\n",
            "+-------+-------------------+----------+--------+-------------------+--------+\n",
            "\n",
            "+-------+-------------------+----------+------------+--------+--------------+\n",
            "|user_id|        occurred_at|event_type|  event_name|location|        device|\n",
            "+-------+-------------------+----------+------------+--------+--------------+\n",
            "|      1|2024-01-05 14:00:00|     Click|       Login|     USA|   MacBook-Pro|\n",
            "|      2|2024-01-06 15:00:00|      View|   Dashboard|   Spain|     iPhone 5s|\n",
            "|      3|2024-01-07 16:00:00|     Click|      Logout|  France|      iPad-air|\n",
            "|      4|2024-01-08 17:00:00|  Purchase|Subscription|     USA|Windows-Laptop|\n",
            "|      5|2024-01-09 18:00:00|     Click|       Login|   Spain| Android-Phone|\n",
            "+-------+-------------------+----------+------------+--------+--------------+\n",
            "\n",
            "+--------+---------+\n",
            "|language|mac_users|\n",
            "+--------+---------+\n",
            "| English|        1|\n",
            "| Spanish|        1|\n",
            "|  French|        1|\n",
            "+--------+---------+\n",
            "\n",
            "+--------+-----------+\n",
            "|language|total_users|\n",
            "+--------+-----------+\n",
            "| English|          2|\n",
            "| Spanish|          2|\n",
            "|  French|          1|\n",
            "+--------+-----------+\n",
            "\n",
            "+--------+-----------+-----------+\n",
            "|language|apple_users|total_users|\n",
            "+--------+-----------+-----------+\n",
            "| English|          1|          2|\n",
            "| Spanish|          1|          2|\n",
            "|  French|          1|          1|\n",
            "+--------+-----------+-----------+\n",
            "\n"
          ]
        }
      ]
    }
  ]
}