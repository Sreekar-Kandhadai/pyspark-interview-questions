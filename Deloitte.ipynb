{
  "nbformat": 4,
  "nbformat_minor": 0,
  "metadata": {
    "colab": {
      "provenance": [],
      "authorship_tag": "ABX9TyNvN4+tMFBVouuB+pb4UZSr",
      "include_colab_link": true
    },
    "kernelspec": {
      "name": "python3",
      "display_name": "Python 3"
    },
    "language_info": {
      "name": "python"
    }
  },
  "cells": [
    {
      "cell_type": "markdown",
      "metadata": {
        "id": "view-in-github",
        "colab_type": "text"
      },
      "source": [
        "<a href=\"https://colab.research.google.com/github/Sreekar-Kandhadai/pyspark-interview-questions/blob/main/Deloitte.ipynb\" target=\"_parent\"><img src=\"https://colab.research.google.com/assets/colab-badge.svg\" alt=\"Open In Colab\"/></a>"
      ]
    },
    {
      "cell_type": "code",
      "execution_count": null,
      "metadata": {
        "id": "m3QW3ov-pShY"
      },
      "outputs": [],
      "source": [
        "We need to find the genre of the person with the most Oscar wins. In case of a tie (multiple people with the same number of wins),\n",
        "we need to return the person who comes first alphabetically by their name.\n",
        "\n"
      ]
    },
    {
      "cell_type": "code",
      "source": [
        "from pyspark.sql import SparkSession\n",
        "\n",
        "from pyspark.sql.functions import *\n",
        "\n",
        "spark=SparkSession.builder.appName(\"learning\").getOrCreate()\n",
        "\n",
        "nominee_data = [\n",
        "    ('Jennifer Lawrence', 'P562566', 'Drama', '1990-08-15', 755),\n",
        "    ('Jonah Hill', 'P418718', 'Comedy', '1983-12-20', 747),\n",
        "    ('Anne Hathaway', 'P292630', 'Drama', '1982-11-12', 744),\n",
        "    ('Jennifer Hudson', 'P454405', 'Drama', '1981-09-12', 742),\n",
        "    ('Rinko Kikuchi', 'P475244', 'Drama', '1981-01-06', 739)\n",
        "]\n",
        "\n",
        "# Sample data for oscar_nominees\n",
        "oscar_data = [\n",
        "    (2008, 'actress in a leading role', 'Anne Hathaway', 'Rachel Getting Married', 0, 77),\n",
        "    (2012, 'actress in a supporting role', 'Anne HathawayLes', 'Mis_rables', 1, 78),\n",
        "    (2006, 'actress in a supporting role', 'Jennifer Hudson', 'Dreamgirls', 1, 711),\n",
        "    (2010, 'actress in a leading role', 'Jennifer Lawrence', 'Winters Bone', 1, 717),\n",
        "    (2012, 'actress in a leading role', 'Jennifer Lawrence', 'Silver Linings Playbook', 1, 718),\n",
        "    (2011, 'actor in a supporting role', 'Jonah Hill', 'Moneyball', 0, 799),\n",
        "    (2006, 'actress in a supporting role', 'Rinko Kikuchi', 'Babel', 0, 1253)\n",
        "]\n",
        "\n",
        "# Define schema for nominee_information\n",
        "columns_nominee = [\"name\", \"amg_person_id\", \"top_genre\", \"birthday\", \"id\"]\n",
        "\n",
        "# Define schema for oscar_nominees\n",
        "columns_oscar = [\"year\", \"category\", \"nominee\", \"movie\", \"winner\", \"id\"]\n",
        "\n",
        "df_nominee=spark.createDataFrame(nominee_data,columns_nominee)\n",
        "\n",
        "df_nominee.show()\n",
        "\n",
        "df_oscar=spark.createDataFrame(oscar_data,columns_oscar)\n",
        "\n",
        "df_oscar.show()\n",
        "\n",
        "df_oscar_wins=df_oscar.filter(\"winner==1\").groupBy('nominee').agg(count('winner').alias('total_wins'))\n",
        "\n",
        "df_oscar_wins.show()\n",
        "\n",
        "joined_df=df_oscar_wins.join(df_nominee,col('nominee')==col('name'),\"inner\").orderBy(col('total_wins').desc(),col('name'))\n",
        "\n",
        "joined_df.show()\n",
        "\n",
        "resultdf=joined_df.select(\"name\",\"top_genre\").first()\n",
        "\n",
        "\n",
        "print(f\"The genre of the person with the most Oscar wins is {resultdf['top_genre']}.\")\n"
      ],
      "metadata": {
        "colab": {
          "base_uri": "https://localhost:8080/"
        },
        "id": "jpf8vgNRqI-W",
        "outputId": "aca6d043-400b-4972-a441-7c76b7786a11"
      },
      "execution_count": 8,
      "outputs": [
        {
          "output_type": "stream",
          "name": "stdout",
          "text": [
            "+-----------------+-------------+---------+----------+---+\n",
            "|             name|amg_person_id|top_genre|  birthday| id|\n",
            "+-----------------+-------------+---------+----------+---+\n",
            "|Jennifer Lawrence|      P562566|    Drama|1990-08-15|755|\n",
            "|       Jonah Hill|      P418718|   Comedy|1983-12-20|747|\n",
            "|    Anne Hathaway|      P292630|    Drama|1982-11-12|744|\n",
            "|  Jennifer Hudson|      P454405|    Drama|1981-09-12|742|\n",
            "|    Rinko Kikuchi|      P475244|    Drama|1981-01-06|739|\n",
            "+-----------------+-------------+---------+----------+---+\n",
            "\n",
            "+----+--------------------+-----------------+--------------------+------+----+\n",
            "|year|            category|          nominee|               movie|winner|  id|\n",
            "+----+--------------------+-----------------+--------------------+------+----+\n",
            "|2008|actress in a lead...|    Anne Hathaway|Rachel Getting Ma...|     0|  77|\n",
            "|2012|actress in a supp...| Anne HathawayLes|          Mis_rables|     1|  78|\n",
            "|2006|actress in a supp...|  Jennifer Hudson|          Dreamgirls|     1| 711|\n",
            "|2010|actress in a lead...|Jennifer Lawrence|        Winters Bone|     1| 717|\n",
            "|2012|actress in a lead...|Jennifer Lawrence|Silver Linings Pl...|     1| 718|\n",
            "|2011|actor in a suppor...|       Jonah Hill|           Moneyball|     0| 799|\n",
            "|2006|actress in a supp...|    Rinko Kikuchi|               Babel|     0|1253|\n",
            "+----+--------------------+-----------------+--------------------+------+----+\n",
            "\n",
            "+-----------------+----------+\n",
            "|          nominee|total_wins|\n",
            "+-----------------+----------+\n",
            "| Anne HathawayLes|         1|\n",
            "|  Jennifer Hudson|         1|\n",
            "|Jennifer Lawrence|         2|\n",
            "+-----------------+----------+\n",
            "\n",
            "+-----------------+----------+-----------------+-------------+---------+----------+---+\n",
            "|          nominee|total_wins|             name|amg_person_id|top_genre|  birthday| id|\n",
            "+-----------------+----------+-----------------+-------------+---------+----------+---+\n",
            "|Jennifer Lawrence|         2|Jennifer Lawrence|      P562566|    Drama|1990-08-15|755|\n",
            "|  Jennifer Hudson|         1|  Jennifer Hudson|      P454405|    Drama|1981-09-12|742|\n",
            "+-----------------+----------+-----------------+-------------+---------+----------+---+\n",
            "\n",
            "The genre of the person with the most Oscar wins is Drama.\n"
          ]
        }
      ]
    }
  ]
}