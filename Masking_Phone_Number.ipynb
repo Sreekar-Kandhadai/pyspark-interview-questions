{
  "nbformat": 4,
  "nbformat_minor": 0,
  "metadata": {
    "colab": {
      "provenance": [],
      "authorship_tag": "ABX9TyPFwe38fcwmunUxgmNCDlMb",
      "include_colab_link": true
    },
    "kernelspec": {
      "name": "python3",
      "display_name": "Python 3"
    },
    "language_info": {
      "name": "python"
    }
  },
  "cells": [
    {
      "cell_type": "markdown",
      "metadata": {
        "id": "view-in-github",
        "colab_type": "text"
      },
      "source": [
        "<a href=\"https://colab.research.google.com/github/Sreekar-Kandhadai/pyspark-interview-questions/blob/main/Masking_Phone_Number.ipynb\" target=\"_parent\"><img src=\"https://colab.research.google.com/assets/colab-badge.svg\" alt=\"Open In Colab\"/></a>"
      ]
    },
    {
      "cell_type": "code",
      "execution_count": null,
      "metadata": {
        "id": "XpTvJy_vlJ4Q"
      },
      "outputs": [],
      "source": [
        "Mask the phone number except first and last digit.\n"
      ]
    },
    {
      "cell_type": "code",
      "source": [
        "from pyspark.sql import SparkSession\n",
        "\n",
        "from pyspark.sql.functions import *\n",
        "\n",
        "spark=SparkSession.builder.appName(\"Mask\").getOrCreate()\n",
        "\n",
        "data = [(\"John Doe\", \"1234567890\", \"john.doe@example.com\")]\n",
        "columns = [\"name\", \"phone\", \"email\"]\n",
        "\n",
        "df=spark.createDataFrame(data,columns)\n",
        "\n",
        "df.show()\n",
        "\n",
        "df1=df.withColumn(\"masked_phone_no\",concat(substring(col('phone'),1,1),lit('********'),substring(col('phone'),10,10)))\\\n",
        "      .select(\"name\",\"email\",\"masked_phone_no\")\n",
        "\n",
        "df1.show()"
      ],
      "metadata": {
        "colab": {
          "base_uri": "https://localhost:8080/"
        },
        "id": "M285fpmErkHg",
        "outputId": "ca84f965-1fc5-4fa4-bdac-630d9ec55922"
      },
      "execution_count": 8,
      "outputs": [
        {
          "output_type": "stream",
          "name": "stdout",
          "text": [
            "+--------+----------+--------------------+\n",
            "|    name|     phone|               email|\n",
            "+--------+----------+--------------------+\n",
            "|John Doe|1234567890|john.doe@example.com|\n",
            "+--------+----------+--------------------+\n",
            "\n",
            "+--------+--------------------+---------------+\n",
            "|    name|               email|masked_phone_no|\n",
            "+--------+--------------------+---------------+\n",
            "|John Doe|john.doe@example.com|     1********0|\n",
            "+--------+--------------------+---------------+\n",
            "\n"
          ]
        }
      ]
    }
  ]
}