{
  "nbformat": 4,
  "nbformat_minor": 0,
  "metadata": {
    "colab": {
      "provenance": [],
      "authorship_tag": "ABX9TyMf3uq+PXvRCSl4dHIYhSgy",
      "include_colab_link": true
    },
    "kernelspec": {
      "name": "python3",
      "display_name": "Python 3"
    },
    "language_info": {
      "name": "python"
    }
  },
  "cells": [
    {
      "cell_type": "markdown",
      "metadata": {
        "id": "view-in-github",
        "colab_type": "text"
      },
      "source": [
        "<a href=\"https://colab.research.google.com/github/Sreekar-Kandhadai/pyspark-interview-questions/blob/main/Atlassian.ipynb\" target=\"_parent\"><img src=\"https://colab.research.google.com/assets/colab-badge.svg\" alt=\"Open In Colab\"/></a>"
      ]
    },
    {
      "cell_type": "code",
      "execution_count": null,
      "metadata": {
        "id": "IcPchWmK1uLQ"
      },
      "outputs": [],
      "source": [
        "You are given a table with titles of recipes from a cookbook and their page numbers.\n",
        "Your task is to produce a table that represents how the recipes are distributed across the pages of the cookbook.\n",
        "Specifically, for each even-numbered page (the left page), show the title of that page in one column, and in the\n",
        "next column, show the title of the next odd-numbered page (the right page).\n",
        "\n",
        "Each row should contain:\n",
        "\n",
        "left_page_number: The page number for the left side (even page).\n",
        "left_title: The title of the recipe on the left page.\n",
        "right_title: The title of the recipe on the adjacent right page.\n",
        "If a page does not contain a recipe, the title should be NULL. Page 0 is guaranteed to be empty, so it will not appear in the result"
      ]
    },
    {
      "cell_type": "code",
      "source": [
        "from pyspark.sql import SparkSession\n",
        "\n",
        "from pyspark.sql.functions import *\n",
        "\n",
        "spark=SparkSession.builder.appName(\"learning\").getOrCreate()\n",
        "\n",
        "titles_data = [\n",
        "    (1, 'Scrambled eggs'),\n",
        "    (2, 'Fondue'),\n",
        "    (3, 'Sandwich'),\n",
        "    (4, 'Tomato soup'),\n",
        "    (6, 'Liver'),\n",
        "    (11, 'Fried duck'),\n",
        "    (12, 'Boiled duck'),\n",
        "    (15, 'Baked chicken')\n",
        "]\n",
        "\n",
        "# Define schema for the cookbook_titles data\n",
        "titles_columns = [\"page_number\", \"title\"]\n",
        "\n",
        "df=spark.createDataFrame(titles_data, titles_columns)\n",
        "\n",
        "df.show()\n",
        "\n",
        "df_left=df.filter(\"page_number%2==0\").withColumnRenamed(\"page_number\",\"left_page_number\").withColumnRenamed(\"title\",\"left_title\")\n",
        "\n",
        "df_right=df.filter(\"page_number%2!=0\").withColumnRenamed(\"page_number\",\"right_page_number\").withColumnRenamed(\"title\",\"right_title\")\n",
        "\n",
        "resultdf=df_left.join(df_right,col('left_page_number')+1==col('right_page_number'),\"left\").select(\"left_page_number\",\"left_title\",\"right_title\")\n",
        "\n",
        "resultdf.show()"
      ],
      "metadata": {
        "colab": {
          "base_uri": "https://localhost:8080/"
        },
        "id": "KpRohoK73NJG",
        "outputId": "aa9c0555-3587-42a5-c73d-b76eac6813f5"
      },
      "execution_count": 7,
      "outputs": [
        {
          "output_type": "stream",
          "name": "stdout",
          "text": [
            "+-----------+--------------+\n",
            "|page_number|         title|\n",
            "+-----------+--------------+\n",
            "|          1|Scrambled eggs|\n",
            "|          2|        Fondue|\n",
            "|          3|      Sandwich|\n",
            "|          4|   Tomato soup|\n",
            "|          6|         Liver|\n",
            "|         11|    Fried duck|\n",
            "|         12|   Boiled duck|\n",
            "|         15| Baked chicken|\n",
            "+-----------+--------------+\n",
            "\n",
            "+----------------+-----------+-----------+\n",
            "|left_page_number| left_title|right_title|\n",
            "+----------------+-----------+-----------+\n",
            "|               4|Tomato soup|       NULL|\n",
            "|               2|     Fondue|   Sandwich|\n",
            "|               6|      Liver|       NULL|\n",
            "|              12|Boiled duck|       NULL|\n",
            "+----------------+-----------+-----------+\n",
            "\n"
          ]
        }
      ]
    }
  ]
}