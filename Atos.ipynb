{
  "nbformat": 4,
  "nbformat_minor": 0,
  "metadata": {
    "colab": {
      "provenance": [],
      "authorship_tag": "ABX9TyOAS/W3cLtQfPU4GYzxSO1t",
      "include_colab_link": true
    },
    "kernelspec": {
      "name": "python3",
      "display_name": "Python 3"
    },
    "language_info": {
      "name": "python"
    }
  },
  "cells": [
    {
      "cell_type": "markdown",
      "metadata": {
        "id": "view-in-github",
        "colab_type": "text"
      },
      "source": [
        "<a href=\"https://colab.research.google.com/github/Sreekar-Kandhadai/pyspark-interview-questions/blob/main/Atos.ipynb\" target=\"_parent\"><img src=\"https://colab.research.google.com/assets/colab-badge.svg\" alt=\"Open In Colab\"/></a>"
      ]
    },
    {
      "cell_type": "code",
      "execution_count": null,
      "metadata": {
        "id": "UW8gP0VwNYAw"
      },
      "outputs": [],
      "source": [
        "𝐐𝐮𝐞𝐬𝐭𝐢𝐨𝐧\n",
        "You are given a large e-commerce transaction dataset stored in a partitioned format based on country.\n",
        " Your task is to count the distinct number of products purchased (product_id) for each customer_id in every country.\n",
        " The result should include the country, customer ID, and the distinct product count.\n",
        "\n",
        "𝐬𝐜𝐡𝐞𝐦𝐚\n",
        "# Sample data data = [ (\"USA\", 101, \"P001\"),\n",
        "(\"USA\", 101, \"P002\"), (\"USA\", 101, \"P001\"),\n",
        "(\"USA\", 102, \"P003\"), (\"USA\", 102, \"P003\"),\n",
        "(\"UK\", 201, \"P004\"), (\"UK\", 201, \"P005\"),\n",
        "(\"UK\", 202, \"P004\"), (\"UK\", 202, \"P005\"), (\"UK\", 202, \"P004\") ]\n",
        "\n",
        " # Define schema and create DataFrame columns = [\"country\", \"customer_id\", \"product_id\"]"
      ]
    },
    {
      "cell_type": "code",
      "source": [
        "from pyspark.sql import SparkSession\n",
        "\n",
        "from pyspark.sql.functions import *\n",
        "\n",
        "\n",
        "spark=SparkSession.builder.appName(\"learning\").getOrCreate()\n",
        "\n",
        "\n",
        "data= [ (\"USA\", 101, \"P001\"),\n",
        "(\"USA\", 101, \"P002\"), (\"USA\", 101, \"P001\"),\n",
        "(\"USA\", 102, \"P003\"), (\"USA\", 102, \"P003\"),\n",
        "(\"UK\", 201, \"P004\"), (\"UK\", 201, \"P005\"),\n",
        "(\"UK\", 202, \"P004\"), (\"UK\", 202, \"P005\"), (\"UK\", 202, \"P004\") ]\n",
        "\n",
        "schema= [\"country\", \"customer_id\", \"product_id\"]\n",
        "\n",
        "\n",
        "df=spark.createDataFrame(data,schema)\n",
        "\n",
        "df.show()\n",
        "\n",
        "df1=df.groupBy('country','customer_id').agg(countDistinct('product_id').alias('product_count'))\n",
        "\n",
        "df1.show()"
      ],
      "metadata": {
        "colab": {
          "base_uri": "https://localhost:8080/"
        },
        "id": "EiiP8AaVNghC",
        "outputId": "ba4fbf13-603f-4beb-c0e4-6653f99fae26"
      },
      "execution_count": 3,
      "outputs": [
        {
          "output_type": "stream",
          "name": "stdout",
          "text": [
            "+-------+-----------+----------+\n",
            "|country|customer_id|product_id|\n",
            "+-------+-----------+----------+\n",
            "|    USA|        101|      P001|\n",
            "|    USA|        101|      P002|\n",
            "|    USA|        101|      P001|\n",
            "|    USA|        102|      P003|\n",
            "|    USA|        102|      P003|\n",
            "|     UK|        201|      P004|\n",
            "|     UK|        201|      P005|\n",
            "|     UK|        202|      P004|\n",
            "|     UK|        202|      P005|\n",
            "|     UK|        202|      P004|\n",
            "+-------+-----------+----------+\n",
            "\n",
            "+-------+-----------+-------------+\n",
            "|country|customer_id|product_count|\n",
            "+-------+-----------+-------------+\n",
            "|    USA|        101|            2|\n",
            "|     UK|        202|            2|\n",
            "|     UK|        201|            2|\n",
            "|    USA|        102|            1|\n",
            "+-------+-----------+-------------+\n",
            "\n"
          ]
        }
      ]
    }
  ]
}