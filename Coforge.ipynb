{
  "nbformat": 4,
  "nbformat_minor": 0,
  "metadata": {
    "colab": {
      "provenance": [],
      "authorship_tag": "ABX9TyNHK4/vnNdWAStGoH9r/bfx",
      "include_colab_link": true
    },
    "kernelspec": {
      "name": "python3",
      "display_name": "Python 3"
    },
    "language_info": {
      "name": "python"
    }
  },
  "cells": [
    {
      "cell_type": "markdown",
      "metadata": {
        "id": "view-in-github",
        "colab_type": "text"
      },
      "source": [
        "<a href=\"https://colab.research.google.com/github/Sreekar-Kandhadai/pyspark-interview-questions/blob/main/Coforge.ipynb\" target=\"_parent\"><img src=\"https://colab.research.google.com/assets/colab-badge.svg\" alt=\"Open In Colab\"/></a>"
      ]
    },
    {
      "cell_type": "code",
      "execution_count": null,
      "metadata": {
        "id": "v2JxiEyJKM5h"
      },
      "outputs": [],
      "source": [
        "Write a Pypark code to filter customer transactions greater than $10,000, transform customer names to have the first letter capitalized\n",
        "and the rest in lowercase and compute the average transaction amount for each product category.\n",
        "\n"
      ]
    },
    {
      "cell_type": "code",
      "source": [
        "from pyspark.sql import SparkSession\n",
        "\n",
        "from pyspark.sql.functions import *\n",
        "\n",
        "spark=SparkSession.builder.appName(\"learning\").getOrCreate()\n",
        "\n",
        "data = [\n",
        "    (1, \"ALICE\", 12000, \"Electronics\"),\n",
        "    (2, \"BOB\", 9000, \"Home Appliances\"),\n",
        "    (3, \"CHARLIE\", 15000, \"Fashion\"),\n",
        "    (4, \"DANIEL\", 8000, \"Electronics\"),\n",
        "    (5, \"EMMA\", 11000, \"Fashion\"),\n",
        "    (6, \"FRANK\", 13000, \"Home Appliances\"),\n",
        "    (7, \"GINA\", 10000, \"Electronics\"),\n",
        "    (8, \"HENRY\", 14000, \"Fashion\"),\n",
        "    (9, \"ISABELLA\", 9500, \"Home Appliances\"),\n",
        "    (10, \"JACK\", 10500, \"Electronics\")\n",
        "]\n",
        "\n",
        "customer_df = spark.createDataFrame(data, [\"customer_id\", \"customer_name\", \"transaction\", \"product_category\"])\n",
        "\n",
        "customer_df.show()\n",
        "\n",
        "transformed_df=customer_df.withColumn(\"customer_transformed_name\", initcap(col('customer_name')))\n",
        "\n",
        "filtered_df=transformed_df.filter(col('transaction')> 10000)\n",
        "\n",
        "filtered_df.show()\n",
        "\n",
        "average_df=filtered_df.groupBy('product_category').agg(avg('transaction').alias('avg_transaction'))\n",
        "\n",
        "result_df=(filtered_df.select(\"customer_transformed_name\",\"product_category\",\"transaction\")).join(average_df,\"product_category\",\"inner\").orderBy('product_category')\n",
        "\n",
        "result_df.show()"
      ],
      "metadata": {
        "colab": {
          "base_uri": "https://localhost:8080/"
        },
        "id": "kbxAS9pOKUGT",
        "outputId": "1c7faeb8-dc72-401c-b1ad-e3010a2dfe7f"
      },
      "execution_count": 4,
      "outputs": [
        {
          "output_type": "stream",
          "name": "stdout",
          "text": [
            "+-----------+-------------+-----------+----------------+\n",
            "|customer_id|customer_name|transaction|product_category|\n",
            "+-----------+-------------+-----------+----------------+\n",
            "|          1|        ALICE|      12000|     Electronics|\n",
            "|          2|          BOB|       9000| Home Appliances|\n",
            "|          3|      CHARLIE|      15000|         Fashion|\n",
            "|          4|       DANIEL|       8000|     Electronics|\n",
            "|          5|         EMMA|      11000|         Fashion|\n",
            "|          6|        FRANK|      13000| Home Appliances|\n",
            "|          7|         GINA|      10000|     Electronics|\n",
            "|          8|        HENRY|      14000|         Fashion|\n",
            "|          9|     ISABELLA|       9500| Home Appliances|\n",
            "|         10|         JACK|      10500|     Electronics|\n",
            "+-----------+-------------+-----------+----------------+\n",
            "\n",
            "+-----------+-------------+-----------+----------------+-------------------------+\n",
            "|customer_id|customer_name|transaction|product_category|customer_transformed_name|\n",
            "+-----------+-------------+-----------+----------------+-------------------------+\n",
            "|          1|        ALICE|      12000|     Electronics|                    Alice|\n",
            "|          3|      CHARLIE|      15000|         Fashion|                  Charlie|\n",
            "|          5|         EMMA|      11000|         Fashion|                     Emma|\n",
            "|          6|        FRANK|      13000| Home Appliances|                    Frank|\n",
            "|          8|        HENRY|      14000|         Fashion|                    Henry|\n",
            "|         10|         JACK|      10500|     Electronics|                     Jack|\n",
            "+-----------+-------------+-----------+----------------+-------------------------+\n",
            "\n",
            "+----------------+-------------------------+-----------+------------------+\n",
            "|product_category|customer_transformed_name|transaction|   avg_transaction|\n",
            "+----------------+-------------------------+-----------+------------------+\n",
            "|     Electronics|                    Alice|      12000|           11250.0|\n",
            "|     Electronics|                     Jack|      10500|           11250.0|\n",
            "|         Fashion|                  Charlie|      15000|13333.333333333334|\n",
            "|         Fashion|                     Emma|      11000|13333.333333333334|\n",
            "|         Fashion|                    Henry|      14000|13333.333333333334|\n",
            "| Home Appliances|                    Frank|      13000|           13000.0|\n",
            "+----------------+-------------------------+-----------+------------------+\n",
            "\n"
          ]
        }
      ]
    }
  ]
}