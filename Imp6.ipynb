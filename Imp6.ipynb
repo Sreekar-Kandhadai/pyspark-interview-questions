{
  "nbformat": 4,
  "nbformat_minor": 0,
  "metadata": {
    "colab": {
      "provenance": [],
      "authorship_tag": "ABX9TyMXd1a9LwxsXlP40K6Z6dH0",
      "include_colab_link": true
    },
    "kernelspec": {
      "name": "python3",
      "display_name": "Python 3"
    },
    "language_info": {
      "name": "python"
    }
  },
  "cells": [
    {
      "cell_type": "markdown",
      "metadata": {
        "id": "view-in-github",
        "colab_type": "text"
      },
      "source": [
        "<a href=\"https://colab.research.google.com/github/Sreekar-Kandhadai/pyspark-interview-questions/blob/main/Imp6.ipynb\" target=\"_parent\"><img src=\"https://colab.research.google.com/assets/colab-badge.svg\" alt=\"Open In Colab\"/></a>"
      ]
    },
    {
      "cell_type": "code",
      "execution_count": null,
      "metadata": {
        "id": "imEFqZqnnTkd"
      },
      "outputs": [],
      "source": [
        "𝐐𝐮𝐞𝐬𝐭𝐢𝐨𝐧:\n",
        "You have a dataset of transactions that contains the following fields:\n",
        "transaction_id (integer): Unique ID for each transaction.\n",
        "user_id (integer): ID of the user performing the transaction.\n",
        "transaction_amount (float): Amount of the transaction.\n",
        "transaction_date (string): Date of the transaction in yyyy-MM-dd format.\n",
        "From this dataset, perform the following operations:\n",
        "Find the top 3 users with the highest total transaction amounts.\n",
        "Among these top 3 users, for each, identify the most recent transaction date.\n",
        "\n",
        "𝐬𝐜𝐡𝐞𝐦𝐚 𝐚𝐧𝐝 𝐝𝐚𝐭𝐚𝐬𝐞𝐭\n",
        "data = [ (1, 101, 500.0, \"2024-01-01\"), (2, 102, 200.0, \"2024-01-02\"),\n",
        "(3, 101, 300.0, \"2024-01-03\"), (4, 103, 100.0, \"2024-01-04\"),\n",
        "(5, 102, 400.0, \"2024-01-05\"), (6, 103, 600.0, \"2024-01-06\"),\n",
        "(7, 101, 200.0, \"2024-01-07\"), ]\n",
        "\n",
        "columns = [\"transaction_id\", \"user_id\", \"transaction_amount\", \"transaction_date\"]\n",
        "\n"
      ]
    },
    {
      "cell_type": "code",
      "source": [
        "from pyspark.sql import SparkSession\n",
        "\n",
        "from pyspark.sql.functions import *\n",
        "\n",
        "spark=SparkSession.builder.appName(\"learning\").getOrCreate()\n",
        "\n",
        "data= [ (1, 101, 500.0, \"2024-01-01\"), (2, 102, 200.0, \"2024-01-02\"),\n",
        "(3, 101, 300.0, \"2024-01-03\"), (4, 103, 100.0, \"2024-01-04\"),\n",
        "(5, 102, 400.0, \"2024-01-05\"), (6, 103, 600.0, \"2024-01-06\"),\n",
        "(7, 101, 200.0, \"2024-01-07\"), ]\n",
        "\n",
        "schema=[\"transaction_id\", \"user_id\", \"transaction_amount\", \"transaction_date\"]\n",
        "\n",
        "df=spark.createDataFrame(data,schema)\n",
        "\n",
        "df.printSchema()\n",
        "\n",
        "df.show()\n",
        "\n",
        "df1=df.groupBy('user_id').agg(sum(col('transaction_amount')).alias('total_amount'), max(col('transaction_date')).alias('recent_transaction_date'))\n",
        "\n",
        "df1.show()\n",
        "\n",
        "df2=df1.orderBy(col('total_amount').desc()).limit(3)\n",
        "\n",
        "df2.show()"
      ],
      "metadata": {
        "colab": {
          "base_uri": "https://localhost:8080/"
        },
        "id": "3Jqn1kannWDU",
        "outputId": "f0260633-ffe9-422e-cc6c-a8faf2f7469b"
      },
      "execution_count": 5,
      "outputs": [
        {
          "output_type": "stream",
          "name": "stdout",
          "text": [
            "root\n",
            " |-- transaction_id: long (nullable = true)\n",
            " |-- user_id: long (nullable = true)\n",
            " |-- transaction_amount: double (nullable = true)\n",
            " |-- transaction_date: string (nullable = true)\n",
            "\n",
            "+--------------+-------+------------------+----------------+\n",
            "|transaction_id|user_id|transaction_amount|transaction_date|\n",
            "+--------------+-------+------------------+----------------+\n",
            "|             1|    101|             500.0|      2024-01-01|\n",
            "|             2|    102|             200.0|      2024-01-02|\n",
            "|             3|    101|             300.0|      2024-01-03|\n",
            "|             4|    103|             100.0|      2024-01-04|\n",
            "|             5|    102|             400.0|      2024-01-05|\n",
            "|             6|    103|             600.0|      2024-01-06|\n",
            "|             7|    101|             200.0|      2024-01-07|\n",
            "+--------------+-------+------------------+----------------+\n",
            "\n",
            "+-------+------------+-----------------------+\n",
            "|user_id|total_amount|recent_transaction_date|\n",
            "+-------+------------+-----------------------+\n",
            "|    101|      1000.0|             2024-01-07|\n",
            "|    102|       600.0|             2024-01-05|\n",
            "|    103|       700.0|             2024-01-06|\n",
            "+-------+------------+-----------------------+\n",
            "\n",
            "+-------+------------+-----------------------+\n",
            "|user_id|total_amount|recent_transaction_date|\n",
            "+-------+------------+-----------------------+\n",
            "|    101|      1000.0|             2024-01-07|\n",
            "|    103|       700.0|             2024-01-06|\n",
            "|    102|       600.0|             2024-01-05|\n",
            "+-------+------------+-----------------------+\n",
            "\n"
          ]
        }
      ]
    }
  ]
}