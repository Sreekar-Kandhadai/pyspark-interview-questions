{
  "nbformat": 4,
  "nbformat_minor": 0,
  "metadata": {
    "colab": {
      "provenance": [],
      "authorship_tag": "ABX9TyMx/SfD3CN32RfqvLiT03Ad",
      "include_colab_link": true
    },
    "kernelspec": {
      "name": "python3",
      "display_name": "Python 3"
    },
    "language_info": {
      "name": "python"
    }
  },
  "cells": [
    {
      "cell_type": "markdown",
      "metadata": {
        "id": "view-in-github",
        "colab_type": "text"
      },
      "source": [
        "<a href=\"https://colab.research.google.com/github/Sreekar-Kandhadai/pyspark-interview-questions/blob/main/product_never_sold.ipynb\" target=\"_parent\"><img src=\"https://colab.research.google.com/assets/colab-badge.svg\" alt=\"Open In Colab\"/></a>"
      ]
    },
    {
      "cell_type": "code",
      "execution_count": null,
      "metadata": {
        "id": "ypwxyUkKIvvC"
      },
      "outputs": [],
      "source": [
        "\n",
        "𝐐𝐮𝐞𝐬𝐭𝐢𝐨𝐧\n",
        "Given two datasets, products and sales, write a PySpark program to identify products that have never been sold.\n",
        "Assume the schema of products is (product_id, product_name) and the schema of sales is (sale_id, product_id, sale_date).\n",
        "\n",
        "𝐬𝐜𝐡𝐞𝐦𝐚\n",
        "# Create DataFrame for products\n",
        "\n",
        "products = spark.createDataFrame([ (1, \"Laptop\"), (2, \"Tablet\"),\n",
        "(3, \"Smartphone\"), (4, \"Monitor\"),\n",
        "(5, \"Keyboard\") ], [\"product_id\", \"product_name\"])\n",
        "\n",
        "# Create DataFrame for sales\n",
        "\n",
        "sales = spark.createDataFrame([ (101, 1, \"2025-01-01\"), (102, 3, \"2025-01-02\"), (103, 5, \"2025-01-03\") ], [\"sale_id\", \"product_id\", \"sale_date\"])\n",
        "\n"
      ]
    },
    {
      "cell_type": "code",
      "source": [
        "from pyspark.sql import SparkSession\n",
        "\n",
        "from pyspark.sql.functions import *\n",
        "\n",
        "spark=SparkSession.builder.appName(\"learning\").getOrCreate()\n",
        "\n",
        "data1=[ (1, \"Laptop\"), (2, \"Tablet\"),\n",
        "(3, \"Smartphone\"), (4, \"Monitor\"),\n",
        "(5, \"Keyboard\") ]\n",
        "\n",
        "schema1= [\"product_id\", \"product_name\"]\n",
        "\n",
        "df1=spark.createDataFrame(data,schema)\n",
        "\n",
        "df1.show()\n",
        "\n",
        "data2=[ (101, 1, \"2025-01-01\"), (102, 3, \"2025-01-02\"), (103, 5, \"2025-01-03\") ]\n",
        "\n",
        "schema2=[\"sale_id\", \"product_id\", \"sale_date\"]\n",
        "\n",
        "df2=spark.createDataFrame(data2,schema2)\n",
        "\n",
        "df2.show()\n",
        "\n",
        "#df3=df1.join(df2,df1.product_id==df2.product_id,\"left_anti\")\n",
        "\n",
        "#df3=df1.join(df2,col('product_id')==col('product_id'),\"left_anti\")\n",
        "\n",
        "df3=df1.join(df2,\"product_id\",\"left_anti\")\n",
        "df3.show()"
      ],
      "metadata": {
        "colab": {
          "base_uri": "https://localhost:8080/"
        },
        "id": "7qCLPESdIx9v",
        "outputId": "3cec73fd-475f-4f37-fec7-dfb472a48d7d"
      },
      "execution_count": 6,
      "outputs": [
        {
          "output_type": "stream",
          "name": "stdout",
          "text": [
            "+----------+------------+\n",
            "|product_id|product_name|\n",
            "+----------+------------+\n",
            "|         1|      Laptop|\n",
            "|         2|      Tablet|\n",
            "|         3|  Smartphone|\n",
            "|         4|     Monitor|\n",
            "|         5|    Keyboard|\n",
            "+----------+------------+\n",
            "\n",
            "+-------+----------+----------+\n",
            "|sale_id|product_id| sale_date|\n",
            "+-------+----------+----------+\n",
            "|    101|         1|2025-01-01|\n",
            "|    102|         3|2025-01-02|\n",
            "|    103|         5|2025-01-03|\n",
            "+-------+----------+----------+\n",
            "\n",
            "+----------+------------+\n",
            "|product_id|product_name|\n",
            "+----------+------------+\n",
            "|         2|      Tablet|\n",
            "|         4|     Monitor|\n",
            "+----------+------------+\n",
            "\n"
          ]
        }
      ]
    }
  ]
}