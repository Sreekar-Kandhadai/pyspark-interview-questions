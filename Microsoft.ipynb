{
  "nbformat": 4,
  "nbformat_minor": 0,
  "metadata": {
    "colab": {
      "provenance": [],
      "authorship_tag": "ABX9TyOR03yfzqDR5GpRxgQ7sDeo",
      "include_colab_link": true
    },
    "kernelspec": {
      "name": "python3",
      "display_name": "Python 3"
    },
    "language_info": {
      "name": "python"
    }
  },
  "cells": [
    {
      "cell_type": "markdown",
      "metadata": {
        "id": "view-in-github",
        "colab_type": "text"
      },
      "source": [
        "<a href=\"https://colab.research.google.com/github/Sreekar-Kandhadai/pyspark-interview-questions/blob/main/Microsoft.ipynb\" target=\"_parent\"><img src=\"https://colab.research.google.com/assets/colab-badge.svg\" alt=\"Open In Colab\"/></a>"
      ]
    },
    {
      "cell_type": "code",
      "execution_count": null,
      "metadata": {
        "id": "ScDV99rKJRs3"
      },
      "outputs": [],
      "source": [
        "You are tasked with finding the number of transactions that occurred for each product.\n",
        "The output should include the product name along with the corresponding number of transactions, and the records should be ordered product_id in ascending order.\n",
        "You can ignore products without transactions.\n"
      ]
    },
    {
      "cell_type": "code",
      "source": [
        "from pyspark.sql import SparkSession\n",
        "\n",
        "from pyspark.sql.functions import *\n",
        "\n",
        "spark=SparkSession.builder.appName(\"learning\").getOrCreate()\n",
        "\n",
        "inventory_data = [\n",
        "    (1, 'strawberry', 'produce', 'lb', 3.28, 1.77, 13),\n",
        "    (2, 'apple_fuji', 'produce', 'lb', 1.44, 0.43, 2),\n",
        "    (3, 'orange', 'produce', 'lb', 1.02, 0.37, 2),\n",
        "    (4, 'clementines', 'produce', 'lb', 1.19, 0.44, 44),\n",
        "    (5, 'blood_orange', 'produce', 'lb', 3.86, 1.66, 19)\n",
        "]\n",
        "\n",
        "transaction_data = [\n",
        "    (153, '2016-01-06 08:57:52', 1),\n",
        "    (91, '2016-01-07 12:17:27', 1),\n",
        "    (31, '2016-01-05 13:19:25', 1),\n",
        "    (24, '2016-01-03 10:47:44', 3),\n",
        "    (4, '2016-01-06 17:57:42', 3),\n",
        "    (163, '2016-01-03 10:11:22', 3),\n",
        "    (92, '2016-01-08 12:03:20', 2),\n",
        "    (32, '2016-01-04 19:37:14', 4),\n",
        "    (253, '2016-01-06 14:15:20', 5),\n",
        "    (118, '2016-01-06 14:27:33', 5)\n",
        "]\n",
        "\n",
        "# Define schema for inventory data\n",
        "inventory_columns = [\"product_id\", \"product_name\", \"product_type\", \"unit\", \"price_unit\", \"wholesale\", \"current_inventory\"]\n",
        "\n",
        "# Define schema for transaction data\n",
        "transaction_columns = [\"transaction_id\", \"time\", \"product_id\"]\n",
        "\n",
        "dfProduct=spark.createDataFrame(inventory_data,inventory_columns)\n",
        "\n",
        "dfProduct.show()\n",
        "\n",
        "dfTrans=spark.createDataFrame(transaction_data,transaction_columns)\n",
        "\n",
        "dfTrans.show()\n",
        "\n",
        "productTransCount=dfProduct.join(dfTrans, \"product_id\",\"inner\")\n",
        "\n",
        "productTransCount=productTransCount.groupBy(\"product_id\",\"product_name\").agg(count('transaction_id').alias(\"transaction_count\"))\n",
        "\n",
        "productTransCount.show()\n",
        "\n",
        "resultDf=productTransCount.orderBy('product_id').select(\"product_name\",\"transaction_count\")\n",
        "\n",
        "resultDf.show()"
      ],
      "metadata": {
        "colab": {
          "base_uri": "https://localhost:8080/"
        },
        "id": "hN-veIm3JeIo",
        "outputId": "3a7b4079-323c-4fe3-943b-9bc4a5e988ff"
      },
      "execution_count": 6,
      "outputs": [
        {
          "output_type": "stream",
          "name": "stdout",
          "text": [
            "+----------+------------+------------+----+----------+---------+-----------------+\n",
            "|product_id|product_name|product_type|unit|price_unit|wholesale|current_inventory|\n",
            "+----------+------------+------------+----+----------+---------+-----------------+\n",
            "|         1|  strawberry|     produce|  lb|      3.28|     1.77|               13|\n",
            "|         2|  apple_fuji|     produce|  lb|      1.44|     0.43|                2|\n",
            "|         3|      orange|     produce|  lb|      1.02|     0.37|                2|\n",
            "|         4| clementines|     produce|  lb|      1.19|     0.44|               44|\n",
            "|         5|blood_orange|     produce|  lb|      3.86|     1.66|               19|\n",
            "+----------+------------+------------+----+----------+---------+-----------------+\n",
            "\n",
            "+--------------+-------------------+----------+\n",
            "|transaction_id|               time|product_id|\n",
            "+--------------+-------------------+----------+\n",
            "|           153|2016-01-06 08:57:52|         1|\n",
            "|            91|2016-01-07 12:17:27|         1|\n",
            "|            31|2016-01-05 13:19:25|         1|\n",
            "|            24|2016-01-03 10:47:44|         3|\n",
            "|             4|2016-01-06 17:57:42|         3|\n",
            "|           163|2016-01-03 10:11:22|         3|\n",
            "|            92|2016-01-08 12:03:20|         2|\n",
            "|            32|2016-01-04 19:37:14|         4|\n",
            "|           253|2016-01-06 14:15:20|         5|\n",
            "|           118|2016-01-06 14:27:33|         5|\n",
            "+--------------+-------------------+----------+\n",
            "\n",
            "+----------+------------+-----------------+\n",
            "|product_id|product_name|transaction_count|\n",
            "+----------+------------+-----------------+\n",
            "|         1|  strawberry|                3|\n",
            "|         2|  apple_fuji|                1|\n",
            "|         3|      orange|                3|\n",
            "|         4| clementines|                1|\n",
            "|         5|blood_orange|                2|\n",
            "+----------+------------+-----------------+\n",
            "\n",
            "+------------+-----------------+\n",
            "|product_name|transaction_count|\n",
            "+------------+-----------------+\n",
            "|  strawberry|                3|\n",
            "|  apple_fuji|                1|\n",
            "|      orange|                3|\n",
            "| clementines|                1|\n",
            "|blood_orange|                2|\n",
            "+------------+-----------------+\n",
            "\n"
          ]
        }
      ]
    }
  ]
}