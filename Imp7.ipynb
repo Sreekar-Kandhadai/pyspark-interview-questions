{
  "nbformat": 4,
  "nbformat_minor": 0,
  "metadata": {
    "colab": {
      "provenance": [],
      "authorship_tag": "ABX9TyMKfVkE+k6IwGLmLdSVaAoz",
      "include_colab_link": true
    },
    "kernelspec": {
      "name": "python3",
      "display_name": "Python 3"
    },
    "language_info": {
      "name": "python"
    }
  },
  "cells": [
    {
      "cell_type": "markdown",
      "metadata": {
        "id": "view-in-github",
        "colab_type": "text"
      },
      "source": [
        "<a href=\"https://colab.research.google.com/github/Sreekar-Kandhadai/pyspark-interview-questions/blob/main/Imp7.ipynb\" target=\"_parent\"><img src=\"https://colab.research.google.com/assets/colab-badge.svg\" alt=\"Open In Colab\"/></a>"
      ]
    },
    {
      "cell_type": "code",
      "execution_count": null,
      "metadata": {
        "id": "tRM6ps5QQLJu"
      },
      "outputs": [],
      "source": [
        "𝐐𝐮𝐞𝐬𝐭𝐢𝐨𝐧:\n",
        "You are given a dataset containing employee data with their department, year of joining, and monthly salary.\n",
        "Each row contains the department name, the year of joining, and the monthly salary of an employee.\n",
        "Your task is to:\n",
        "Calculate the average monthly salary for each department.\n",
        "Filter out departments with an average salary lower than 3000.\n",
        "Calculate the total salary paid by each department over all years.\n",
        "Sort the results by total salary paid in descending order.\n",
        "\n",
        "𝐬𝐜𝐡𝐞𝐦𝐚 𝐚𝐧𝐝 𝐝𝐚𝐭𝐚𝐬𝐞𝐭\n",
        "data = [\n",
        " (\"HR\", \"2020\", 2500),\n",
        " (\"HR\", \"2021\", 3200),\n",
        " (\"HR\", \"2022\", 2800),\n",
        " (\"Engineering\", \"2020\", 5000),\n",
        " (\"Engineering\", \"2021\", 6000),\n",
        " (\"Engineering\", \"2022\", 5500),\n",
        " (\"Marketing\", \"2020\", 4000),\n",
        " (\"Marketing\", \"2021\", 3500),\n",
        " (\"Marketing\", \"2022\", 3300)\n",
        "]\n"
      ]
    },
    {
      "cell_type": "code",
      "source": [
        "from pyspark.sql import SparkSession\n",
        "\n",
        "from pyspark.sql.functions import *\n",
        "\n",
        "from pyspark.sql.window import Window\n",
        "\n",
        "spark=SparkSession.builder.appName('learning').getOrCreate()\n",
        "\n",
        "data= [\n",
        " (\"HR\", \"2020\", 2500),\n",
        " (\"HR\", \"2021\", 3200),\n",
        " (\"HR\", \"2022\", 2800),\n",
        " (\"Engineering\", \"2020\", 5000),\n",
        " (\"Engineering\", \"2021\", 6000),\n",
        " (\"Engineering\", \"2022\", 5500),\n",
        " (\"Marketing\", \"2020\", 4000),\n",
        " (\"Marketing\", \"2021\", 3500),\n",
        " (\"Marketing\", \"2022\", 3300)\n",
        "]\n",
        "\n",
        "schema=[\"Department\", \"Year\", \"Salary\"]\n",
        "\n",
        "df=spark.createDataFrame(data,schema)\n",
        "\n",
        "df.show()\n",
        "\n",
        "df1=df.groupBy('department').agg(sum('Salary').alias('avg_salary')).filter(col('avg_salary')>=3000)\n",
        "\n",
        "df1.show()\n",
        "\n",
        "df2=df.groupBy('department').agg(sum('salary').alias('tot_salary')).orderBy(col('tot_salary').desc())\n",
        "\n",
        "df2.show()"
      ],
      "metadata": {
        "colab": {
          "base_uri": "https://localhost:8080/"
        },
        "id": "E98y6a_jQMSO",
        "outputId": "98571203-5be0-42f7-fec2-6278d4c7b9e0"
      },
      "execution_count": 5,
      "outputs": [
        {
          "output_type": "stream",
          "name": "stdout",
          "text": [
            "+-----------+----+------+\n",
            "| Department|Year|Salary|\n",
            "+-----------+----+------+\n",
            "|         HR|2020|  2500|\n",
            "|         HR|2021|  3200|\n",
            "|         HR|2022|  2800|\n",
            "|Engineering|2020|  5000|\n",
            "|Engineering|2021|  6000|\n",
            "|Engineering|2022|  5500|\n",
            "|  Marketing|2020|  4000|\n",
            "|  Marketing|2021|  3500|\n",
            "|  Marketing|2022|  3300|\n",
            "+-----------+----+------+\n",
            "\n",
            "+-----------+----------+\n",
            "| department|avg_salary|\n",
            "+-----------+----------+\n",
            "|Engineering|     16500|\n",
            "|         HR|      8500|\n",
            "|  Marketing|     10800|\n",
            "+-----------+----------+\n",
            "\n",
            "+-----------+----------+\n",
            "| department|tot_salary|\n",
            "+-----------+----------+\n",
            "|Engineering|     16500|\n",
            "|  Marketing|     10800|\n",
            "|         HR|      8500|\n",
            "+-----------+----------+\n",
            "\n"
          ]
        }
      ]
    }
  ]
}