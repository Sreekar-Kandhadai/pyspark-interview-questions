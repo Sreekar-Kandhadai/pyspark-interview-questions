{
  "nbformat": 4,
  "nbformat_minor": 0,
  "metadata": {
    "colab": {
      "provenance": [],
      "authorship_tag": "ABX9TyOMGj0RkTW9Ri8ZghC9REod",
      "include_colab_link": true
    },
    "kernelspec": {
      "name": "python3",
      "display_name": "Python 3"
    },
    "language_info": {
      "name": "python"
    }
  },
  "cells": [
    {
      "cell_type": "markdown",
      "metadata": {
        "id": "view-in-github",
        "colab_type": "text"
      },
      "source": [
        "<a href=\"https://colab.research.google.com/github/Sreekar-Kandhadai/pyspark-interview-questions/blob/main/credit_card_masking.ipynb\" target=\"_parent\"><img src=\"https://colab.research.google.com/assets/colab-badge.svg\" alt=\"Open In Colab\"/></a>"
      ]
    },
    {
      "cell_type": "code",
      "execution_count": null,
      "metadata": {
        "id": "XSwM1X_OAZWc"
      },
      "outputs": [],
      "source": [
        "Masks the credit card numbers while preserving the last four digits for identification purposes.🚀\n",
        "\n",
        "data = [(\"1\", \"Vishvajit\", \"Rao\", \"5647 7463 7678 8625\"),\n",
        " (\"2\", \"Harsh\", \"Goal\", \"7987 7867 7862 7353\"),\n",
        " (\"3\", \"Pankaj\", \"Kumar\", \"8637 3764 4987 7864\"),\n",
        " (\"4\", \"Pranjal\", \"Rao\", \"0984 0982 6456 7673\"),\n",
        " (\"5\", \"Ritika\", \"Kumari\", \"0948 3644 2637 3846\"),\n",
        " (\"6\", \"Diyanshu\", \"Saini\", \"9874 3678 4655 3678\"),\n",
        " ]\n",
        "cols = [\"id\", \"first_name\", \"last_name\", \"credit_card\"]\n",
        "Expected output:\n",
        "[(\"1\", \"Vishvajit\", \"Rao\", \"**** **** **** 8625\"),\n",
        " (\"2\", \"Harsh\", \"Goal\", \"**** **** **** 7353\"),\n",
        " (\"3\", \"Pankaj\", \"Kumar\", \"**** **** **** 7864\"),\n",
        " (\"4\", \"Pranjal\", \"Rao\", \"**** **** **** 7673\"),\n",
        " (\"5\", \"Ritika\", \"Kumari\", \"**** **** **** 3846\"),\n",
        " (\"6\", \"Diyanshu\", \"Saini\", \"**** **** **** 3678\"),\n",
        " ]"
      ]
    },
    {
      "cell_type": "code",
      "source": [
        "from pyspark.sql import SparkSession\n",
        "\n",
        "from pyspark.sql.functions import *\n",
        "\n",
        "spark=SparkSession.builder.appName(\"learning\").getOrCreate()\n",
        "\n",
        "data=[(\"1\", \"Vishvajit\", \"Rao\", \"5647 7463 7678 8625\"),\n",
        " (\"2\", \"Harsh\", \"Goal\", \"7987 7867 7862 7353\"),\n",
        " (\"3\", \"Pankaj\", \"Kumar\", \"8637 3764 4987 7864\"),\n",
        " (\"4\", \"Pranjal\", \"Rao\", \"0984 0982 6456 7673\"),\n",
        " (\"5\", \"Ritika\", \"Kumari\", \"0948 3644 2637 3846\"),\n",
        " (\"6\", \"Diyanshu\", \"Saini\", \"9874 3678 4655 3678\"),\n",
        " ]\n",
        "\n",
        "schema=[\"id\", \"first_name\", \"last_name\", \"credit_card\"]\n",
        "\n",
        "df=spark.createDataFrame(data,schema)\n",
        "\n",
        "df.show()\n",
        "\n",
        "df1=df.withColumn(\"credit_card\",concat_ws(' ',lit('****'),lit('****'),lit('****'),split('credit_card',\" \")[3]))\n",
        "\n",
        "df1.show()\n",
        "\n"
      ],
      "metadata": {
        "colab": {
          "base_uri": "https://localhost:8080/"
        },
        "id": "Zr2nVdpKA73M",
        "outputId": "2638c9c7-e73a-400e-89e7-01afdb11103f"
      },
      "execution_count": 4,
      "outputs": [
        {
          "output_type": "stream",
          "name": "stdout",
          "text": [
            "+---+----------+---------+-------------------+\n",
            "| id|first_name|last_name|        credit_card|\n",
            "+---+----------+---------+-------------------+\n",
            "|  1| Vishvajit|      Rao|5647 7463 7678 8625|\n",
            "|  2|     Harsh|     Goal|7987 7867 7862 7353|\n",
            "|  3|    Pankaj|    Kumar|8637 3764 4987 7864|\n",
            "|  4|   Pranjal|      Rao|0984 0982 6456 7673|\n",
            "|  5|    Ritika|   Kumari|0948 3644 2637 3846|\n",
            "|  6|  Diyanshu|    Saini|9874 3678 4655 3678|\n",
            "+---+----------+---------+-------------------+\n",
            "\n",
            "+---+----------+---------+-------------------+\n",
            "| id|first_name|last_name|        credit_card|\n",
            "+---+----------+---------+-------------------+\n",
            "|  1| Vishvajit|      Rao|**** **** **** 8625|\n",
            "|  2|     Harsh|     Goal|**** **** **** 7353|\n",
            "|  3|    Pankaj|    Kumar|**** **** **** 7864|\n",
            "|  4|   Pranjal|      Rao|**** **** **** 7673|\n",
            "|  5|    Ritika|   Kumari|**** **** **** 3846|\n",
            "|  6|  Diyanshu|    Saini|**** **** **** 3678|\n",
            "+---+----------+---------+-------------------+\n",
            "\n"
          ]
        }
      ]
    }
  ]
}