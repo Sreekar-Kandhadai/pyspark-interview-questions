{
  "nbformat": 4,
  "nbformat_minor": 0,
  "metadata": {
    "colab": {
      "provenance": [],
      "authorship_tag": "ABX9TyOs2VMdOKBtey/cJYNGAzTj",
      "include_colab_link": true
    },
    "kernelspec": {
      "name": "python3",
      "display_name": "Python 3"
    },
    "language_info": {
      "name": "python"
    }
  },
  "cells": [
    {
      "cell_type": "markdown",
      "metadata": {
        "id": "view-in-github",
        "colab_type": "text"
      },
      "source": [
        "<a href=\"https://colab.research.google.com/github/Sreekar-Kandhadai/pyspark-interview-questions/blob/main/Globant.ipynb\" target=\"_parent\"><img src=\"https://colab.research.google.com/assets/colab-badge.svg\" alt=\"Open In Colab\"/></a>"
      ]
    },
    {
      "cell_type": "code",
      "execution_count": null,
      "metadata": {
        "id": "eo9xGVaTZDzC"
      },
      "outputs": [],
      "source": [
        "𝐐𝐮𝐞𝐬𝐭𝐢𝐨𝐧\n",
        "You are working on a data pipeline where the input dataset contains a column with multiple comma-separated values in each row. Your task is to split the values in this column into multiple rows to make the dataset suitable for downstream processing.\n",
        "\n",
        "𝐬𝐜𝐡𝐞𝐦𝐚\n",
        "data = [ (1, \"apple,banana,orange\"),\n",
        " (2, \"mango,grapes\"), (3, \"pineapple\") ]\n",
        "\n",
        "columns = [\"ID\", \"Tags\"]"
      ]
    },
    {
      "cell_type": "code",
      "source": [
        "from pyspark.sql import SparkSession\n",
        "\n",
        "from pyspark.sql.functions import *\n",
        "\n",
        "spark=SparkSession.builder.appName(\"learning\").getOrCreate()\n",
        "\n",
        "data = [ (1, \"apple,banana,orange\"),\n",
        " (2, \"mango,grapes\"), (3, \"pineapple\") ]\n",
        "\n",
        "schema= [\"ID\", \"Tags\"]\n",
        "\n",
        "df=spark.createDataFrame(data,schema)\n",
        "\n",
        "df.show()\n",
        "\n",
        "df1=df.withColumn('Tags',explode(split('Tags',',')))\n",
        "\n",
        "df1.show()\n"
      ],
      "metadata": {
        "colab": {
          "base_uri": "https://localhost:8080/"
        },
        "id": "i8PBhzSLZGiI",
        "outputId": "68f88a68-5ca5-4b38-920b-7ad75711f2be"
      },
      "execution_count": 3,
      "outputs": [
        {
          "output_type": "stream",
          "name": "stdout",
          "text": [
            "+---+-------------------+\n",
            "| ID|               Tags|\n",
            "+---+-------------------+\n",
            "|  1|apple,banana,orange|\n",
            "|  2|       mango,grapes|\n",
            "|  3|          pineapple|\n",
            "+---+-------------------+\n",
            "\n",
            "+---+---------+\n",
            "| ID|     Tags|\n",
            "+---+---------+\n",
            "|  1|    apple|\n",
            "|  1|   banana|\n",
            "|  1|   orange|\n",
            "|  2|    mango|\n",
            "|  2|   grapes|\n",
            "|  3|pineapple|\n",
            "+---+---------+\n",
            "\n"
          ]
        }
      ]
    }
  ]
}