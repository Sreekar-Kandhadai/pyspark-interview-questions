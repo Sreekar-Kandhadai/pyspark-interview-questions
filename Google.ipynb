{
  "nbformat": 4,
  "nbformat_minor": 0,
  "metadata": {
    "colab": {
      "provenance": [],
      "authorship_tag": "ABX9TyMps3dYESzg4+Hj82+gYUda",
      "include_colab_link": true
    },
    "kernelspec": {
      "name": "python3",
      "display_name": "Python 3"
    },
    "language_info": {
      "name": "python"
    }
  },
  "cells": [
    {
      "cell_type": "markdown",
      "metadata": {
        "id": "view-in-github",
        "colab_type": "text"
      },
      "source": [
        "<a href=\"https://colab.research.google.com/github/Sreekar-Kandhadai/pyspark-interview-questions/blob/main/Google.ipynb\" target=\"_parent\"><img src=\"https://colab.research.google.com/assets/colab-badge.svg\" alt=\"Open In Colab\"/></a>"
      ]
    },
    {
      "cell_type": "code",
      "execution_count": null,
      "metadata": {
        "id": "mgjU3mZYayIR"
      },
      "outputs": [],
      "source": [
        "We need to identify mutual friends between two users in a dataset consisting of users and their friendships."
      ]
    },
    {
      "cell_type": "code",
      "source": [
        "from pyspark.sql import SparkSession\n",
        "\n",
        "from pyspark.sql.functions import *\n",
        "\n",
        "spark=SparkSession.builder.appName(\"user_friends\").getOrCreate()\n",
        "\n",
        "users_data = [(1, 'Karl'), (2, 'Hans'), (3, 'Emma'), (4, 'Emma'), (5, 'Mike')]\n",
        "friends_data = [(1, 3), (1, 5), (2, 3), (2, 4)]\n",
        "\n",
        "users_df = spark.createDataFrame(users_data, [\"user_id\", \"user_name\"])\n",
        "friends_df = spark.createDataFrame(friends_data, [\"user_id\", \"friend_id\"])\n",
        "\n",
        "users_df.show()\n",
        "friends_df.show()\n",
        "\n",
        "df=users_df.join(friends_df,\"user_id\",\"inner\")\n",
        "\n",
        "df.show()\n",
        "\n",
        "df1=df.groupBy('friend_id').agg(countDistinct('user_id').alias('user_count')).filter(\"user_count > 1\")\n",
        "\n",
        "df1.show()\n",
        "\n",
        "df2=df1.join(users_df,col('friend_id')==col('user_id'),\"inner\").select(\"user_id\",\"user_name\")\n",
        "\n",
        "df2.show()"
      ],
      "metadata": {
        "colab": {
          "base_uri": "https://localhost:8080/"
        },
        "id": "HmabshVhc0wx",
        "outputId": "ad111b53-67d8-4a3c-8726-808a718f31ec"
      },
      "execution_count": 6,
      "outputs": [
        {
          "output_type": "stream",
          "name": "stdout",
          "text": [
            "+-------+---------+\n",
            "|user_id|user_name|\n",
            "+-------+---------+\n",
            "|      1|     Karl|\n",
            "|      2|     Hans|\n",
            "|      3|     Emma|\n",
            "|      4|     Emma|\n",
            "|      5|     Mike|\n",
            "+-------+---------+\n",
            "\n",
            "+-------+---------+\n",
            "|user_id|friend_id|\n",
            "+-------+---------+\n",
            "|      1|        3|\n",
            "|      1|        5|\n",
            "|      2|        3|\n",
            "|      2|        4|\n",
            "+-------+---------+\n",
            "\n",
            "+-------+---------+---------+\n",
            "|user_id|user_name|friend_id|\n",
            "+-------+---------+---------+\n",
            "|      1|     Karl|        3|\n",
            "|      1|     Karl|        5|\n",
            "|      2|     Hans|        3|\n",
            "|      2|     Hans|        4|\n",
            "+-------+---------+---------+\n",
            "\n",
            "+---------+----------+\n",
            "|friend_id|user_count|\n",
            "+---------+----------+\n",
            "|        3|         2|\n",
            "+---------+----------+\n",
            "\n",
            "+-------+---------+\n",
            "|user_id|user_name|\n",
            "+-------+---------+\n",
            "|      3|     Emma|\n",
            "+-------+---------+\n",
            "\n"
          ]
        }
      ]
    }
  ]
}