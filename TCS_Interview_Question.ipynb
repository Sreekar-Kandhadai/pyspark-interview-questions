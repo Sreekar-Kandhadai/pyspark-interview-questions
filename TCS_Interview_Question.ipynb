{
  "nbformat": 4,
  "nbformat_minor": 0,
  "metadata": {
    "colab": {
      "provenance": [],
      "authorship_tag": "ABX9TyPGgHXIVUINLMcDOtS3XBG5",
      "include_colab_link": true
    },
    "kernelspec": {
      "name": "python3",
      "display_name": "Python 3"
    },
    "language_info": {
      "name": "python"
    }
  },
  "cells": [
    {
      "cell_type": "markdown",
      "metadata": {
        "id": "view-in-github",
        "colab_type": "text"
      },
      "source": [
        "<a href=\"https://colab.research.google.com/github/Sreekar-Kandhadai/pyspark-interview-questions/blob/main/TCS_Interview_Question.ipynb\" target=\"_parent\"><img src=\"https://colab.research.google.com/assets/colab-badge.svg\" alt=\"Open In Colab\"/></a>"
      ]
    },
    {
      "cell_type": "code",
      "execution_count": 10,
      "metadata": {
        "collapsed": true,
        "id": "vGL7PKh6wEmV"
      },
      "outputs": [],
      "source": [
        "problem statement\n",
        "\n",
        "For a given dataset containing product categories, products, and their sales amount, find the Top 3 products by sales amount per category. However:\n",
        "Twist 1: If two products have the same sales amount, prioritize the product with the smaller product name (alphabetical order).\n",
        "Twist 2: Ensure the solution is scalable for large datasets with millions of records.\n",
        "\n",
        "𝐬𝐜𝐡𝐞𝐦𝐚 𝐚𝐧𝐝 𝐝𝐚𝐭𝐚𝐬𝐞𝐭\n",
        "\n",
        "data = [ (\"A\", \"p1\", 100), (\"A\", \"p2\", 200), (\"A\", \"p3\", 200), (\"B\", \"p4\", 300)\n",
        ", (\"B\", \"p5\", 150), (\"B\", \"p6\", 150), (\"C\", \"p7\", 400),\n",
        " (\"C\", \"p8\", 300), (\"C\", \"p9\", 200), ]\n",
        "\n",
        "columns = [\"category\", \"product\", \"amount\"]\n",
        "\n",
        "\n",
        "\n",
        "\n"
      ]
    },
    {
      "cell_type": "code",
      "source": [
        "from pyspark.sql import SparkSession\n",
        "\n",
        "from pyspark.sql.functions import *\n",
        "\n",
        "from pyspark.sql.window import Window\n",
        "\n",
        "spark = SparkSession.builder.appName('SparkByExamples.com').getOrCreate()\n",
        "\n",
        "data = [ (\"A\", \"p1\", 100), (\"A\", \"p2\", 200), (\"A\", \"p3\", 200), (\"B\", \"p4\", 300)\n",
        ", (\"B\", \"p5\", 150), (\"B\", \"p6\", 150), (\"C\", \"p7\", 400), (\"C\", \"p8\", 300),\n",
        " (\"C\", \"p9\", 200), ]\n",
        "\n",
        "columns = [\"category\", \"product\", \"amount\"]\n",
        "\n",
        "df=spark.createDataFrame(data,columns)\n",
        "\n",
        "window_spec=Window.partitionBy('category').orderBy(col('amount').desc(),col('product').asc())\n",
        "\n",
        "ranked_df=df.withColumn('rank',dense_rank().over(window_spec))\n",
        "\n",
        "result_df=ranked_df.filter(\"rank <=3\").drop(\"rank\")\n",
        "\n",
        "result_df.show()\n",
        "\n"
      ],
      "metadata": {
        "colab": {
          "base_uri": "https://localhost:8080/"
        },
        "id": "bAjRgXOWxbdD",
        "outputId": "ac65ace6-f9f0-4b8c-fff6-a2d6cec8ae46"
      },
      "execution_count": 17,
      "outputs": [
        {
          "output_type": "stream",
          "name": "stdout",
          "text": [
            "+--------+-------+------+\n",
            "|category|product|amount|\n",
            "+--------+-------+------+\n",
            "|       A|     p2|   200|\n",
            "|       A|     p3|   200|\n",
            "|       A|     p1|   100|\n",
            "|       B|     p4|   300|\n",
            "|       B|     p5|   150|\n",
            "|       B|     p6|   150|\n",
            "|       C|     p7|   400|\n",
            "|       C|     p8|   300|\n",
            "|       C|     p9|   200|\n",
            "+--------+-------+------+\n",
            "\n"
          ]
        }
      ]
    }
  ]
}