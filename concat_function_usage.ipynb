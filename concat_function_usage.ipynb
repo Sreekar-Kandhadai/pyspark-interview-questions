{
  "nbformat": 4,
  "nbformat_minor": 0,
  "metadata": {
    "colab": {
      "provenance": [],
      "authorship_tag": "ABX9TyNgcoQK9Gj8SX2TPwhWsRcY",
      "include_colab_link": true
    },
    "kernelspec": {
      "name": "python3",
      "display_name": "Python 3"
    },
    "language_info": {
      "name": "python"
    }
  },
  "cells": [
    {
      "cell_type": "markdown",
      "metadata": {
        "id": "view-in-github",
        "colab_type": "text"
      },
      "source": [
        "<a href=\"https://colab.research.google.com/github/Sreekar-Kandhadai/pyspark-interview-questions/blob/main/concat_function_usage.ipynb\" target=\"_parent\"><img src=\"https://colab.research.google.com/assets/colab-badge.svg\" alt=\"Open In Colab\"/></a>"
      ]
    },
    {
      "cell_type": "code",
      "execution_count": null,
      "metadata": {
        "id": "y86gfNfu5voF"
      },
      "outputs": [],
      "source": [
        "\n",
        "Using concat function to join two columns\n",
        "\n"
      ]
    },
    {
      "cell_type": "code",
      "source": [
        "from pyspark.sql import SparkSession\n",
        "\n",
        "from pyspark.sql.functions import *\n",
        "\n",
        "spark=SparkSession.builder.appName(\"learning\").getOrCreate()\n",
        "\n",
        "data=[(1,'sreekar'),(2,'suresh'),(3,'raghav')]\n",
        "\n",
        "schema=['id','name']\n",
        "\n",
        "df=spark.createDataFrame(data,schema)\n",
        "\n",
        "df.show()\n",
        "\n",
        "df1=df.withColumn(\"mapping\",concat(col('id'),lit(' '),col('name')))\n",
        "\n",
        "df1.show()"
      ],
      "metadata": {
        "colab": {
          "base_uri": "https://localhost:8080/"
        },
        "id": "wET7DzU85xKU",
        "outputId": "5e4a78e8-af74-4bb9-db88-99143488b31e"
      },
      "execution_count": 10,
      "outputs": [
        {
          "output_type": "stream",
          "name": "stdout",
          "text": [
            "+---+-------+\n",
            "| id|   name|\n",
            "+---+-------+\n",
            "|  1|sreekar|\n",
            "|  2| suresh|\n",
            "|  3| raghav|\n",
            "+---+-------+\n",
            "\n",
            "+---+-------+---------+\n",
            "| id|   name|  mapping|\n",
            "+---+-------+---------+\n",
            "|  1|sreekar|1 sreekar|\n",
            "|  2| suresh| 2 suresh|\n",
            "|  3| raghav| 3 raghav|\n",
            "+---+-------+---------+\n",
            "\n"
          ]
        }
      ]
    }
  ]
}