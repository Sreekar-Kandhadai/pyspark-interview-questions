{
  "nbformat": 4,
  "nbformat_minor": 0,
  "metadata": {
    "colab": {
      "provenance": [],
      "authorship_tag": "ABX9TyMg9iHbrk8oR0JHl8sF86F0",
      "include_colab_link": true
    },
    "kernelspec": {
      "name": "python3",
      "display_name": "Python 3"
    },
    "language_info": {
      "name": "python"
    }
  },
  "cells": [
    {
      "cell_type": "markdown",
      "metadata": {
        "id": "view-in-github",
        "colab_type": "text"
      },
      "source": [
        "<a href=\"https://colab.research.google.com/github/Sreekar-Kandhadai/pyspark-interview-questions/blob/main/capgemini.ipynb\" target=\"_parent\"><img src=\"https://colab.research.google.com/assets/colab-badge.svg\" alt=\"Open In Colab\"/></a>"
      ]
    },
    {
      "cell_type": "code",
      "execution_count": null,
      "metadata": {
        "id": "B7nx4q6IxAl8"
      },
      "outputs": [],
      "source": [
        "\n",
        "𝐐𝐮𝐞𝐬𝐭𝐢𝐨𝐧:Reading and Processing CSV Data\n",
        "Let's assume you have a CSV file named employees.csv with the following content:\n",
        "You are tasked with analyzing employee data from a CSV file using PySpark. Your tasks are as follows:\n",
        "Read the CSV file into a PySpark DataFrame.\n",
        "Find the total number of employees in each department.\n",
        "Calculate the average salary of employees in each department.\n",
        "Filter and display employees who joined after 2020-01-01 and belong to the \"HR\" department.\n",
        "Save the filtered results to a new CSV file named filtered_employees.csv.\n",
        "\n",
        "𝐬𝐜𝐡𝐞𝐦𝐚 𝐚𝐧𝐝 𝐝𝐚𝐭𝐚𝐬𝐞𝐭\n",
        "data = [ (1, \"John Doe\", \"IT\", 80000, \"2021-01-15\"),\n",
        "(2, \"Jane Smith\", \"HR\", 70000, \"2020-05-22\"),\n",
        "(3, \"Robert Brown\", \"IT\", 85000, \"2019-11-03\"),\n",
        "(4, \"Emily Davis\", \"Finance\", 90000, \"2022-07-19\"),\n",
        "(5, \"Michael Johnson\", \"HR\", 75000, \"2023-03-11\"), ]\n",
        "\n",
        " columns = [\"EmployeeID\", \"Name\", \"Department\", \"Salary\", \"JoinDate\"]\n",
        "\n"
      ]
    },
    {
      "cell_type": "code",
      "source": [
        "from pyspark.sql import SparkSession\n",
        "\n",
        "from pyspark.sql.functions import *\n",
        "\n",
        "from pyspark.sql.window import Window\n",
        "\n",
        "spark=SparkSession.builder.appName(\"learning\").getOrCreate()\n",
        "\n",
        "data= [ (1, \"John Doe\", \"IT\", 80000, \"2021-01-15\"),\n",
        "(2, \"Jane Smith\", \"HR\", 70000, \"2020-05-22\"),\n",
        "(3, \"Robert Brown\", \"IT\", 85000, \"2019-11-03\"),\n",
        "(4, \"Emily Davis\", \"Finance\", 90000, \"2022-07-19\"),\n",
        "(5, \"Michael Johnson\", \"HR\", 75000, \"2023-03-11\"), ]\n",
        "\n",
        "schema=[\"EmployeeID\", \"Name\", \"Department\", \"Salary\", \"JoinDate\"]\n",
        "\n",
        "df=spark.createDataFrame(data,schema)\n",
        "\n",
        "df.show()\n",
        "\n",
        "df1=df.groupBy('department').agg(countDistinct('Name').alias('total_employees'),avg('Salary').alias('avg_salary'))\n",
        "\n",
        "df1.show()\n",
        "\n",
        "df2=df.filter((col('Department')=='HR') & (col('JoinDate')>='2020-01-01'))\n",
        "\n",
        "df2.show()\n",
        "\n",
        "df2.write.csv('employees.csv')\n",
        "\n"
      ],
      "metadata": {
        "colab": {
          "base_uri": "https://localhost:8080/"
        },
        "id": "2WxhG-syP5Nh",
        "outputId": "3d8043ca-4a6b-4753-d1fe-b8e89f2d0c0f"
      },
      "execution_count": 6,
      "outputs": [
        {
          "output_type": "stream",
          "name": "stdout",
          "text": [
            "+----------+---------------+----------+------+----------+\n",
            "|EmployeeID|           Name|Department|Salary|  JoinDate|\n",
            "+----------+---------------+----------+------+----------+\n",
            "|         1|       John Doe|        IT| 80000|2021-01-15|\n",
            "|         2|     Jane Smith|        HR| 70000|2020-05-22|\n",
            "|         3|   Robert Brown|        IT| 85000|2019-11-03|\n",
            "|         4|    Emily Davis|   Finance| 90000|2022-07-19|\n",
            "|         5|Michael Johnson|        HR| 75000|2023-03-11|\n",
            "+----------+---------------+----------+------+----------+\n",
            "\n",
            "+----------+---------------+----------+\n",
            "|department|total_employees|avg_salary|\n",
            "+----------+---------------+----------+\n",
            "|        HR|              2|   72500.0|\n",
            "|   Finance|              1|   90000.0|\n",
            "|        IT|              2|   82500.0|\n",
            "+----------+---------------+----------+\n",
            "\n",
            "+----------+---------------+----------+------+----------+\n",
            "|EmployeeID|           Name|Department|Salary|  JoinDate|\n",
            "+----------+---------------+----------+------+----------+\n",
            "|         2|     Jane Smith|        HR| 70000|2020-05-22|\n",
            "|         5|Michael Johnson|        HR| 75000|2023-03-11|\n",
            "+----------+---------------+----------+------+----------+\n",
            "\n"
          ]
        }
      ]
    }
  ]
}