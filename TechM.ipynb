{
  "nbformat": 4,
  "nbformat_minor": 0,
  "metadata": {
    "colab": {
      "provenance": [],
      "authorship_tag": "ABX9TyOKpPvR7XKP1AsSrPlBKFZw",
      "include_colab_link": true
    },
    "kernelspec": {
      "name": "python3",
      "display_name": "Python 3"
    },
    "language_info": {
      "name": "python"
    }
  },
  "cells": [
    {
      "cell_type": "markdown",
      "metadata": {
        "id": "view-in-github",
        "colab_type": "text"
      },
      "source": [
        "<a href=\"https://colab.research.google.com/github/Sreekar-Kandhadai/pyspark-interview-questions/blob/main/TechM.ipynb\" target=\"_parent\"><img src=\"https://colab.research.google.com/assets/colab-badge.svg\" alt=\"Open In Colab\"/></a>"
      ]
    },
    {
      "cell_type": "code",
      "execution_count": null,
      "metadata": {
        "id": "zPZ7wdq3U7Yd"
      },
      "outputs": [],
      "source": [
        "𝐐𝐮𝐞𝐬𝐭𝐢𝐨𝐧\n",
        "Imagine you're analyzing the monthly sales performance of a company across different regions. You want to calculate:\n",
        "The cumulative sales for each region over months.\n",
        "The rank of each month based on sales within the same region.\n",
        "\n",
        "𝐬𝐜𝐡𝐞𝐦𝐚\n",
        "data = [ (\"East\", \"Jan\", 200), (\"East\", \"Feb\", 300),\n",
        "(\"East\", \"Mar\", 250), (\"West\", \"Jan\", 400),\n",
        "(\"West\", \"Feb\", 350), (\"West\", \"Mar\", 450) ]\n",
        "\n",
        " # Define schema and create DataFrame\n",
        "\n",
        "columns = [\"Region\", \"Month\", \"Sales\"]"
      ]
    },
    {
      "cell_type": "code",
      "source": [
        "from pyspark.sql import SparkSession\n",
        "\n",
        "from pyspark.sql.functions import *\n",
        "\n",
        "from pyspark.sql.window import Window\n",
        "\n",
        "spark=SparkSession.builder.appName(\"learning\").getOrCreate()\n",
        "\n",
        "data= [ (\"East\", \"Jan\", 200), (\"East\", \"Feb\", 300),\n",
        "(\"East\", \"Mar\", 250), (\"West\", \"Jan\", 400),\n",
        "(\"West\", \"Feb\", 350), (\"West\", \"Mar\", 450) ]\n",
        "\n",
        "schema=[\"Region\", \"Month\", \"Sales\"]\n",
        "\n",
        "df=spark.createDataFrame(data,schema)\n",
        "\n",
        "window_spec=Window.partitionBy(\"Region\").orderBy('sales')\n",
        "\n",
        "df1=df.withColumn('cumulative_sales',sum('Sales').over(window_spec)).withColumn('rank',rank().over(window_spec))\n",
        "\n",
        "df1.show()"
      ],
      "metadata": {
        "colab": {
          "base_uri": "https://localhost:8080/"
        },
        "id": "lvBIK2qQV1CR",
        "outputId": "692889d0-46ad-4152-97cd-22703c9927d6"
      },
      "execution_count": 2,
      "outputs": [
        {
          "output_type": "stream",
          "name": "stdout",
          "text": [
            "+------+-----+-----+----------------+----+\n",
            "|Region|Month|Sales|cumulative_sales|rank|\n",
            "+------+-----+-----+----------------+----+\n",
            "|  East|  Jan|  200|             200|   1|\n",
            "|  East|  Mar|  250|             450|   2|\n",
            "|  East|  Feb|  300|             750|   3|\n",
            "|  West|  Feb|  350|             350|   1|\n",
            "|  West|  Jan|  400|             750|   2|\n",
            "|  West|  Mar|  450|            1200|   3|\n",
            "+------+-----+-----+----------------+----+\n",
            "\n"
          ]
        }
      ]
    }
  ]
}