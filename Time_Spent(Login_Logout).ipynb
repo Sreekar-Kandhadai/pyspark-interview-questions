{
  "nbformat": 4,
  "nbformat_minor": 0,
  "metadata": {
    "colab": {
      "provenance": [],
      "authorship_tag": "ABX9TyNR0YCwCb2VkX9c3QyaML74",
      "include_colab_link": true
    },
    "kernelspec": {
      "name": "python3",
      "display_name": "Python 3"
    },
    "language_info": {
      "name": "python"
    }
  },
  "cells": [
    {
      "cell_type": "markdown",
      "metadata": {
        "id": "view-in-github",
        "colab_type": "text"
      },
      "source": [
        "<a href=\"https://colab.research.google.com/github/Sreekar-Kandhadai/pyspark-interview-questions/blob/main/Time_Spent(Login_Logout).ipynb\" target=\"_parent\"><img src=\"https://colab.research.google.com/assets/colab-badge.svg\" alt=\"Open In Colab\"/></a>"
      ]
    },
    {
      "cell_type": "code",
      "execution_count": null,
      "metadata": {
        "id": "6P3jCPZk0Tav"
      },
      "outputs": [],
      "source": [
        "Calculate how much time each user spends between log in and log out.\n",
        "Find the difference between the logout_timestamp and login_timestamp in hours, minutes, and seconds.\n",
        "The result should be formatted like \"HH:mm:ss\"."
      ]
    },
    {
      "cell_type": "code",
      "source": [
        "from pyspark.sql import SparkSession\n",
        "\n",
        "from pyspark.sql.functions import *\n",
        "\n",
        "spark=SparkSession.builder.appName(\"learning\").getOrCreate()\n",
        "\n",
        "data = [ (1, \"2025-01-31 08:00:00\", \"2025-01-31 10:30:45\"),\n",
        "(2, \"2025-01-31 09:00:30\", \"2025-01-31 12:15:10\"),\n",
        "(3, \"2025-01-31 07:45:00\", \"2025-01-31 09:00:15\") ]\n",
        "\n",
        "schema_columns = [\"user_id\", \"login_timestamp\", \"logout_timestamp\"]\n",
        "\n",
        "df=spark.createDataFrame(data, schema_columns)\n",
        "\n",
        "df.show()\n",
        "\n",
        "df1=df.withColumn(\"login_time\",unix_timestamp(col('login_timestamp')))\\\n",
        "      .withColumn(\"logout_time\",unix_timestamp(col('logout_timestamp')))\\\n",
        "      .withColumn(\"duration_seconds\",col(\"logout_time\")-col(\"login_time\"))\n",
        "\n",
        "df1.show()\n",
        "\n",
        "# df2=df1.withColumn(\"hour\",floor(col(\"duration_seconds\")/3600))\n",
        "\n",
        "df2=df1.withColumn(\"hour\",(col(\"duration_seconds\")/3600).cast(\"int\"))\\\n",
        "       .withColumn(\"minute\",((col(\"duration_seconds\")-(col(\"hour\")*3600))/60).cast(\"int\"))\\\n",
        "       .withColumn(\"second\",(col('duration_seconds')-(col('hour')*3600)- (col('minute')*60)).cast(\"int\"))\\\n",
        "       .withColumn(\"time_spent_by_each_user\",concat_ws(':',col('hour'),col('minute'),col('second')))\\\n",
        "       .select(\"user_id\",\"login_timestamp\",\"logout_timestamp\",\"time_spent_by_each_user\")\n",
        "\n",
        "df2.show()"
      ],
      "metadata": {
        "colab": {
          "base_uri": "https://localhost:8080/"
        },
        "id": "SgtAeaEM0Y-T",
        "outputId": "a32a21b1-c42a-42c9-b75d-50d53cb300e7"
      },
      "execution_count": 14,
      "outputs": [
        {
          "output_type": "stream",
          "name": "stdout",
          "text": [
            "+-------+-------------------+-------------------+\n",
            "|user_id|    login_timestamp|   logout_timestamp|\n",
            "+-------+-------------------+-------------------+\n",
            "|      1|2025-01-31 08:00:00|2025-01-31 10:30:45|\n",
            "|      2|2025-01-31 09:00:30|2025-01-31 12:15:10|\n",
            "|      3|2025-01-31 07:45:00|2025-01-31 09:00:15|\n",
            "+-------+-------------------+-------------------+\n",
            "\n",
            "+-------+-------------------+-------------------+----------+-----------+----------------+\n",
            "|user_id|    login_timestamp|   logout_timestamp|login_time|logout_time|duration_seconds|\n",
            "+-------+-------------------+-------------------+----------+-----------+----------------+\n",
            "|      1|2025-01-31 08:00:00|2025-01-31 10:30:45|1738310400| 1738319445|            9045|\n",
            "|      2|2025-01-31 09:00:30|2025-01-31 12:15:10|1738314030| 1738325710|           11680|\n",
            "|      3|2025-01-31 07:45:00|2025-01-31 09:00:15|1738309500| 1738314015|            4515|\n",
            "+-------+-------------------+-------------------+----------+-----------+----------------+\n",
            "\n",
            "+-------+-------------------+-------------------+-----------------------+\n",
            "|user_id|    login_timestamp|   logout_timestamp|time_spent_by_each_user|\n",
            "+-------+-------------------+-------------------+-----------------------+\n",
            "|      1|2025-01-31 08:00:00|2025-01-31 10:30:45|                2:30:45|\n",
            "|      2|2025-01-31 09:00:30|2025-01-31 12:15:10|                3:14:40|\n",
            "|      3|2025-01-31 07:45:00|2025-01-31 09:00:15|                1:15:15|\n",
            "+-------+-------------------+-------------------+-----------------------+\n",
            "\n"
          ]
        }
      ]
    }
  ]
}