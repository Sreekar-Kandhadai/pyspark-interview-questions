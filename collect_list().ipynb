{
  "nbformat": 4,
  "nbformat_minor": 0,
  "metadata": {
    "colab": {
      "provenance": [],
      "authorship_tag": "ABX9TyMj9zkzeyKitePqWxaPBBE4",
      "include_colab_link": true
    },
    "kernelspec": {
      "name": "python3",
      "display_name": "Python 3"
    },
    "language_info": {
      "name": "python"
    }
  },
  "cells": [
    {
      "cell_type": "markdown",
      "metadata": {
        "id": "view-in-github",
        "colab_type": "text"
      },
      "source": [
        "<a href=\"https://colab.research.google.com/github/Sreekar-Kandhadai/pyspark-interview-questions/blob/main/collect_list().ipynb\" target=\"_parent\"><img src=\"https://colab.research.google.com/assets/colab-badge.svg\" alt=\"Open In Colab\"/></a>"
      ]
    },
    {
      "cell_type": "code",
      "execution_count": null,
      "metadata": {
        "id": "7DtI8ESkBzUu"
      },
      "outputs": [],
      "source": [
        "data = [('a','aa',1),\n",
        " ('a','aa',2),\n",
        " ('b','bb',5),\n",
        " ('b','bb',3),\n",
        " ('b','bb',4)]\n",
        "cols =  ['col1','col2','col3']\n",
        "Expected Output:\n",
        "+----+----+---------+\n",
        "|col1 |col2|   col3 |\n",
        "+----+----+---------+\n",
        "|  a | aa |  [1, 2] |\n",
        "|  b | bb |[5, 3, 4] |\n",
        "+----+----+---------+"
      ]
    },
    {
      "cell_type": "code",
      "source": [
        "from pyspark.sql import SparkSession\n",
        "\n",
        "from pyspark.sql.functions import *\n",
        "\n",
        "spark=SparkSession.builder.appName(\"learning\").getOrCreate()\n",
        "\n",
        "data=[('a','aa',1),\n",
        " ('a','aa',2),\n",
        " ('b','bb',5),\n",
        " ('b','bb',3),\n",
        " ('b','bb',4)]\n",
        "\n",
        "schema =  ['col1','col2','col3']\n",
        "\n",
        "df=spark.createDataFrame(data,schema)\n",
        "\n",
        "df.show()\n",
        "\n",
        "df.printSchema()\n",
        "\n",
        "df1=df.groupBy('col1','col2').agg(collect_list('col3').alias('col3'))\n",
        "\n",
        "df1.show()"
      ],
      "metadata": {
        "colab": {
          "base_uri": "https://localhost:8080/"
        },
        "id": "1DGgag4hDEax",
        "outputId": "f093b3a1-57bc-4824-b44d-743316498c7f"
      },
      "execution_count": 6,
      "outputs": [
        {
          "output_type": "stream",
          "name": "stdout",
          "text": [
            "+----+----+----+\n",
            "|col1|col2|col3|\n",
            "+----+----+----+\n",
            "|   a|  aa|   1|\n",
            "|   a|  aa|   2|\n",
            "|   b|  bb|   5|\n",
            "|   b|  bb|   3|\n",
            "|   b|  bb|   4|\n",
            "+----+----+----+\n",
            "\n",
            "root\n",
            " |-- col1: string (nullable = true)\n",
            " |-- col2: string (nullable = true)\n",
            " |-- col3: long (nullable = true)\n",
            "\n",
            "+----+----+---------+\n",
            "|col1|col2|     col3|\n",
            "+----+----+---------+\n",
            "|   a|  aa|   [1, 2]|\n",
            "|   b|  bb|[5, 3, 4]|\n",
            "+----+----+---------+\n",
            "\n"
          ]
        }
      ]
    }
  ]
}