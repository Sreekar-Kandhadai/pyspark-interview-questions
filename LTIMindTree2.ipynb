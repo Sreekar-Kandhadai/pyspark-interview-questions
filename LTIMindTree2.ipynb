{
  "nbformat": 4,
  "nbformat_minor": 0,
  "metadata": {
    "colab": {
      "provenance": [],
      "authorship_tag": "ABX9TyOupFFBL5H8toiGSesQfZ25",
      "include_colab_link": true
    },
    "kernelspec": {
      "name": "python3",
      "display_name": "Python 3"
    },
    "language_info": {
      "name": "python"
    }
  },
  "cells": [
    {
      "cell_type": "markdown",
      "metadata": {
        "id": "view-in-github",
        "colab_type": "text"
      },
      "source": [
        "<a href=\"https://colab.research.google.com/github/Sreekar-Kandhadai/pyspark-interview-questions/blob/main/LTIMindTree2.ipynb\" target=\"_parent\"><img src=\"https://colab.research.google.com/assets/colab-badge.svg\" alt=\"Open In Colab\"/></a>"
      ]
    },
    {
      "cell_type": "code",
      "execution_count": null,
      "metadata": {
        "id": "5x6hpK6d0Ign"
      },
      "outputs": [],
      "source": [
        "Given a dataset of monthly sales records with salespeople names and their regions, calculate the month with the highest sales for\n",
        "each region using window functions and the max() function. Ensure that the result includes the region name, month, and sales value.\n",
        "Consider sales fluctuations, and the dataset should contain multiple records for each region to test windowing correctly.\n"
      ]
    },
    {
      "cell_type": "code",
      "source": [
        "from pyspark.sql import SparkSession\n",
        "\n",
        "from pyspark.sql.functions import *\n",
        "\n",
        "from pyspark.sql.window import Window\n",
        "\n",
        "spark=SparkSession.builder.appName(\"sales\").getOrCreate()\n",
        "\n",
        "data = [(\"Amit\", \"North\", \"Jan\", 12000), (\"Rajesh\", \"North\", \"Feb\", 15000),\n",
        "        (\"Sunita\", \"North\", \"Mar\", 11000), (\"Meena\", \"South\", \"Jan\", 17000),\n",
        "        (\"Ravi\", \"South\", \"Feb\", 20000), (\"Priya\", \"South\", \"Mar\", 18000),\n",
        "        (\"Suresh\", \"East\", \"Jan\", 10000), (\"Vishal\", \"East\", \"Feb\", 22000),\n",
        "        (\"Akash\", \"East\", \"Mar\", 21000), (\"Anjali\", \"West\", \"Jan\", 15000),\n",
        "        (\"Deepak\", \"West\", \"Feb\", 13000), (\"Nidhi\", \"West\", \"Mar\", 17000), ]\n",
        "\n",
        "columns = [\"Salesperson\", \"Region\", \"Month\", \"Sales\"]\n",
        "\n",
        "df=spark.createDataFrame(data,columns)\n",
        "\n",
        "df.show()\n",
        "\n",
        "df1=df.groupBy('Region','Month').agg(sum('Sales').alias('sales_value'))\n",
        "\n",
        "df1.show()\n",
        "\n",
        "window_spec=Window.partitionBy('Region').orderBy(col('sales_value').desc())\n",
        "\n",
        "df2=df1.withColumn('row_num',dense_rank().over(window_spec)).filter(col('row_num')==1)\\\n",
        "      .select(\"Region\",'Month',\"sales_value\")\n",
        "\n",
        "df2.show()"
      ],
      "metadata": {
        "colab": {
          "base_uri": "https://localhost:8080/"
        },
        "id": "WPLp-V4w0Q9G",
        "outputId": "c0ada35e-2528-439f-9dbb-fa85cd8d04c5"
      },
      "execution_count": 10,
      "outputs": [
        {
          "output_type": "stream",
          "name": "stdout",
          "text": [
            "+-----------+------+-----+-----+\n",
            "|Salesperson|Region|Month|Sales|\n",
            "+-----------+------+-----+-----+\n",
            "|       Amit| North|  Jan|12000|\n",
            "|     Rajesh| North|  Feb|15000|\n",
            "|     Sunita| North|  Mar|11000|\n",
            "|      Meena| South|  Jan|17000|\n",
            "|       Ravi| South|  Feb|20000|\n",
            "|      Priya| South|  Mar|18000|\n",
            "|     Suresh|  East|  Jan|10000|\n",
            "|     Vishal|  East|  Feb|22000|\n",
            "|      Akash|  East|  Mar|21000|\n",
            "|     Anjali|  West|  Jan|15000|\n",
            "|     Deepak|  West|  Feb|13000|\n",
            "|      Nidhi|  West|  Mar|17000|\n",
            "+-----------+------+-----+-----+\n",
            "\n",
            "+------+-----+-----------+\n",
            "|Region|Month|sales_value|\n",
            "+------+-----+-----------+\n",
            "| North|  Feb|      15000|\n",
            "| South|  Jan|      17000|\n",
            "| South|  Mar|      18000|\n",
            "| North|  Jan|      12000|\n",
            "| South|  Feb|      20000|\n",
            "| North|  Mar|      11000|\n",
            "|  West|  Feb|      13000|\n",
            "|  East|  Jan|      10000|\n",
            "|  East|  Mar|      21000|\n",
            "|  West|  Mar|      17000|\n",
            "|  West|  Jan|      15000|\n",
            "|  East|  Feb|      22000|\n",
            "+------+-----+-----------+\n",
            "\n",
            "+------+-----+-----------+\n",
            "|Region|Month|sales_value|\n",
            "+------+-----+-----------+\n",
            "|  East|  Feb|      22000|\n",
            "| North|  Feb|      15000|\n",
            "| South|  Feb|      20000|\n",
            "|  West|  Mar|      17000|\n",
            "+------+-----+-----------+\n",
            "\n"
          ]
        }
      ]
    }
  ]
}