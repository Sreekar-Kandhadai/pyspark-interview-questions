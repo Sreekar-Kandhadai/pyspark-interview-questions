{
  "nbformat": 4,
  "nbformat_minor": 0,
  "metadata": {
    "colab": {
      "provenance": [],
      "authorship_tag": "ABX9TyMYxGg6JAn+kFxzy36+06y7",
      "include_colab_link": true
    },
    "kernelspec": {
      "name": "python3",
      "display_name": "Python 3"
    },
    "language_info": {
      "name": "python"
    }
  },
  "cells": [
    {
      "cell_type": "markdown",
      "metadata": {
        "id": "view-in-github",
        "colab_type": "text"
      },
      "source": [
        "<a href=\"https://colab.research.google.com/github/Sreekar-Kandhadai/pyspark-interview-questions/blob/main/Imp3.ipynb\" target=\"_parent\"><img src=\"https://colab.research.google.com/assets/colab-badge.svg\" alt=\"Open In Colab\"/></a>"
      ]
    },
    {
      "cell_type": "code",
      "execution_count": null,
      "metadata": {
        "id": "pVTd1w6qr5fs"
      },
      "outputs": [],
      "source": [
        "𝐐𝐮𝐞𝐬𝐭𝐢𝐨𝐧:\n",
        "Given a DataFrame containing sales data, write a PySpark script to:\n",
        "Replace missing values in the price column with the median price instead of the mean.\n",
        "Drop rows where the product column is null, but if the price column is above 300, replace the null product with \"Unknown\".\n",
        "Fill missing values in the quantity column with the average quantity rounded to the nearest integer.\n",
        "Add a new column, total_value, which is the product of price and quantity.\n",
        "Remove the product_id column from the DataFrame.\n",
        "\n",
        "𝐬𝐜𝐡𝐞𝐦𝐚 𝐚𝐧𝐝 𝐝𝐚𝐭𝐚𝐬𝐞𝐭\n",
        "data = [\n",
        " (1, \"Laptop\", 1000, 5),\n",
        " (2, \"Mouse\", None, None),\n",
        " (3, \"Keyboard\", 50, 2),\n",
        " (4, \"Monitor\", 200, None),\n",
        " (5, None, 500, None),\n",
        "]\n",
        "columns = [\"product_id\", \"product\", \"price\", \"quantity\"]\n"
      ]
    },
    {
      "cell_type": "code",
      "source": [
        "from pyspark.sql import SparkSession\n",
        "\n",
        "from pyspark.sql.functions import *\n",
        "\n",
        "spark=SparkSession.builder.appName('learning').getOrCreate()\n",
        "\n",
        "data=[(1, \"Laptop\", 1000, 5),(2, \"Mouse\", None, None),(3, \"Keyboard\", 50, 2),(4, \"Monitor\", 200, None),(5, None, 500, None)]\n",
        "\n",
        "schema=[\"product_id\", \"product\", \"price\", \"quantity\"]\n",
        "\n",
        "df=spark.createDataFrame(data,schema)\n",
        "\n",
        "df.show()\n",
        "\n",
        "median_price=df.select(median(col('price'))).collect()[0][0]\n",
        "\n",
        "avg_quantity=df.select(round(avg(col('quantity')))).collect()[0][0]\n",
        "\n",
        "print(avg_quantity)\n",
        "\n",
        "df1=df.fillna({'price':median_price,'quantity':avg_quantity})\n",
        "\n",
        "df1.show()\n",
        "\n",
        "#df2=df1.withColumn('product',when(col('price') > 300 & col('product').isNotNull()  ,'Unknown').otherwise(col('product')))\n",
        "\n",
        "df2 = df1.withColumn('product',\n",
        "                    when((col('price') > 300) & (col('product').isNull()), 'Unknown')\n",
        "                    .otherwise(col('product'))).filter(col('product').isNotNull()).drop(col('product_id'))\n",
        "\n",
        "df2.show()\n",
        "\n",
        "df3=df2.withColumn('total_value',col('price')*col('quantity'))\n",
        "\n",
        "df3.show()\n",
        "\n"
      ],
      "metadata": {
        "colab": {
          "base_uri": "https://localhost:8080/"
        },
        "id": "L-66U4V6r-D0",
        "outputId": "46b6c058-a40b-4909-8430-9a3d2691bad9"
      },
      "execution_count": 25,
      "outputs": [
        {
          "output_type": "stream",
          "name": "stdout",
          "text": [
            "+----------+--------+-----+--------+\n",
            "|product_id| product|price|quantity|\n",
            "+----------+--------+-----+--------+\n",
            "|         1|  Laptop| 1000|       5|\n",
            "|         2|   Mouse| NULL|    NULL|\n",
            "|         3|Keyboard|   50|       2|\n",
            "|         4| Monitor|  200|    NULL|\n",
            "|         5|    NULL|  500|    NULL|\n",
            "+----------+--------+-----+--------+\n",
            "\n",
            "4.0\n",
            "+----------+--------+-----+--------+\n",
            "|product_id| product|price|quantity|\n",
            "+----------+--------+-----+--------+\n",
            "|         1|  Laptop| 1000|       5|\n",
            "|         2|   Mouse|  350|       4|\n",
            "|         3|Keyboard|   50|       2|\n",
            "|         4| Monitor|  200|       4|\n",
            "|         5|    NULL|  500|       4|\n",
            "+----------+--------+-----+--------+\n",
            "\n",
            "+--------+-----+--------+\n",
            "| product|price|quantity|\n",
            "+--------+-----+--------+\n",
            "|  Laptop| 1000|       5|\n",
            "|   Mouse|  350|       4|\n",
            "|Keyboard|   50|       2|\n",
            "| Monitor|  200|       4|\n",
            "| Unknown|  500|       4|\n",
            "+--------+-----+--------+\n",
            "\n",
            "+--------+-----+--------+-----------+\n",
            "| product|price|quantity|total_value|\n",
            "+--------+-----+--------+-----------+\n",
            "|  Laptop| 1000|       5|       5000|\n",
            "|   Mouse|  350|       4|       1400|\n",
            "|Keyboard|   50|       2|        100|\n",
            "| Monitor|  200|       4|        800|\n",
            "| Unknown|  500|       4|       2000|\n",
            "+--------+-----+--------+-----------+\n",
            "\n"
          ]
        }
      ]
    }
  ]
}