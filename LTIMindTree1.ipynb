{
  "nbformat": 4,
  "nbformat_minor": 0,
  "metadata": {
    "colab": {
      "provenance": [],
      "authorship_tag": "ABX9TyOxKv6McICNoz2PDGMRWIwt",
      "include_colab_link": true
    },
    "kernelspec": {
      "name": "python3",
      "display_name": "Python 3"
    },
    "language_info": {
      "name": "python"
    }
  },
  "cells": [
    {
      "cell_type": "markdown",
      "metadata": {
        "id": "view-in-github",
        "colab_type": "text"
      },
      "source": [
        "<a href=\"https://colab.research.google.com/github/Sreekar-Kandhadai/pyspark-interview-questions/blob/main/LTIMindTree1.ipynb\" target=\"_parent\"><img src=\"https://colab.research.google.com/assets/colab-badge.svg\" alt=\"Open In Colab\"/></a>"
      ]
    },
    {
      "cell_type": "code",
      "execution_count": null,
      "metadata": {
        "id": "7Fh8AQbRKA9I"
      },
      "outputs": [],
      "source": [
        "𝐐𝐮𝐞𝐬𝐭𝐢𝐨𝐧\n",
        "You are working as a Data Engineer at a retail company. The marketing team has provided a dataset of customer purchases to analyze the\n",
        " relationship between the amount spent on advertisements and the revenue generated. Using PySpark, compute the correlation between the\n",
        " \"Ad_Spend\" and \"Revenue\" columns to determine if there's a linear relationship.\n",
        "\n",
        "𝐬𝐜𝐡𝐞𝐦𝐚\n",
        "# Define the schema for the dataset\n",
        "\n",
        "schema = StructType([ StructField(\"Customer_ID\", StringType(), True), StructField(\"Ad_Spend\", IntegerType(), True), StructField(\"Revenue\", IntegerType(), True) ])\n",
        "\n",
        "# Sample data\n",
        "\n",
        "data = [ (\"C001\", 2000, 25000), (\"C002\", 1500, 23000),\n",
        "(\"C003\", 3000, 40000), (\"C004\", 1200, 18000),\n",
        "(\"C005\", 2500, 30000) ]\n"
      ]
    },
    {
      "cell_type": "code",
      "source": [
        "from pyspark.sql import SparkSession\n",
        "\n",
        "from pyspark.sql.functions import *\n",
        "\n",
        "from pyspark.sql.types import *\n",
        "\n",
        "\n",
        "spark=SparkSession.builder.appName(\"learning\").getOrCreate()\n",
        "\n",
        "\n",
        "data=[ (\"C001\", 2000, 25000), (\"C002\", 1500, 23000),\n",
        "(\"C003\", 3000, 40000), (\"C004\", 1200, 18000),\n",
        "(\"C005\", 2500, 30000) ]\n",
        "\n",
        "schema=StructType([ StructField(\"Customer_ID\", StringType(), True), StructField(\"Ad_Spend\", IntegerType(), True), StructField(\"Revenue\", IntegerType(), True) ])\n",
        "\n",
        "df=spark.createDataFrame(data,schema)\n",
        "\n",
        "df.show()\n",
        "\n",
        "correlation=df.stat.corr(\"Ad_Spend\",\"Revenue\")\n",
        "\n",
        "print(\"The correlation between Ad_Spend and Revenue is \",correlation)\n",
        "\n"
      ],
      "metadata": {
        "colab": {
          "base_uri": "https://localhost:8080/"
        },
        "id": "LzwF7z6hKZMR",
        "outputId": "db4040ec-b4c7-450b-a931-44cd49860c85"
      },
      "execution_count": 4,
      "outputs": [
        {
          "output_type": "stream",
          "name": "stdout",
          "text": [
            "+-----------+--------+-------+\n",
            "|Customer_ID|Ad_Spend|Revenue|\n",
            "+-----------+--------+-------+\n",
            "|       C001|    2000|  25000|\n",
            "|       C002|    1500|  23000|\n",
            "|       C003|    3000|  40000|\n",
            "|       C004|    1200|  18000|\n",
            "|       C005|    2500|  30000|\n",
            "+-----------+--------+-------+\n",
            "\n",
            "The correlation between Ad_Spend and Revenue is  0.9704535552410215\n"
          ]
        }
      ]
    }
  ]
}