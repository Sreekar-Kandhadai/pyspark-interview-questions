{
  "nbformat": 4,
  "nbformat_minor": 0,
  "metadata": {
    "colab": {
      "provenance": [],
      "authorship_tag": "ABX9TyMNIe3pxd6a0NVjKpSIkmud",
      "include_colab_link": true
    },
    "kernelspec": {
      "name": "python3",
      "display_name": "Python 3"
    },
    "language_info": {
      "name": "python"
    }
  },
  "cells": [
    {
      "cell_type": "markdown",
      "metadata": {
        "id": "view-in-github",
        "colab_type": "text"
      },
      "source": [
        "<a href=\"https://colab.research.google.com/github/Sreekar-Kandhadai/pyspark-interview-questions/blob/main/Twitter.ipynb\" target=\"_parent\"><img src=\"https://colab.research.google.com/assets/colab-badge.svg\" alt=\"Open In Colab\"/></a>"
      ]
    },
    {
      "cell_type": "code",
      "execution_count": null,
      "metadata": {
        "id": "tfmZ5kttXGH_"
      },
      "outputs": [],
      "source": [
        "We have a table of employees that includes the following fields: id, first_name, last_name, age, sex, employee_title,\n",
        "department, salary, target, bonus, city, address, and manager_id. We need to find the top 3 distinct salaries for\n",
        "each department. The output should include:\n",
        "\n",
        "The department name.\n",
        "The top 3 distinct salaries for each department.\n",
        "The results should be ordered alphabetically by department and then by the highest salary to the lowest salary."
      ]
    },
    {
      "cell_type": "code",
      "source": [
        "from pyspark.sql import SparkSession\n",
        "\n",
        "from pyspark.sql.functions import *\n",
        "\n",
        "from pyspark.sql.window import Window\n",
        "\n",
        "spark=SparkSession.builder.appName(\"top_3_salaries\").getOrCreate()\n",
        "\n",
        "data = [\n",
        "    (1, 'Allen', 'Wang', 55, 'F', 'Manager', 'Management', 200000, 0, 300, 'California', '23St', 1),\n",
        "    (13, 'Katty', 'Bond', 56, 'F', 'Manager', 'Management', 150000, 0, 300, 'Arizona', None, 1),\n",
        "    (19, 'George', 'Joe', 50, 'M', 'Manager', 'Management', 100000, 0, 300, 'Florida', '26St', 1),\n",
        "    (11, 'Richerd', 'Gear', 57, 'M', 'Manager', 'Management', 250000, 0, 300, 'Alabama', None, 1),\n",
        "    (10, 'Jennifer', 'Dion', 34, 'F', 'Sales', 'Sales', 100000, 200, 150, 'Alabama', None, 13),\n",
        "    (18, 'Laila', 'Mark', 26, 'F', 'Sales', 'Sales', 100000, 200, 150, 'Florida', '23St', 11),\n",
        "    (20, 'Sarrah', 'Bicky', 31, 'F', 'Senior Sales', 'Sales', 200000, 200, 150, 'Florida', '53St', 19),\n",
        "    (21, 'Suzan', 'Lee', 34, 'F', 'Sales', 'Sales', 130000, 200, 150, 'Florida', '56St', 19),\n",
        "    (22, 'Mandy', 'John', 31, 'F', 'Sales', 'Sales', 130000, 200, 150, 'Florida', '45St', 19),\n",
        "    (17, 'Mick', 'Berry', 44, 'M', 'Senior Sales', 'Sales', 220000, 200, 150, 'Florida', None, 11),\n",
        "    (12, 'Shandler', 'Bing', 23, 'M', 'Auditor', 'Audit', 110000, 200, 150, 'Arizona', None, 11),\n",
        "    (14, 'Jason', 'Tom', 23, 'M', 'Auditor', 'Audit', 100000, 200, 150, 'Arizona', None, 11),\n",
        "    (16, 'Celine', 'Anston', 27, 'F', 'Auditor', 'Audit', 100000, 200, 150, 'Colorado', None, 11),\n",
        "    (15, 'Michale', 'Jackson', 44, 'F', 'Auditor', 'Audit', 70000, 150, 150, 'Colorado', None, 11),\n",
        "    (6, 'Molly', 'Sam', 28, 'F', 'Sales', 'Sales', 140000, 100, 150, 'Arizona', '24St', 13),\n",
        "    (7, 'Nicky', 'Bat', 33, 'F', 'Sales', 'Sales', None, None, None, None, None, None)\n",
        "]\n",
        "\n",
        "columns = [\"id\", \"first_name\", \"last_name\", \"age\", \"sex\", \"employee_title\", \"department\", \"salary\",\n",
        "           \"target\", \"bonus\", \"city\", \"address\", \"manager_id\"]\n",
        "\n",
        "\n",
        "df=spark.createDataFrame(data,columns)\n",
        "\n",
        "df.show()\n",
        "\n",
        "window_spec=Window.partitionBy('department').orderBy(col('salary').desc())\n",
        "\n",
        "df1=df.withColumn(\"rank\",dense_rank().over(window_spec))\n",
        "\n",
        "df2=df1.filter(\"rank <=3\").select(\"department\",\"salary\").distinct().orderBy(col('department'),col('salary').desc())\n",
        "\n",
        "df2.show()"
      ],
      "metadata": {
        "colab": {
          "base_uri": "https://localhost:8080/"
        },
        "id": "QocLnnI0XvcP",
        "outputId": "dcad9444-77fb-4518-eaeb-f2daa0cd8631"
      },
      "execution_count": 3,
      "outputs": [
        {
          "output_type": "stream",
          "name": "stdout",
          "text": [
            "+---+----------+---------+---+---+--------------+----------+------+------+-----+----------+-------+----------+\n",
            "| id|first_name|last_name|age|sex|employee_title|department|salary|target|bonus|      city|address|manager_id|\n",
            "+---+----------+---------+---+---+--------------+----------+------+------+-----+----------+-------+----------+\n",
            "|  1|     Allen|     Wang| 55|  F|       Manager|Management|200000|     0|  300|California|   23St|         1|\n",
            "| 13|     Katty|     Bond| 56|  F|       Manager|Management|150000|     0|  300|   Arizona|   NULL|         1|\n",
            "| 19|    George|      Joe| 50|  M|       Manager|Management|100000|     0|  300|   Florida|   26St|         1|\n",
            "| 11|   Richerd|     Gear| 57|  M|       Manager|Management|250000|     0|  300|   Alabama|   NULL|         1|\n",
            "| 10|  Jennifer|     Dion| 34|  F|         Sales|     Sales|100000|   200|  150|   Alabama|   NULL|        13|\n",
            "| 18|     Laila|     Mark| 26|  F|         Sales|     Sales|100000|   200|  150|   Florida|   23St|        11|\n",
            "| 20|    Sarrah|    Bicky| 31|  F|  Senior Sales|     Sales|200000|   200|  150|   Florida|   53St|        19|\n",
            "| 21|     Suzan|      Lee| 34|  F|         Sales|     Sales|130000|   200|  150|   Florida|   56St|        19|\n",
            "| 22|     Mandy|     John| 31|  F|         Sales|     Sales|130000|   200|  150|   Florida|   45St|        19|\n",
            "| 17|      Mick|    Berry| 44|  M|  Senior Sales|     Sales|220000|   200|  150|   Florida|   NULL|        11|\n",
            "| 12|  Shandler|     Bing| 23|  M|       Auditor|     Audit|110000|   200|  150|   Arizona|   NULL|        11|\n",
            "| 14|     Jason|      Tom| 23|  M|       Auditor|     Audit|100000|   200|  150|   Arizona|   NULL|        11|\n",
            "| 16|    Celine|   Anston| 27|  F|       Auditor|     Audit|100000|   200|  150|  Colorado|   NULL|        11|\n",
            "| 15|   Michale|  Jackson| 44|  F|       Auditor|     Audit| 70000|   150|  150|  Colorado|   NULL|        11|\n",
            "|  6|     Molly|      Sam| 28|  F|         Sales|     Sales|140000|   100|  150|   Arizona|   24St|        13|\n",
            "|  7|     Nicky|      Bat| 33|  F|         Sales|     Sales|  NULL|  NULL| NULL|      NULL|   NULL|      NULL|\n",
            "+---+----------+---------+---+---+--------------+----------+------+------+-----+----------+-------+----------+\n",
            "\n",
            "+----------+------+\n",
            "|department|salary|\n",
            "+----------+------+\n",
            "|     Audit|110000|\n",
            "|     Audit|100000|\n",
            "|     Audit| 70000|\n",
            "|Management|250000|\n",
            "|Management|200000|\n",
            "|Management|150000|\n",
            "|     Sales|220000|\n",
            "|     Sales|200000|\n",
            "|     Sales|140000|\n",
            "+----------+------+\n",
            "\n"
          ]
        }
      ]
    }
  ]
}