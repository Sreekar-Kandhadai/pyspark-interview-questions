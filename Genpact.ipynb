{
  "nbformat": 4,
  "nbformat_minor": 0,
  "metadata": {
    "colab": {
      "provenance": [],
      "authorship_tag": "ABX9TyMAW6zXI1AXtzqvdd21Ewbb",
      "include_colab_link": true
    },
    "kernelspec": {
      "name": "python3",
      "display_name": "Python 3"
    },
    "language_info": {
      "name": "python"
    }
  },
  "cells": [
    {
      "cell_type": "markdown",
      "metadata": {
        "id": "view-in-github",
        "colab_type": "text"
      },
      "source": [
        "<a href=\"https://colab.research.google.com/github/Sreekar-Kandhadai/pyspark-interview-questions/blob/main/Genpact.ipynb\" target=\"_parent\"><img src=\"https://colab.research.google.com/assets/colab-badge.svg\" alt=\"Open In Colab\"/></a>"
      ]
    },
    {
      "cell_type": "code",
      "execution_count": null,
      "metadata": {
        "id": "uFgOsnXRZC1-"
      },
      "outputs": [],
      "source": [
        "PySpark Coding:\n",
        "Input:\n",
        "CustomerId Name Address\n",
        "1 hari[{Add1}, {Add2}, {Add3}]\n",
        "Output:\n",
        "CustomerId Name Address\n",
        "1 hari{Add1}\n",
        "1 hari{Add2}\n",
        "1 hari{Add3}\n"
      ]
    },
    {
      "cell_type": "code",
      "source": [
        "from pyspark.sql import SparkSession\n",
        "from pyspark.sql.functions import *\n",
        "\n",
        "spark=SparkSession.builder.appName(\"learning\").getOrCreate()\n",
        "\n",
        "data=[(1,'hari', [\"{Add1}\", \"{Add2}\", \"{Add3}\"])]\n",
        "\n",
        "schema=['CustomerId','Name','Address']\n",
        "\n",
        "df=spark.createDataFrame(data,schema)\n",
        "\n",
        "df.show()\n",
        "\n",
        "df1=df.withColumn(\"Address\",explode(\"Address\"))\n",
        "\n",
        "df1.show()"
      ],
      "metadata": {
        "colab": {
          "base_uri": "https://localhost:8080/"
        },
        "id": "aGtiS40UZXP7",
        "outputId": "c31ee495-1532-4b45-86db-8844e10e33c1"
      },
      "execution_count": 2,
      "outputs": [
        {
          "output_type": "stream",
          "name": "stdout",
          "text": [
            "+----------+----+--------------------+\n",
            "|CustomerId|Name|             Address|\n",
            "+----------+----+--------------------+\n",
            "|         1|hari|[{Add1}, {Add2}, ...|\n",
            "+----------+----+--------------------+\n",
            "\n",
            "+----------+----+-------+\n",
            "|CustomerId|Name|Address|\n",
            "+----------+----+-------+\n",
            "|         1|hari| {Add1}|\n",
            "|         1|hari| {Add2}|\n",
            "|         1|hari| {Add3}|\n",
            "+----------+----+-------+\n",
            "\n"
          ]
        }
      ]
    }
  ]
}