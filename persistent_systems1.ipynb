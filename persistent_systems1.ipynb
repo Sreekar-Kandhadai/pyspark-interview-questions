{
  "nbformat": 4,
  "nbformat_minor": 0,
  "metadata": {
    "colab": {
      "provenance": [],
      "authorship_tag": "ABX9TyO9a4LYC2L5LCwwRu0AQ2tS",
      "include_colab_link": true
    },
    "kernelspec": {
      "name": "python3",
      "display_name": "Python 3"
    },
    "language_info": {
      "name": "python"
    }
  },
  "cells": [
    {
      "cell_type": "markdown",
      "metadata": {
        "id": "view-in-github",
        "colab_type": "text"
      },
      "source": [
        "<a href=\"https://colab.research.google.com/github/Sreekar-Kandhadai/pyspark-interview-questions/blob/main/persistent_systems1.ipynb\" target=\"_parent\"><img src=\"https://colab.research.google.com/assets/colab-badge.svg\" alt=\"Open In Colab\"/></a>"
      ]
    },
    {
      "cell_type": "code",
      "execution_count": null,
      "metadata": {
        "id": "r8eA6ybOGHqp"
      },
      "outputs": [],
      "source": [
        "𝐐𝐮𝐞𝐬𝐭𝐢𝐨𝐧\n",
        "You are given a dataset of sales transactions for multiple stores and products. Your task is to calculate the percentage contribution of each product's sales to the\n",
        "total sales of its store.\n",
        "\n",
        "𝐬𝐜𝐡𝐞𝐦𝐚\n",
        "data = [ (\"S1\", \"P1\", 100), (\"S1\", \"P2\", 200),\n",
        "(\"S1\", \"P3\", 300), (\"S2\", \"P1\", 400),\n",
        "(\"S2\", \"P2\", 100), (\"S2\", \"P3\", 500) ]\n",
        "\n",
        "# Define the schema and create the DataFrame columns = [\"StoreID\", \"Product\", \"Sales\"]"
      ]
    },
    {
      "cell_type": "code",
      "source": [
        "\n",
        "from pyspark.sql import SparkSession\n",
        "\n",
        "from pyspark.sql.functions import *\n",
        "\n",
        "spark=SparkSession.builder.appName(\"learning\").getOrCreate()\n",
        "\n",
        "data= [ (\"S1\", \"P1\", 100), (\"S1\", \"P2\", 200),\n",
        "(\"S1\", \"P3\", 300), (\"S2\", \"P1\", 400),\n",
        "(\"S2\", \"P2\", 100), (\"S2\", \"P3\", 500) ]\n",
        "\n",
        "schema=[\"StoreID\", \"Product\", \"Sales\"]\n",
        "\n",
        "df=spark.createDataFrame(data,schema)\n",
        "\n",
        "df.show()\n",
        "\n",
        "df1=df.groupBy('StoreID').agg(sum('Sales').alias('total_sales'))\n",
        "\n",
        "df1.show()\n",
        "\n",
        "df2=df.join(df1,\"StoreID\",\"inner\")\n",
        "\n",
        "df2.show()\n",
        "\n",
        "df3=df2.withColumn(\"contribution\",round(col('Sales')/col('total_sales'),2)* 100)\n",
        "\n",
        "df3.show()"
      ],
      "metadata": {
        "colab": {
          "base_uri": "https://localhost:8080/"
        },
        "id": "SsuTYEynGfVv",
        "outputId": "c7684d72-1d2d-4c9c-d925-a8fc944b4013"
      },
      "execution_count": 8,
      "outputs": [
        {
          "output_type": "stream",
          "name": "stdout",
          "text": [
            "+-------+-------+-----+\n",
            "|StoreID|Product|Sales|\n",
            "+-------+-------+-----+\n",
            "|     S1|     P1|  100|\n",
            "|     S1|     P2|  200|\n",
            "|     S1|     P3|  300|\n",
            "|     S2|     P1|  400|\n",
            "|     S2|     P2|  100|\n",
            "|     S2|     P3|  500|\n",
            "+-------+-------+-----+\n",
            "\n",
            "+-------+-----------+\n",
            "|StoreID|total_sales|\n",
            "+-------+-----------+\n",
            "|     S1|        600|\n",
            "|     S2|       1000|\n",
            "+-------+-----------+\n",
            "\n",
            "+-------+-------+-----+-----------+\n",
            "|StoreID|Product|Sales|total_sales|\n",
            "+-------+-------+-----+-----------+\n",
            "|     S1|     P1|  100|        600|\n",
            "|     S1|     P2|  200|        600|\n",
            "|     S1|     P3|  300|        600|\n",
            "|     S2|     P1|  400|       1000|\n",
            "|     S2|     P2|  100|       1000|\n",
            "|     S2|     P3|  500|       1000|\n",
            "+-------+-------+-----+-----------+\n",
            "\n",
            "+-------+-------+-----+-----------+------------+\n",
            "|StoreID|Product|Sales|total_sales|contribution|\n",
            "+-------+-------+-----+-----------+------------+\n",
            "|     S1|     P1|  100|        600|        17.0|\n",
            "|     S1|     P2|  200|        600|        33.0|\n",
            "|     S1|     P3|  300|        600|        50.0|\n",
            "|     S2|     P1|  400|       1000|        40.0|\n",
            "|     S2|     P2|  100|       1000|        10.0|\n",
            "|     S2|     P3|  500|       1000|        50.0|\n",
            "+-------+-------+-----+-----------+------------+\n",
            "\n"
          ]
        }
      ]
    }
  ]
}