{
  "nbformat": 4,
  "nbformat_minor": 0,
  "metadata": {
    "colab": {
      "provenance": [],
      "authorship_tag": "ABX9TyPEwVQUFO9GicXVVRXhTCHH",
      "include_colab_link": true
    },
    "kernelspec": {
      "name": "python3",
      "display_name": "Python 3"
    },
    "language_info": {
      "name": "python"
    }
  },
  "cells": [
    {
      "cell_type": "markdown",
      "metadata": {
        "id": "view-in-github",
        "colab_type": "text"
      },
      "source": [
        "<a href=\"https://colab.research.google.com/github/Sreekar-Kandhadai/pyspark-interview-questions/blob/main/JPMorgan.ipynb\" target=\"_parent\"><img src=\"https://colab.research.google.com/assets/colab-badge.svg\" alt=\"Open In Colab\"/></a>"
      ]
    },
    {
      "cell_type": "code",
      "execution_count": null,
      "metadata": {
        "id": "TwBMzvhcF9rb"
      },
      "outputs": [],
      "source": [
        "Bank of Ireland has requested that you detect invalid transactions in December 2022. An invalid transaction is one that occurs outside of the\n",
        " bank's normal business hours. The following are the hours of operation for all branches:\n",
        "\n",
        "Monday — Friday: 09:00–16:00\n",
        "Saturday & Sunday: Closed\n",
        "Irish Public Holidays: 25th and 26th December\n",
        "\n",
        "You need to find the transaction IDs of all invalid transactions that occurred in December 2022.\n",
        "\n"
      ]
    },
    {
      "cell_type": "code",
      "source": [
        "from pyspark.sql import SparkSession\n",
        "\n",
        "from pyspark.sql.functions import *\n",
        "\n",
        "spark=SparkSession.builder.appName(\"Invalid_transactions\").getOrCreate()\n",
        "\n",
        "data = [\n",
        "    (1051, '2022-12-03 10:15'),\n",
        "    (1052, '2022-12-03 17:00'),\n",
        "    (1053, '2022-12-04 10:00'),\n",
        "    (1054, '2022-12-04 14:00'),\n",
        "    (1055, '2022-12-05 08:59'),\n",
        "    (1056, '2022-12-05 16:01'),\n",
        "    (1057, '2022-12-06 09:00'),\n",
        "    (1058, '2022-12-06 15:59'),\n",
        "    (1059, '2022-12-07 12:00'),\n",
        "    (1060, '2022-12-08 09:00'),\n",
        "    (1061, '2022-12-09 10:00'),\n",
        "    (1062, '2022-12-10 11:00'),\n",
        "    (1063, '2022-12-10 17:30'),\n",
        "    (1064, '2022-12-11 12:00'),\n",
        "    (1065, '2022-12-12 08:59'),\n",
        "    (1066, '2022-12-12 16:01'),\n",
        "    (1067, '2022-12-25 10:00'),\n",
        "    (1068, '2022-12-25 15:00'),\n",
        "    (1069, '2022-12-26 09:00'),\n",
        "    (1070, '2022-12-26 14:00'),\n",
        "    (1071, '2022-12-26 16:30'),\n",
        "    (1072, '2022-12-27 09:00'),\n",
        "    (1073, '2022-12-28 08:30'),\n",
        "    (1074, '2022-12-29 16:15'),\n",
        "    (1075, '2022-12-30 14:00'),\n",
        "    (1076, '2022-12-31 10:00')\n",
        "]\n",
        "\n",
        "schema= [\"transaction_id\", \"time_stamp\"]\n",
        "\n",
        "df=spark.createDataFrame(data,schema)\n",
        "\n",
        "df.show()\n",
        "df.printSchema()\n",
        "\n",
        "dfDecember2020=df.filter(\"year(time_stamp) ==2022 and month(time_stamp)==12\")\n",
        "\n",
        "dfDecember2020.show()\n",
        "\n",
        "weekendCheck=(dayofweek(col('time_stamp')).isin([1,7]))\n",
        "\n",
        "nonBusinessHours= ((hour(col('time_stamp')) < 9) | (hour(col('time_stamp')) > 16) | ((hour(col('time_stamp')) ==16) & (minute(col('time_stamp')) > 0)))\n",
        "\n",
        "publicHolidayCheck=((dayofmonth(col('time_stamp'))==25) | (dayofmonth(col('time_stamp'))==26))\n",
        "\n",
        "invalid_transactions=dfDecember2020.filter(weekendCheck | nonBusinessHours | publicHolidayCheck)\n",
        "\n",
        "invalid_transactions.select(\"transaction_id\").show()\n"
      ],
      "metadata": {
        "colab": {
          "base_uri": "https://localhost:8080/"
        },
        "id": "8tEV8gX_GZhi",
        "outputId": "5fe49534-f63f-4df4-84a9-b993dc8f3868"
      },
      "execution_count": 11,
      "outputs": [
        {
          "output_type": "stream",
          "name": "stdout",
          "text": [
            "+--------------+----------------+\n",
            "|transaction_id|      time_stamp|\n",
            "+--------------+----------------+\n",
            "|          1051|2022-12-03 10:15|\n",
            "|          1052|2022-12-03 17:00|\n",
            "|          1053|2022-12-04 10:00|\n",
            "|          1054|2022-12-04 14:00|\n",
            "|          1055|2022-12-05 08:59|\n",
            "|          1056|2022-12-05 16:01|\n",
            "|          1057|2022-12-06 09:00|\n",
            "|          1058|2022-12-06 15:59|\n",
            "|          1059|2022-12-07 12:00|\n",
            "|          1060|2022-12-08 09:00|\n",
            "|          1061|2022-12-09 10:00|\n",
            "|          1062|2022-12-10 11:00|\n",
            "|          1063|2022-12-10 17:30|\n",
            "|          1064|2022-12-11 12:00|\n",
            "|          1065|2022-12-12 08:59|\n",
            "|          1066|2022-12-12 16:01|\n",
            "|          1067|2022-12-25 10:00|\n",
            "|          1068|2022-12-25 15:00|\n",
            "|          1069|2022-12-26 09:00|\n",
            "|          1070|2022-12-26 14:00|\n",
            "+--------------+----------------+\n",
            "only showing top 20 rows\n",
            "\n",
            "root\n",
            " |-- transaction_id: long (nullable = true)\n",
            " |-- time_stamp: string (nullable = true)\n",
            "\n",
            "+--------------+----------------+\n",
            "|transaction_id|      time_stamp|\n",
            "+--------------+----------------+\n",
            "|          1051|2022-12-03 10:15|\n",
            "|          1052|2022-12-03 17:00|\n",
            "|          1053|2022-12-04 10:00|\n",
            "|          1054|2022-12-04 14:00|\n",
            "|          1055|2022-12-05 08:59|\n",
            "|          1056|2022-12-05 16:01|\n",
            "|          1057|2022-12-06 09:00|\n",
            "|          1058|2022-12-06 15:59|\n",
            "|          1059|2022-12-07 12:00|\n",
            "|          1060|2022-12-08 09:00|\n",
            "|          1061|2022-12-09 10:00|\n",
            "|          1062|2022-12-10 11:00|\n",
            "|          1063|2022-12-10 17:30|\n",
            "|          1064|2022-12-11 12:00|\n",
            "|          1065|2022-12-12 08:59|\n",
            "|          1066|2022-12-12 16:01|\n",
            "|          1067|2022-12-25 10:00|\n",
            "|          1068|2022-12-25 15:00|\n",
            "|          1069|2022-12-26 09:00|\n",
            "|          1070|2022-12-26 14:00|\n",
            "+--------------+----------------+\n",
            "only showing top 20 rows\n",
            "\n",
            "+--------------+\n",
            "|transaction_id|\n",
            "+--------------+\n",
            "|          1051|\n",
            "|          1052|\n",
            "|          1053|\n",
            "|          1054|\n",
            "|          1055|\n",
            "|          1056|\n",
            "|          1062|\n",
            "|          1063|\n",
            "|          1064|\n",
            "|          1065|\n",
            "|          1066|\n",
            "|          1067|\n",
            "|          1068|\n",
            "|          1069|\n",
            "|          1070|\n",
            "|          1071|\n",
            "|          1073|\n",
            "|          1074|\n",
            "|          1076|\n",
            "+--------------+\n",
            "\n"
          ]
        }
      ]
    },
    {
      "cell_type": "code",
      "source": [],
      "metadata": {
        "id": "W0TEqkhKGSZ5"
      },
      "execution_count": null,
      "outputs": []
    }
  ]
}