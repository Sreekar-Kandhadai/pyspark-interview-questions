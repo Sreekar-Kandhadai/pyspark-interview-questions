{
  "nbformat": 4,
  "nbformat_minor": 0,
  "metadata": {
    "colab": {
      "provenance": [],
      "authorship_tag": "ABX9TyNIXnHs/H40u+DP3kY+mpkh",
      "include_colab_link": true
    },
    "kernelspec": {
      "name": "python3",
      "display_name": "Python 3"
    },
    "language_info": {
      "name": "python"
    }
  },
  "cells": [
    {
      "cell_type": "markdown",
      "metadata": {
        "id": "view-in-github",
        "colab_type": "text"
      },
      "source": [
        "<a href=\"https://colab.research.google.com/github/Sreekar-Kandhadai/pyspark-interview-questions/blob/main/Walmart.ipynb\" target=\"_parent\"><img src=\"https://colab.research.google.com/assets/colab-badge.svg\" alt=\"Open In Colab\"/></a>"
      ]
    },
    {
      "cell_type": "code",
      "execution_count": null,
      "metadata": {
        "id": "XLUhBlwtMsVV"
      },
      "outputs": [],
      "source": [
        "We have two datasets:\n",
        "\n",
        "Sessions Table: Contains records of when users started their sessions.\n",
        "Order Summary Table: Contains records of orders placed by users along with their values.\n",
        "\n",
        "We want to:\n",
        "Find users who started a session and placed an order on the same day.\n",
        "Calculate the total number of orders and the total order value for those users."
      ]
    },
    {
      "cell_type": "code",
      "source": [
        "from pyspark.sql import SparkSession\n",
        "\n",
        "from pyspark.sql.functions import *\n",
        "\n",
        "spark=SparkSession.builder.appName(\"learning\").getOrCreate()\n",
        "\n",
        "sessions_data = [\n",
        "    (1, 1, '2024-01-01 00:00:00'),\n",
        "    (2, 2, '2024-01-02 00:00:00'),\n",
        "    (3, 3, '2024-01-05 00:00:00'),\n",
        "    (4, 3, '2024-01-05 00:00:00'),\n",
        "    (5, 4, '2024-01-03 00:00:00'),\n",
        "    (6, 4, '2024-01-03 00:00:00'),\n",
        "    (7, 5, '2024-01-04 00:00:00'),\n",
        "    (8, 5, '2024-01-04 00:00:00'),\n",
        "    (9, 3, '2024-01-05 00:00:00'),\n",
        "    (10, 5, '2024-01-04 00:00:00')\n",
        "]\n",
        "\n",
        "\n",
        "orders_data = [\n",
        "    (1, 1, 152, '2024-01-01 00:00:00'),\n",
        "    (2, 2, 485, '2024-01-02 00:00:00'),\n",
        "    (3, 3, 398, '2024-01-05 00:00:00'),\n",
        "    (4, 3, 320, '2024-01-05 00:00:00'),\n",
        "    (5, 4, 156, '2024-01-03 00:00:00'),\n",
        "    (6, 4, 121, '2024-01-03 00:00:00'),\n",
        "    (7, 5, 238, '2024-01-04 00:00:00'),\n",
        "    (8, 5, 70, '2024-01-04 00:00:00'),\n",
        "    (9, 3, 152, '2024-01-05 00:00:00'),\n",
        "    (10, 5, 171, '2024-01-04 00:00:00')\n",
        "]\n",
        "\n",
        "\n",
        "sessions_df = spark.createDataFrame(sessions_data, [\"session_id\", \"user_id\", \"session_date\"]).withColumn(\"session_date\",to_date(col('session_date')))\n",
        "\n",
        "sessions_df.show()\n",
        "orders_df = spark.createDataFrame(orders_data, [\"order_id\", \"user_id\", \"order_value\", \"order_date\"]).withColumn(\"order_date\",to_date(col('order_date')))\n",
        "orders_df.show()\n",
        "\n",
        "df1=sessions_df.alias('s').join(orders_df.alias('o'),(col('s.user_id') ==col('o.user_id')) & (col('s.session_date')==col('o.order_date')),\"inner\")\n",
        "\n",
        "df1.show()\n",
        "\n",
        "df2=df1.groupBy('s.user_id','s.session_date').agg(count('o.order_id').alias('total_orders'),sum('o.order_value').alias('total_order_value'))\n",
        "\n",
        "df2.show()\n",
        "\n",
        "\n"
      ],
      "metadata": {
        "colab": {
          "base_uri": "https://localhost:8080/"
        },
        "id": "dTt_xCfrXA9l",
        "outputId": "32082157-fe6c-4877-dec6-6d2eaa4db8f9"
      },
      "execution_count": 11,
      "outputs": [
        {
          "output_type": "stream",
          "name": "stdout",
          "text": [
            "+----------+-------+------------+\n",
            "|session_id|user_id|session_date|\n",
            "+----------+-------+------------+\n",
            "|         1|      1|  2024-01-01|\n",
            "|         2|      2|  2024-01-02|\n",
            "|         3|      3|  2024-01-05|\n",
            "|         4|      3|  2024-01-05|\n",
            "|         5|      4|  2024-01-03|\n",
            "|         6|      4|  2024-01-03|\n",
            "|         7|      5|  2024-01-04|\n",
            "|         8|      5|  2024-01-04|\n",
            "|         9|      3|  2024-01-05|\n",
            "|        10|      5|  2024-01-04|\n",
            "+----------+-------+------------+\n",
            "\n",
            "+--------+-------+-----------+----------+\n",
            "|order_id|user_id|order_value|order_date|\n",
            "+--------+-------+-----------+----------+\n",
            "|       1|      1|        152|2024-01-01|\n",
            "|       2|      2|        485|2024-01-02|\n",
            "|       3|      3|        398|2024-01-05|\n",
            "|       4|      3|        320|2024-01-05|\n",
            "|       5|      4|        156|2024-01-03|\n",
            "|       6|      4|        121|2024-01-03|\n",
            "|       7|      5|        238|2024-01-04|\n",
            "|       8|      5|         70|2024-01-04|\n",
            "|       9|      3|        152|2024-01-05|\n",
            "|      10|      5|        171|2024-01-04|\n",
            "+--------+-------+-----------+----------+\n",
            "\n",
            "+----------+-------+------------+--------+-------+-----------+----------+\n",
            "|session_id|user_id|session_date|order_id|user_id|order_value|order_date|\n",
            "+----------+-------+------------+--------+-------+-----------+----------+\n",
            "|         1|      1|  2024-01-01|       1|      1|        152|2024-01-01|\n",
            "|         2|      2|  2024-01-02|       2|      2|        485|2024-01-02|\n",
            "|         3|      3|  2024-01-05|       3|      3|        398|2024-01-05|\n",
            "|         3|      3|  2024-01-05|       4|      3|        320|2024-01-05|\n",
            "|         3|      3|  2024-01-05|       9|      3|        152|2024-01-05|\n",
            "|         4|      3|  2024-01-05|       3|      3|        398|2024-01-05|\n",
            "|         4|      3|  2024-01-05|       4|      3|        320|2024-01-05|\n",
            "|         4|      3|  2024-01-05|       9|      3|        152|2024-01-05|\n",
            "|         9|      3|  2024-01-05|       3|      3|        398|2024-01-05|\n",
            "|         9|      3|  2024-01-05|       4|      3|        320|2024-01-05|\n",
            "|         9|      3|  2024-01-05|       9|      3|        152|2024-01-05|\n",
            "|         5|      4|  2024-01-03|       5|      4|        156|2024-01-03|\n",
            "|         5|      4|  2024-01-03|       6|      4|        121|2024-01-03|\n",
            "|         6|      4|  2024-01-03|       5|      4|        156|2024-01-03|\n",
            "|         6|      4|  2024-01-03|       6|      4|        121|2024-01-03|\n",
            "|         7|      5|  2024-01-04|       7|      5|        238|2024-01-04|\n",
            "|         7|      5|  2024-01-04|       8|      5|         70|2024-01-04|\n",
            "|         7|      5|  2024-01-04|      10|      5|        171|2024-01-04|\n",
            "|         8|      5|  2024-01-04|       7|      5|        238|2024-01-04|\n",
            "|         8|      5|  2024-01-04|       8|      5|         70|2024-01-04|\n",
            "+----------+-------+------------+--------+-------+-----------+----------+\n",
            "only showing top 20 rows\n",
            "\n",
            "+-------+------------+------------+-----------------+\n",
            "|user_id|session_date|total_orders|total_order_value|\n",
            "+-------+------------+------------+-----------------+\n",
            "|      1|  2024-01-01|           1|              152|\n",
            "|      2|  2024-01-02|           1|              485|\n",
            "|      3|  2024-01-05|           9|             2610|\n",
            "|      4|  2024-01-03|           4|              554|\n",
            "|      5|  2024-01-04|           9|             1437|\n",
            "+-------+------------+------------+-----------------+\n",
            "\n"
          ]
        }
      ]
    }
  ]
}