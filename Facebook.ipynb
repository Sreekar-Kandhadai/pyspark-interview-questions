{
  "nbformat": 4,
  "nbformat_minor": 0,
  "metadata": {
    "colab": {
      "provenance": [],
      "authorship_tag": "ABX9TyMTWg61rfPCP3WzrfHdHKxv",
      "include_colab_link": true
    },
    "kernelspec": {
      "name": "python3",
      "display_name": "Python 3"
    },
    "language_info": {
      "name": "python"
    }
  },
  "cells": [
    {
      "cell_type": "markdown",
      "metadata": {
        "id": "view-in-github",
        "colab_type": "text"
      },
      "source": [
        "<a href=\"https://colab.research.google.com/github/Sreekar-Kandhadai/pyspark-interview-questions/blob/main/Facebook.ipynb\" target=\"_parent\"><img src=\"https://colab.research.google.com/assets/colab-badge.svg\" alt=\"Open In Colab\"/></a>"
      ]
    },
    {
      "cell_type": "code",
      "execution_count": null,
      "metadata": {
        "id": "7XlJxPKAbOhn"
      },
      "outputs": [],
      "source": [
        "We are given a table named famous that tracks user-follow relationships. Each record in the table represents a user_id and a follower_id,\n",
        "where the follower_id is following the user_id. Our task is to calculate the \"famous percentage\" for each user, which is defined as:\n",
        "\n",
        "Famous Percentage= Number of Followers of a User\n",
        "                  ------------------------------------- * 100\n",
        "                  Total Number of Users on the Platform\n",
        "\n",
        "famous_data = [\n",
        "    (1, 2), (1, 3), (2, 4), (5, 1), (5, 3),\n",
        "    (11, 7), (12, 8), (13, 5), (13, 10),\n",
        "    (14, 12), (14, 3), (15, 14), (15, 13)\n",
        "]\n",
        "\n",
        "columns = [\"user_id\", \"follower_id\"]\n",
        "\n"
      ]
    },
    {
      "cell_type": "code",
      "source": [
        "from pyspark.sql import SparkSession\n",
        "\n",
        "from pyspark.sql.functions import *\n",
        "\n",
        "spark=SparkSession.builder.appName(\"FamousPercentage\").getOrCreate()\n",
        "\n",
        "famous_data = [\n",
        "    (1, 2), (1, 3), (2, 4), (5, 1), (5, 3),\n",
        "    (11, 7), (12, 8), (13, 5), (13, 10),\n",
        "    (14, 12), (14, 3), (15, 14), (15, 13)\n",
        "]\n",
        "\n",
        "schema = [\"user_id\", \"follower_id\"]\n",
        "\n",
        "df=spark.createDataFrame(famous_data,schema)\n",
        "\n",
        "df.show()\n",
        "\n",
        "totalUserCount=df.select(\"user_id\").union(df.select(\"follower_id\")).distinct().count()\n",
        "\n",
        "print(\"totalUserCount :\", totalUserCount)\n",
        "\n",
        "df1=df.groupBy('user_id').agg(countDistinct('follower_id').alias('follower_count'))\\\n",
        ".withColumn('famous_percentage',(col('follower_count')/totalUserCount)*100)\n",
        "\n",
        "df1.show()"
      ],
      "metadata": {
        "colab": {
          "base_uri": "https://localhost:8080/"
        },
        "id": "r2BsSTUhcALH",
        "outputId": "704652f6-9f49-43a6-b1b9-e8527e66670d"
      },
      "execution_count": 7,
      "outputs": [
        {
          "output_type": "stream",
          "name": "stdout",
          "text": [
            "+-------+-----------+\n",
            "|user_id|follower_id|\n",
            "+-------+-----------+\n",
            "|      1|          2|\n",
            "|      1|          3|\n",
            "|      2|          4|\n",
            "|      5|          1|\n",
            "|      5|          3|\n",
            "|     11|          7|\n",
            "|     12|          8|\n",
            "|     13|          5|\n",
            "|     13|         10|\n",
            "|     14|         12|\n",
            "|     14|          3|\n",
            "|     15|         14|\n",
            "|     15|         13|\n",
            "+-------+-----------+\n",
            "\n",
            "totalUserCount : 13\n",
            "+-------+--------------+------------------+\n",
            "|user_id|follower_count| famous_percentage|\n",
            "+-------+--------------+------------------+\n",
            "|      5|             2|15.384615384615385|\n",
            "|      1|             2|15.384615384615385|\n",
            "|     12|             1|7.6923076923076925|\n",
            "|     11|             1|7.6923076923076925|\n",
            "|      2|             1|7.6923076923076925|\n",
            "|     13|             2|15.384615384615385|\n",
            "|     14|             2|15.384615384615385|\n",
            "|     15|             2|15.384615384615385|\n",
            "+-------+--------------+------------------+\n",
            "\n"
          ]
        }
      ]
    }
  ]
}